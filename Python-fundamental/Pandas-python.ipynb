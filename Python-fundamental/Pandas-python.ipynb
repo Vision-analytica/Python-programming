{
 "cells": [
  {
   "attachments": {},
   "cell_type": "markdown",
   "metadata": {},
   "source": [
    "<img src=\"PANDAS.png\" width=1500 height=500 />\n",
    "\n",
    "\n",
    "For reference follow the Pandas documentation at [Pandas documentation](https://pandas.pydata.org/pandas-docs/stable/user_guide/10min.html)"
   ]
  },
  {
   "attachments": {},
   "cell_type": "markdown",
   "metadata": {},
   "source": [
    "# Data analysis with python - **Pandas**\n",
    "\n",
    "- Pandas is a Python library that provides data structures and data analysis tools for handling and manipulating numerical tables and time series data.\n",
    "-  It is built on top of the popular data manipulation library, numpy, and is widely used for data preparation and wrangling tasks in data science and machine learning workflows. \n",
    "- Some of the key features of pandas include its fast and efficient handling of large datasets, powerful data manipulation and cleaning capabilities, and support for a wide range of file formats and data sources."
   ]
  },
  {
   "attachments": {},
   "cell_type": "markdown",
   "metadata": {},
   "source": [
    "## Main Features of PANDAS\n",
    "\n",
    "The main features of PANDAS library\n",
    "\n",
    "- **Easy handling of missing data:** Easy handling of missing data (represented as `NaN`, `NA`, or `NaT`) in floating point as well as non-floating point data \n",
    "- **Size mutability:** columns can be inserted and deleted from DataFrame and higher dimensional objects\n",
    "- **Automatic and explicit data alignment:** objects can be explicitly aligned to a set of labels, or the user can simply ignore the labels and let `Series`, `DataFrame`, etc. automatically align the data for you in computations\n",
    "- **Groupby:** Powerful, flexible group by functionality to perform split-apply-combine operations on data sets, for both aggregating and transforming data\n",
    "- **Data conversion:** Make it easy to convert ragged, differently-indexed data in other Python and NumPy data structures into DataFrame objects\n",
    "- **Data manipulation:** \n",
    "    - Intelligent label-based slicing, fancy indexing, and subsetting of large data sets\n",
    "    - Intuitive merging and joining data sets\n",
    "    - Flexible reshaping and pivoting of data sets\n",
    "    - Hierarchical labeling of axes (possible to have multiple labels per tick)\n",
    "- **Type of data handling:** Robust IO tools for loading data from flat files (`CSV` and `delimited`), Excel files, databases, and saving/loading data from the ultrafast `HDF5` format\n",
    "- **Time series-specific functionality:** date range generation and frequency conversion, moving window statistics, date shifting and lagging.\n",
    "\n"
   ]
  },
  {
   "attachments": {},
   "cell_type": "markdown",
   "metadata": {},
   "source": [
    "![Python](https://img.shields.io/badge/python-3670A0?style=flat&logo=python&logoColor=ffdd54) ![Anaconda](https://img.shields.io/badge/Anaconda-%2344A833.svg?style=flat&logo=anaconda&logoColor=white) \n",
    "![NumPy](https://img.shields.io/badge/numpy-%23013243.svg?style=flat&logo=numpy&logoColor=white) ![Pandas](https://img.shields.io/badge/pandas-%23150458.svg?style=flat&logo=pandas&logoColor=white)"
   ]
  },
  {
   "attachments": {},
   "cell_type": "markdown",
   "metadata": {},
   "source": [
    "## NumPy vs Pandas\n",
    "\n",
    "<table><tr>\n",
    "<td> <img src=\"Numpy-1.png\" alt=\"Drawing\" style=\"width: 650px;\"/> </td>\n",
    "<td> <img src=\"Pandas-1.png\" alt=\"Drawing\" style=\"width: 650px;\"/> </td>\n",
    "</tr></table>\n",
    "\n",
    "[Image refeerence](https://favtutor.com/blogs/numpy-vs-pandas)"
   ]
  },
  {
   "attachments": {},
   "cell_type": "markdown",
   "metadata": {},
   "source": [
    "| **Comparison Parameter** |  **NumPy** | **Pandas** |\n",
    "|----------------------|--------|--------|\n",
    "| **Powerful Tool** | _A powerful tool of NumPy is Arrays_ | _A powerful tool of Pandas is Data frames and a Series_ |\n",
    "| **Memory Consumption** | _NumPy is memory efficient_ | _Pandas consume more memory_ |\n",
    "| **Data Compatibility** | _Works with numerical data_ | _Works with tabular data_ |\n",
    "| **Performance** | _Better performance when the number of rows is 50K or less_ | _Better performance when the number of rows is 500k or more_ |\n",
    "| **Speed** | _Faster than data frames_ | _Relatively slower than arrays_ |\n",
    "| **Data Object** | _Creates “N” dimensional objects_ | _Creates “2D” objects_ |\n",
    "| **Type of Data** | _Homogenous data type_ | _Heterogenous data type_ |\n",
    "| **Access Methods** | _Using only index position_ | _Using index position or index labels_ |\n",
    "| **Indexing** | _Indexing in NumPy arrays is very fast_ | _Indexing in Pandas series is very slow_ |\n",
    "| **Operations** | _Does not have any additional functions_ | _Provides special utilities such as “groupby” to access and manipulate subsets_ |\n",
    "| **External Data** | _Generally used data created by the user or built-in function_ | _Pandas object created by external data such as CSV, Excel, or SQL_ |\n",
    "| **Application** | _NumPy is popular for numerical calculations_ | _Pandas is popular for data analysis and visualizations_ |\n",
    "| **Usage in ML and AI** | _Toolkits can like TensorFlow and scikit can only be fed using NumPy arrays_ | _Pandas series cannot be directly fed as input toolkits_ |\n",
    "| **Core Language** | _NumPy was written in C programming initially_ | _Pandas use R language for reference language_ |\n",
    "\n",
    "\n",
    "Python libraries like NumPy and Pandas are often used together for data manipulations and numerical operations.\n",
    "\n",
    "For more details on Numpy library, pleasee follow the Numpy notebook on my repository on Github: [Numy notebook on Github repository](https://github.com/arunsinp/Python-programming/blob/main/Python-fundamental/Numpy-tutorial.ipynb)"
   ]
  },
  {
   "cell_type": "code",
   "execution_count": 2,
   "metadata": {},
   "outputs": [],
   "source": [
    "# To import Pandas library to your notebook\n",
    "import pandas as pd\n",
    "# For most times, numpy should also be imported to the notebook\n",
    "import numpy as np"
   ]
  },
  {
   "attachments": {},
   "cell_type": "markdown",
   "metadata": {},
   "source": [
    "## 1. Input/output\n",
    "\n"
   ]
  },
  {
   "cell_type": "markdown",
   "metadata": {},
   "source": []
  },
  {
   "cell_type": "code",
   "execution_count": null,
   "metadata": {},
   "outputs": [],
   "source": []
  },
  {
   "cell_type": "code",
   "execution_count": null,
   "metadata": {},
   "outputs": [],
   "source": []
  },
  {
   "cell_type": "code",
   "execution_count": null,
   "metadata": {},
   "outputs": [],
   "source": []
  },
  {
   "cell_type": "code",
   "execution_count": null,
   "metadata": {},
   "outputs": [],
   "source": []
  },
  {
   "cell_type": "code",
   "execution_count": null,
   "metadata": {},
   "outputs": [],
   "source": []
  },
  {
   "cell_type": "code",
   "execution_count": null,
   "metadata": {},
   "outputs": [],
   "source": []
  },
  {
   "cell_type": "code",
   "execution_count": null,
   "metadata": {},
   "outputs": [],
   "source": []
  },
  {
   "cell_type": "code",
   "execution_count": null,
   "metadata": {},
   "outputs": [],
   "source": []
  },
  {
   "cell_type": "code",
   "execution_count": null,
   "metadata": {},
   "outputs": [],
   "source": []
  },
  {
   "cell_type": "code",
   "execution_count": null,
   "metadata": {},
   "outputs": [],
   "source": []
  },
  {
   "attachments": {},
   "cell_type": "markdown",
   "metadata": {},
   "source": [
    "# References\n",
    "\n",
    "1. https://pandas.pydata.org/docs/user_guide/index.html#user-guide\n",
    "2. https://pandas.pydata.org/docs/"
   ]
  }
 ],
 "metadata": {
  "kernelspec": {
   "display_name": "base",
   "language": "python",
   "name": "python3"
  },
  "language_info": {
   "codemirror_mode": {
    "name": "ipython",
    "version": 3
   },
   "file_extension": ".py",
   "mimetype": "text/x-python",
   "name": "python",
   "nbconvert_exporter": "python",
   "pygments_lexer": "ipython3",
   "version": "3.8.5"
  },
  "orig_nbformat": 4,
  "vscode": {
   "interpreter": {
    "hash": "0d04f405d2d9f997a1c8fb17225385de1b77f3241aa7fee88351a0aeb2b31b8a"
   }
  }
 },
 "nbformat": 4,
 "nbformat_minor": 2
}
