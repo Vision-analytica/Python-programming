{
 "cells": [
  {
   "attachments": {},
   "cell_type": "markdown",
   "metadata": {},
   "source": [
    "# Pandas"
   ]
  },
  {
   "attachments": {},
   "cell_type": "markdown",
   "metadata": {},
   "source": [
    "<img src=\"PANDAS.png\" width=1500 height=500 />\n",
    "\n",
    "\n",
    "For reference follow the Pandas documentation at [Pandas documentation](https://pandas.pydata.org/pandas-docs/stable/user_guide/10min.html)"
   ]
  },
  {
   "attachments": {},
   "cell_type": "markdown",
   "metadata": {},
   "source": [
    "# Data analysis with python - **Pandas**\n",
    "\n",
    "- Pandas is a Python library that provides data structures and data analysis tools for handling and manipulating numerical tables and time series data.\n",
    "-  It is built on top of the popular data manipulation library, numpy, and is widely used for data preparation and wrangling tasks in data science and machine learning workflows. \n",
    "- Some of the key features of pandas include its fast and efficient handling of large datasets, powerful data manipulation and cleaning capabilities, and support for a wide range of file formats and data sources."
   ]
  },
  {
   "attachments": {},
   "cell_type": "markdown",
   "metadata": {},
   "source": [
    "## Main Features of PANDAS\n",
    "\n",
    "The main features of PANDAS library\n",
    "\n",
    "- **Easy handling of missing data:** Easy handling of missing data (represented as `NaN`, `NA`, or `NaT`) in floating point as well as non-floating point data \n",
    "- **Size mutability:** columns can be inserted and deleted from DataFrame and higher dimensional objects\n",
    "- **Automatic and explicit data alignment:** objects can be explicitly aligned to a set of labels, or the user can simply ignore the labels and let `Series`, `DataFrame`, etc. automatically align the data for you in computations\n",
    "- **Groupby:** Powerful, flexible group by functionality to perform split-apply-combine operations on data sets, for both aggregating and transforming data\n",
    "- **Data conversion:** Make it easy to convert ragged, differently-indexed data in other Python and NumPy data structures into DataFrame objects\n",
    "- **Data manipulation:** \n",
    "    - Intelligent label-based slicing, fancy indexing, and subsetting of large data sets\n",
    "    - Intuitive merging and joining data sets\n",
    "    - Flexible reshaping and pivoting of data sets\n",
    "    - Hierarchical labeling of axes (possible to have multiple labels per tick)\n",
    "- **Type of data handling:** Robust IO tools for loading data from flat files (`CSV` and `delimited`), Excel files, databases, and saving/loading data from the ultrafast `HDF5` format\n",
    "- **Time series-specific functionality:** date range generation and frequency conversion, moving window statistics, date shifting and lagging.\n",
    "\n"
   ]
  },
  {
   "attachments": {},
   "cell_type": "markdown",
   "metadata": {},
   "source": [
    "![Python](https://img.shields.io/badge/python-3670A0?style=flat&logo=python&logoColor=ffdd54) ![Anaconda](https://img.shields.io/badge/Anaconda-%2344A833.svg?style=flat&logo=anaconda&logoColor=white) \n",
    "![NumPy](https://img.shields.io/badge/numpy-%23013243.svg?style=flat&logo=numpy&logoColor=white) ![Pandas](https://img.shields.io/badge/pandas-%23150458.svg?style=flat&logo=pandas&logoColor=white)"
   ]
  },
  {
   "attachments": {},
   "cell_type": "markdown",
   "metadata": {},
   "source": [
    "## NumPy vs Pandas\n",
    "\n",
    "<table><tr>\n",
    "<td> <img src=\"Numpy-1.png\" alt=\"Drawing\" style=\"width: 650px;\"/> </td>\n",
    "<td> <img src=\"Pandas-1.png\" alt=\"Drawing\" style=\"width: 650px;\"/> </td>\n",
    "</tr></table>\n",
    "\n",
    "[Image refeerence](https://favtutor.com/blogs/numpy-vs-pandas)"
   ]
  },
  {
   "attachments": {},
   "cell_type": "markdown",
   "metadata": {},
   "source": [
    "| **Comparison Parameter** |  **NumPy** | **Pandas** |\n",
    "|----------------------|--------|--------|\n",
    "| **Powerful Tool** | _A powerful tool of NumPy is Arrays_ | _A powerful tool of Pandas is Data frames and a Series_ |\n",
    "| **Memory Consumption** | _NumPy is memory efficient_ | _Pandas consume more memory_ |\n",
    "| **Data Compatibility** | _Works with numerical data_ | _Works with tabular data_ |\n",
    "| **Performance** | _Better performance when the number of rows is 50K or less_ | _Better performance when the number of rows is 500k or more_ |\n",
    "| **Speed** | _Faster than data frames_ | _Relatively slower than arrays_ |\n",
    "| **Data Object** | _Creates “N” dimensional objects_ | _Creates “2D” objects_ |\n",
    "| **Type of Data** | _Homogenous data type_ | _Heterogenous data type_ |\n",
    "| **Access Methods** | _Using only index position_ | _Using index position or index labels_ |\n",
    "| **Indexing** | _Indexing in NumPy arrays is very fast_ | _Indexing in Pandas series is very slow_ |\n",
    "| **Operations** | _Does not have any additional functions_ | _Provides special utilities such as “groupby” to access and manipulate subsets_ |\n",
    "| **External Data** | _Generally used data created by the user or built-in function_ | _Pandas object created by external data such as CSV, Excel, or SQL_ |\n",
    "| **Application** | _NumPy is popular for numerical calculations_ | _Pandas is popular for data analysis and visualizations_ |\n",
    "| **Usage in ML and AI** | _Toolkits can like TensorFlow and scikit can only be fed using NumPy arrays_ | _Pandas series cannot be directly fed as input toolkits_ |\n",
    "| **Core Language** | _NumPy was written in C programming initially_ | _Pandas use R language for reference language_ |\n",
    "\n",
    "\n",
    "Python libraries like NumPy and Pandas are often used together for data manipulations and numerical operations.\n",
    "\n",
    "For more details on Numpy library, pleasee follow the Numpy notebook on my repository on Github: [Numy notebook on Github repository](https://github.com/arunsinp/Python-programming/blob/main/Python-fundamental/Numpy-tutorial.ipynb)"
   ]
  },
  {
   "cell_type": "code",
   "execution_count": 2,
   "metadata": {},
   "outputs": [],
   "source": [
    "# To import Pandas library to your notebook\n",
    "import pandas as pd\n",
    "# For most times, numpy should also be imported to the notebook\n",
    "import numpy as np"
   ]
  },
  {
   "attachments": {},
   "cell_type": "markdown",
   "metadata": {},
   "source": [
    "# Pandas Data Structures\n",
    "\n",
    "Pandas supports two data structures:\n",
    "- Series\n",
    "- Dataframe\n",
    "\n",
    "Both DataFrame and Series have powerful methods for handling missing data, performing data cleaning and wrangling, and handling time series data. They also provide built-in functions for statistical analysis, data visualization, and machine learning.\n",
    "\n",
    "Let's start the two data structure one by one below.\n",
    "\n",
    "1. **Series:** _A Series is a one-dimensional array-like object that can hold any data type. It is similar to a column in a DataFrame. Series can be created from various data types, including lists, numpy arrays, and dictionaries. Each element in a Series has a unique label, called the index, which can be used to access the elements in the Series_.\n",
    "\n",
    "    Syntax: \n",
    "    \n",
    "    `pandas.Series(data=None, index=None, dtype=None, name=None, copy=False, fastpath=False)`\n",
    "\n",
    "    Parameters:\n",
    "\n",
    "    - `data`: array- Contains data stored in Series.\n",
    "    - `index`: array-like or Index (1d)\n",
    "    - `dtype`: str, numpy.dtype, or ExtensionDtype, optional\n",
    "    - `name`: str, optional\n",
    "    - `copy`: bool, default False\n",
    "\n",
    "2. **Dataframe:** _A DataFrame is a two-dimensional size-mutable, tabular data structure with rows and columns. It is similar to a spreadsheet or a SQL table. DataFrames can be created from various sources including CSV files, Excel files, and SQL databases. They can also be created from lists, numpy arrays, and dictionaries. DataFrames can be manipulated using various methods such as indexing, slicing, and groupby._\n",
    "\n",
    "    Syntex of the data frame creation:\n",
    "\n",
    "    `pandas.DataFrame(data, index, columns)`\n",
    "\n",
    "    where:\n",
    "\n",
    "    * `data`: It is a dataset from which dataframe is to be created. It can be list, dictionary, scalar value, series, ndarrays, etc.\n",
    "    * `index`: It is optional, by default the index of the dataframe starts from 0 and ends at the last data value(n-1). It defines the row label explicitly.\n",
    "    * `columns`: This parameter is used to provide column names in the dataframe. If the column name is not defined by default, it will take a value from 0 to n-1.\n",
    "\n",
    "\n",
    "    Data in higher dimensions are supported within DataFrame using a concept called hierarchical indexing. \n",
    "    \n",
    "    Pandas DataFrame consists of three principal components, the data, rows, and columns. (A example dataframe is shown below [Reference](https://devopedia.org/pandas-data-structures)).\n",
    "\n",
    "    <img src=\"https://devopedia.org/images/article/304/7205.1610253721.jpg\" width=800 height=400/>\n",
    "\n",
    "    Pandas DataFrame can be created in multiple ways. Let’s discuss different ways to create a DataFrame one by one.\n",
    "\n",
    "    - Creating an empty dataframe\n",
    "    - Creating a dataframe using List\n",
    "    - Creating DataFrame from dict of ndarray/lists\n",
    "    - Create pandas dataframe from lists using dictionary\n",
    "\n",
    "    See examples below."
   ]
  },
  {
   "attachments": {},
   "cell_type": "markdown",
   "metadata": {},
   "source": [
    "##### Example on series"
   ]
  },
  {
   "cell_type": "code",
   "execution_count": 16,
   "metadata": {},
   "outputs": [
    {
     "name": "stdout",
     "output_type": "stream",
     "text": [
      "0    P\n",
      "1    A\n",
      "2    N\n",
      "3    D\n",
      "4    A\n",
      "5    S\n",
      "dtype: object\n"
     ]
    }
   ],
   "source": [
    "# Series holding the char data type.\n",
    "# a simple char list\n",
    "list = ['P', 'A', 'N', 'D', 'A', 'S']\n",
    "   \n",
    "# create series form a char list\n",
    "res = pd.Series(list)\n",
    "print(res)"
   ]
  },
  {
   "cell_type": "code",
   "execution_count": 12,
   "metadata": {},
   "outputs": [
    {
     "name": "stdout",
     "output_type": "stream",
     "text": [
      "0    1\n",
      "1    2\n",
      "2    3\n",
      "3    4\n",
      "4    5\n",
      "dtype: int64\n"
     ]
    }
   ],
   "source": [
    "#Series holding the Int data type.\n",
    "# a simple int list\n",
    "list = [1,2,3,4,5]\n",
    "   \n",
    "# create series form a int list\n",
    "res = pd.Series(list)\n",
    "print(res)"
   ]
  },
  {
   "cell_type": "code",
   "execution_count": 17,
   "metadata": {},
   "outputs": [
    {
     "name": "stdout",
     "output_type": "stream",
     "text": [
      "Id         1013\n",
      "Name     Pandas\n",
      "State    Python\n",
      "Age        2008\n",
      "dtype: object\n"
     ]
    }
   ],
   "source": [
    "# Series holding the dictionary.\n",
    "dic = { 'Id': 1013, \n",
    "        'Name': 'Pandas',\n",
    "        'State': 'Python',\n",
    "        'Age': 2008}\n",
    " \n",
    "res = pd.Series(dic)\n",
    "print(res)"
   ]
  },
  {
   "attachments": {},
   "cell_type": "markdown",
   "metadata": {},
   "source": [
    "##### Examples on dataframe"
   ]
  },
  {
   "cell_type": "code",
   "execution_count": 14,
   "metadata": {},
   "outputs": [
    {
     "name": "stdout",
     "output_type": "stream",
     "text": [
      "Empty DataFrame\n",
      "Columns: []\n",
      "Index: []\n"
     ]
    }
   ],
   "source": [
    "# Creating an empty dataframe\n",
    "# Calling DataFrame constructor\n",
    "df = pd.DataFrame()\n",
    " \n",
    "print(df)"
   ]
  },
  {
   "cell_type": "code",
   "execution_count": 18,
   "metadata": {},
   "outputs": [
    {
     "name": "stdout",
     "output_type": "stream",
     "text": [
      "              0\n",
      "0        Python\n",
      "1           was\n",
      "2         first\n",
      "3          time\n",
      "4      released\n",
      "5            on\n",
      "6  Jan 11, 2008\n"
     ]
    }
   ],
   "source": [
    "# Creating a dataframe using List\n",
    "# list of strings\n",
    "lst = ['Python', 'was', 'first', 'time', 'released', 'on', 'Jan 11, 2008']\n",
    " \n",
    "# Calling DataFrame constructor on list\n",
    "df = pd.DataFrame(lst)\n",
    "print(df)"
   ]
  },
  {
   "cell_type": "code",
   "execution_count": 20,
   "metadata": {},
   "outputs": [
    {
     "name": "stdout",
     "output_type": "stream",
     "text": [
      "    Name  Age\n",
      "0    Tom   20\n",
      "1   nick   21\n",
      "2  krish   19\n",
      "3   jack   18\n"
     ]
    }
   ],
   "source": [
    "# Creating DataFrame from dict of ndarray/lists\n",
    "# initialise data of lists.\n",
    "data = {'Name':['Tom', 'nick', 'krish', 'jack'], \n",
    "        'Age':[20, 21, 19, 18]}\n",
    " \n",
    "# Create DataFrame\n",
    "df = pd.DataFrame(data)\n",
    " \n",
    "# Print the output.\n",
    "print(df)"
   ]
  },
  {
   "cell_type": "code",
   "execution_count": 21,
   "metadata": {},
   "outputs": [
    {
     "name": "stdout",
     "output_type": "stream",
     "text": [
      "     name  degree  score\n",
      "0  aparna     MBA     90\n",
      "1  pankaj     BCA     40\n",
      "2  sudhir  M.Tech     80\n",
      "3   Geeku     MBA     98\n"
     ]
    }
   ],
   "source": [
    "# Creating pandas dataframe from lists using dictionary\n",
    "# dictionary of lists\n",
    "dict = {'name':[\"aparna\", \"pankaj\", \"sudhir\", \"Geeku\"],\n",
    "        'degree': [\"MBA\", \"BCA\", \"M.Tech\", \"MBA\"],\n",
    "        'score':[90, 40, 80, 98]}\n",
    " \n",
    "df = pd.DataFrame(dict)\n",
    " \n",
    "print(df)\n"
   ]
  },
  {
   "cell_type": "code",
   "execution_count": 22,
   "metadata": {},
   "outputs": [
    {
     "data": {
      "text/html": [
       "<div>\n",
       "<style scoped>\n",
       "    .dataframe tbody tr th:only-of-type {\n",
       "        vertical-align: middle;\n",
       "    }\n",
       "\n",
       "    .dataframe tbody tr th {\n",
       "        vertical-align: top;\n",
       "    }\n",
       "\n",
       "    .dataframe thead th {\n",
       "        text-align: right;\n",
       "    }\n",
       "</style>\n",
       "<table border=\"1\" class=\"dataframe\">\n",
       "  <thead>\n",
       "    <tr style=\"text-align: right;\">\n",
       "      <th></th>\n",
       "      <th>Name</th>\n",
       "      <th>marks</th>\n",
       "    </tr>\n",
       "  </thead>\n",
       "  <tbody>\n",
       "    <tr>\n",
       "      <th>rank1</th>\n",
       "      <td>Tom</td>\n",
       "      <td>99</td>\n",
       "    </tr>\n",
       "    <tr>\n",
       "      <th>rank2</th>\n",
       "      <td>Jack</td>\n",
       "      <td>98</td>\n",
       "    </tr>\n",
       "    <tr>\n",
       "      <th>rank3</th>\n",
       "      <td>nick</td>\n",
       "      <td>95</td>\n",
       "    </tr>\n",
       "    <tr>\n",
       "      <th>rank4</th>\n",
       "      <td>juli</td>\n",
       "      <td>90</td>\n",
       "    </tr>\n",
       "  </tbody>\n",
       "</table>\n",
       "</div>"
      ],
      "text/plain": [
       "       Name  marks\n",
       "rank1   Tom     99\n",
       "rank2  Jack     98\n",
       "rank3  nick     95\n",
       "rank4  juli     90"
      ]
     },
     "execution_count": 22,
     "metadata": {},
     "output_type": "execute_result"
    }
   ],
   "source": [
    "# creating a DataFrame by proving index label explicitly.\n",
    "# initialize data of lists.\n",
    "data = {'Name': ['Tom', 'Jack', 'nick', 'juli'],\n",
    "        'marks': [99, 98, 95, 90]}\n",
    "  \n",
    "# Creates pandas DataFrame.\n",
    "df = pd.DataFrame(data, index=['rank1',\n",
    "                               'rank2',\n",
    "                               'rank3',\n",
    "                               'rank4'])\n",
    "  \n",
    "# print the data\n",
    "df"
   ]
  },
  {
   "cell_type": "code",
   "execution_count": 24,
   "metadata": {},
   "outputs": [
    {
     "data": {
      "text/html": [
       "<div>\n",
       "<style scoped>\n",
       "    .dataframe tbody tr th:only-of-type {\n",
       "        vertical-align: middle;\n",
       "    }\n",
       "\n",
       "    .dataframe tbody tr th {\n",
       "        vertical-align: top;\n",
       "    }\n",
       "\n",
       "    .dataframe thead th {\n",
       "        text-align: right;\n",
       "    }\n",
       "</style>\n",
       "<table border=\"1\" class=\"dataframe\">\n",
       "  <thead>\n",
       "    <tr style=\"text-align: right;\">\n",
       "      <th></th>\n",
       "      <th>b</th>\n",
       "      <th>c</th>\n",
       "      <th>a</th>\n",
       "    </tr>\n",
       "  </thead>\n",
       "  <tbody>\n",
       "    <tr>\n",
       "      <th>first</th>\n",
       "      <td>2</td>\n",
       "      <td>3</td>\n",
       "      <td>NaN</td>\n",
       "    </tr>\n",
       "    <tr>\n",
       "      <th>second</th>\n",
       "      <td>20</td>\n",
       "      <td>30</td>\n",
       "      <td>10.0</td>\n",
       "    </tr>\n",
       "  </tbody>\n",
       "</table>\n",
       "</div>"
      ],
      "text/plain": [
       "         b   c     a\n",
       "first    2   3   NaN\n",
       "second  20  30  10.0"
      ]
     },
     "execution_count": 24,
     "metadata": {},
     "output_type": "execute_result"
    }
   ],
   "source": [
    "# creating pandas DataFrame by passing lists of dictionaries and row indexes.\n",
    "# Initialize data of lists\n",
    "data = [{'b': 2,            'c': 3}, \n",
    "        {'a': 10, 'b': 20, 'c': 30}\n",
    "        ]\n",
    "  \n",
    "# Creates pandas DataFrame by passing\n",
    "# Lists of dictionaries and row index.\n",
    "df = pd.DataFrame(data, index=['first', 'second'])\n",
    "  \n",
    "# Print the data\n",
    "df"
   ]
  },
  {
   "cell_type": "code",
   "execution_count": 26,
   "metadata": {},
   "outputs": [
    {
     "data": {
      "text/html": [
       "<div>\n",
       "<style scoped>\n",
       "    .dataframe tbody tr th:only-of-type {\n",
       "        vertical-align: middle;\n",
       "    }\n",
       "\n",
       "    .dataframe tbody tr th {\n",
       "        vertical-align: top;\n",
       "    }\n",
       "\n",
       "    .dataframe thead th {\n",
       "        text-align: right;\n",
       "    }\n",
       "</style>\n",
       "<table border=\"1\" class=\"dataframe\">\n",
       "  <thead>\n",
       "    <tr style=\"text-align: right;\">\n",
       "      <th></th>\n",
       "      <th>a</th>\n",
       "      <th>b</th>\n",
       "      <th>c</th>\n",
       "    </tr>\n",
       "  </thead>\n",
       "  <tbody>\n",
       "    <tr>\n",
       "      <th>first</th>\n",
       "      <td>NaN</td>\n",
       "      <td>2</td>\n",
       "      <td>3</td>\n",
       "    </tr>\n",
       "    <tr>\n",
       "      <th>second</th>\n",
       "      <td>10</td>\n",
       "      <td>20</td>\n",
       "      <td>30</td>\n",
       "    </tr>\n",
       "  </tbody>\n",
       "</table>\n",
       "</div>"
      ],
      "text/plain": [
       "          a   b   c\n",
       "first   NaN   2   3\n",
       "second   10  20  30"
      ]
     },
     "execution_count": 26,
     "metadata": {},
     "output_type": "execute_result"
    }
   ],
   "source": [
    "# above example can also be done as:\n",
    "data = {'a' : ['NaN', 10.0],\n",
    "          'b' : [2, 20],\n",
    "          'c' : [3,30]}\n",
    "        \n",
    "  \n",
    "# Creates pandas DataFrame by passing\n",
    "# Lists of dictionaries and row index.\n",
    "df = pd.DataFrame(data, index=['first', 'second'])\n",
    "  \n",
    "# Print the data\n",
    "df"
   ]
  },
  {
   "attachments": {},
   "cell_type": "markdown",
   "metadata": {},
   "source": [
    "# Pandas Various functions"
   ]
  },
  {
   "attachments": {},
   "cell_type": "markdown",
   "metadata": {},
   "source": [
    "## 1. Input/output"
   ]
  },
  {
   "attachments": {},
   "cell_type": "markdown",
   "metadata": {},
   "source": [
    "### 1a. Pickling\n",
    "\n",
    "| Function | Explanation |\n",
    "|----------|-------------|\n",
    "| `read_pickle(filepath_or_buffer[, ...])` | Load pickled pandas object (or any object) from file. |\n",
    "| `DataFrame.to_pickle(path[, compression, ...])` |  Pickle (serialize) object to file. |"
   ]
  },
  {
   "cell_type": "code",
   "execution_count": null,
   "metadata": {},
   "outputs": [],
   "source": []
  },
  {
   "attachments": {},
   "cell_type": "markdown",
   "metadata": {},
   "source": [
    "### 1b. Flat file\n",
    "\n",
    "| Function | Explanation |\n",
    "|----------|-------------|"
   ]
  },
  {
   "attachments": {},
   "cell_type": "markdown",
   "metadata": {},
   "source": [
    "### 1c. Clipboard\n",
    "\n",
    "| Function | Explanation |\n",
    "|----------|-------------|"
   ]
  },
  {
   "attachments": {},
   "cell_type": "markdown",
   "metadata": {},
   "source": [
    "### 1d. Excel\n",
    "\n",
    "| Function | Explanation |\n",
    "|----------|-------------|"
   ]
  },
  {
   "attachments": {},
   "cell_type": "markdown",
   "metadata": {},
   "source": [
    "### 1e. JSON\n",
    "\n",
    "| Function | Explanation |\n",
    "|----------|-------------|"
   ]
  },
  {
   "attachments": {},
   "cell_type": "markdown",
   "metadata": {},
   "source": [
    "### 1f. HTML\n",
    "\n",
    "| Function | Explanation |\n",
    "|----------|-------------|"
   ]
  },
  {
   "attachments": {},
   "cell_type": "markdown",
   "metadata": {},
   "source": [
    "### 1g. XML\n",
    "\n",
    "| Function | Explanation |\n",
    "|----------|-------------|"
   ]
  },
  {
   "attachments": {},
   "cell_type": "markdown",
   "metadata": {},
   "source": [
    "### 1h. Latex\n",
    "\n",
    "| Function | Explanation |\n",
    "|----------|-------------|"
   ]
  },
  {
   "attachments": {},
   "cell_type": "markdown",
   "metadata": {},
   "source": [
    "### 1i. HDFStore: PyTables (HDF5)\n",
    "\n",
    "| Function | Explanation |\n",
    "|----------|-------------|"
   ]
  },
  {
   "attachments": {},
   "cell_type": "markdown",
   "metadata": {},
   "source": [
    "### 1j. SQL\n",
    "| Function | Explanation |\n",
    "|----------|-------------|\n",
    "| `read_sql_table(table_name, con[, schema, ...])` | Read SQL database table into a DataFrame. |\n",
    "| `read_sql_query(sql, con[, index_col, ...])` |  Read SQL query into a DataFrame. |\n",
    "| `read_sql(sql, con[, index_col, ...])` | Read SQL query or database table into a DataFrame. |\n",
    "| `DataFrame.to_sql(name, con[, schema, ...])` | Write records stored in a DataFrame to a SQL database. |"
   ]
  },
  {
   "cell_type": "markdown",
   "metadata": {},
   "source": []
  },
  {
   "cell_type": "markdown",
   "metadata": {},
   "source": []
  },
  {
   "cell_type": "markdown",
   "metadata": {},
   "source": []
  },
  {
   "cell_type": "code",
   "execution_count": null,
   "metadata": {},
   "outputs": [],
   "source": []
  },
  {
   "cell_type": "code",
   "execution_count": null,
   "metadata": {},
   "outputs": [],
   "source": []
  },
  {
   "cell_type": "code",
   "execution_count": null,
   "metadata": {},
   "outputs": [],
   "source": []
  },
  {
   "cell_type": "code",
   "execution_count": null,
   "metadata": {},
   "outputs": [],
   "source": []
  },
  {
   "cell_type": "code",
   "execution_count": null,
   "metadata": {},
   "outputs": [],
   "source": []
  },
  {
   "cell_type": "code",
   "execution_count": null,
   "metadata": {},
   "outputs": [],
   "source": []
  },
  {
   "cell_type": "code",
   "execution_count": null,
   "metadata": {},
   "outputs": [],
   "source": []
  },
  {
   "cell_type": "code",
   "execution_count": null,
   "metadata": {},
   "outputs": [],
   "source": []
  },
  {
   "cell_type": "code",
   "execution_count": null,
   "metadata": {},
   "outputs": [],
   "source": []
  },
  {
   "cell_type": "code",
   "execution_count": null,
   "metadata": {},
   "outputs": [],
   "source": []
  },
  {
   "attachments": {},
   "cell_type": "markdown",
   "metadata": {},
   "source": [
    "# References\n",
    "\n",
    "1. https://pandas.pydata.org/docs/user_guide/index.html#user-guide\n",
    "2. https://pandas.pydata.org/docs/\n",
    "3. https://pandas.pydata.org/pandas-docs/stable/user_guide/missing_data.html"
   ]
  }
 ],
 "metadata": {
  "kernelspec": {
   "display_name": "base",
   "language": "python",
   "name": "python3"
  },
  "language_info": {
   "codemirror_mode": {
    "name": "ipython",
    "version": 3
   },
   "file_extension": ".py",
   "mimetype": "text/x-python",
   "name": "python",
   "nbconvert_exporter": "python",
   "pygments_lexer": "ipython3",
   "version": "3.8.5"
  },
  "orig_nbformat": 4,
  "vscode": {
   "interpreter": {
    "hash": "0d04f405d2d9f997a1c8fb17225385de1b77f3241aa7fee88351a0aeb2b31b8a"
   }
  }
 },
 "nbformat": 4,
 "nbformat_minor": 2
}
