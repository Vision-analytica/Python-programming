{
 "cells": [
  {
   "attachments": {
    "image.png": {
     "image/png": "[encoded data removed]"
    }
   },
   "cell_type": "markdown",
   "metadata": {},
   "source": [
    "# Python NumPy\n",
    "\n",
    "![image.png](attachment:image.png)\n",
    "\n",
    "NumPy stands for numeric python which is a python package for the computation and processing of the multidimensional and single dimensional array elements.\n",
    "\n",
    "**Numpy advantages:**\n",
    "\n",
    "- NumPy performs array-oriented computing.\n",
    "- It efficiently implements the multidimensional arrays.\n",
    "- It performs scientific computations.\n",
    "- It is capable of performing Fourier Transform and reshaping the data stored in multidimensional arrays.\n",
    "- NumPy provides the in-built functions for linear algebra and random number generation."
   ]
  },
  {
   "attachments": {},
   "cell_type": "markdown",
   "metadata": {},
   "source": [
    "## NumPy Environment Setup\n",
    "\n",
    "The only prerequisite for installing NumPy is Python itself. It is normally comes with Anaconda Python distribution. You can also install it separetly (if it is not installed in your installed distribution) conda, or with pip, or with a package manager on macOS and Linux, or from Numpy source.\n",
    "\n",
    "If you use conda, you can install NumPy from the defaults or conda-forge channels:\n",
    "\n",
    "```\n",
    "# Best practice, use an environment rather than install in the base env\n",
    "conda create -n my-env\n",
    "conda activate my-env\n",
    "# If you want to install from conda-forge\n",
    "conda config --env --add channels conda-forge\n",
    "# The actual install command\n",
    "conda install numpy\n",
    "```\n",
    "If you use pip, you can install NumPy with:\n",
    "```\n",
    "pip install numpy\n",
    "```\n",
    "\n",
    "**Importing NumPy**\n",
    "\n",
    "To access NumPy and its functions import it in your Python code like this:\n",
    "```\n",
    "import numpy as np\n",
    "```\n",
    "\n",
    "**NumPy-specific help functions**\n",
    "\n",
    "|Function | Description |\n",
    "|---------|-------------|\n",
    "| `lookfor(what[, module, import_modules, ...])` | Do a keyword search on docstrings. |\n",
    "\n",
    "\n",
    "**Reading help functions**\n",
    "|Function | Description |\n",
    "|---------|-------------|\n",
    "| `info([object, maxwidth, output, toplevel])` |  Get help information for a function, class, or module. | \n",
    "| `source(object[, output])` | Print or write to a file the source code for a NumPy object. |"
   ]
  },
  {
   "attachments": {},
   "cell_type": "markdown",
   "metadata": {},
   "source": [
    "## NumPy Ndarray creation\n",
    "\n",
    "Ndarray is the n-dimensional array object defined in the numpy which stores the collection of the similar type of elements. In other words, we can define a ndarray as the collection of the data type (dtype) objects.\n",
    "\n",
    "### Creating a ndarray object\n",
    "\n",
    "```\n",
    "numpy.array(object, dtype = None, copy = True, order = None, subok = False, ndmin = 0)  \n",
    "```\n",
    "where \n",
    "\n",
    "| Parameter\t| Description |\n",
    "|-----------|-------------|\n",
    "| object\t| It represents the collection object. It can be a list, tuple, dictionary, set, etc.|\n",
    "| dtype\t    | We can change the data type of the array elements by changing this option to the specified type. The default is none.|\n",
    "| copy\t    | It is optional. By default, it is true which means the object is copied. |\n",
    "| order\t    | There can be 3 possible values assigned to this option. It can be C (column order), R (row order), or A (any)|\n",
    "| subok\t    | The returned array will be base class array by default. We can change this to make the subclasses passes through by setting this option to true.|\n",
    "| ndmin\t    | It represents the minimum dimensions of the resultant array.|\n",
    "\n",
    "### NumPy Datatypes\n",
    "\n",
    "All the items of a numpy array are data type objects also known as numpy dtypes. A data type object implements the fixed size of memory corresponding to an array.\n",
    "\n",
    "We can create a dtype object by using the following syntax:\n",
    "```\n",
    "numpy.dtype(object, align, copy)  \n",
    "```\n",
    "where\n",
    "- Object: It represents the object which is to be converted to the data type.\n",
    "- Align: It can be set to any boolean value. If true, then it adds extra padding to make it equivalent to a C struct.\n",
    "- Copy: It creates another copy of the dtype object.\n",
    "\n",
    "The NumPy provides a higher range of numeric data types than that provided by the Python.\n",
    "\n",
    "| SN\t| Data type\t| Description |\n",
    "|-------|-----------|-------------|\n",
    "| 1\t| `bool_`\t| It represents the boolean value indicating true or false. It is stored as a byte.\n",
    "| 2\t| `int_`\t| It is the default type of integer. It is identical to long type in C that contains 64 bit or 32-bit integer.\n",
    "| 3\t| `intc`\t| It is similar to the C integer (c int) as it represents 32 or 64-bit int.\n",
    "| 4\t| `intp`\t| It represents the integers which are used for indexing.\n",
    "| 5\t| `int8`\t| It is the 8-bit integer identical to a byte. The range of the value is -128 to 127.\n",
    "| 6\t| `int16`\t| It is the 2-byte (16-bit) integer. The range is -32768 to 32767.\n",
    "| 7\t| `int32`\t| It is the 4-byte (32-bit) integer. The range is -2147483648 to 2147483647.\n",
    "| 8\t| `int64`\t| It is the 8-byte (64-bit) integer. The range is -9223372036854775808 to 9223372036854775807.\n",
    "| 9\t| `uint8`\t| It is the 1-byte (8-bit) unsigned integer.\n",
    "| 10 | `uint16`\t| It is the 2-byte (16-bit) unsigned integer.\n",
    "| 11 |\t`uint32`\t| It is the 4-byte (32-bit) unsigned integer.\n",
    "| 12 |\t`uint64`\t| It is the 8 bytes (64-bit) unsigned integer.\n",
    "| 13 |\t`float_`\t| It is identical to float64.\n",
    "| 14 |\t`float16`\t| It is the half-precision float. 5 bits are reserved for the exponent. 10 bits are reserved for mantissa, and 1 bit is reserved for the sign.\n",
    "| 15 | \t`float32`\t| It is a single precision float. 8 bits are reserved for the exponent, 23 bits are reserved for mantissa, and 1 bit is reserved for the sign.\n",
    "| 16 |\t`float64`\t| It is the double precision float. 11 bits are reserved for the exponent, 52 bits are reserved for mantissa, 1 bit is used for the sign.\n",
    "| 17 | \t`complex_`\t| It is identical to complex128.\n",
    "| 18 |\t`complex64`\t| It is used to represent the complex number where real and imaginary part shares 32 bits each.\n",
    "| 19 |\t`complex128`\t| It is used to represent the complex number where real and imaginary part shares 64 bits each.\n",
    "\n",
    "\n",
    "### Special kind of array creation\n",
    "\n",
    "#### 1. Numpy.empty\n",
    "As the name specifies, The empty routine is used to create an uninitialized array of specified shape and data type.\n",
    "```\n",
    "numpy.empty(shape, dtype = float, order = 'C')  \n",
    "```\n",
    "\n",
    "#### 2. NumPy.Zeros\n",
    "This routine is used to create the numpy array with the specified shape where each numpy array item is initialized to 0.\n",
    "```\n",
    "numpy.zeros(shape, dtype = float, order = 'C')  \n",
    "```\n",
    "#### 3. NumPy.ones\n",
    "This routine is used to create the numpy array with the specified shape where each numpy array item is initialized to 1.\n",
    "```\n",
    "numpy.ones(shape, dtype = none, order = 'C')  \n",
    "```\n",
    "\n",
    "### Numpy Arrays within the numerical range\n",
    "\n",
    "#### 1. Numpy.arrange\n",
    "It creates an array by using the evenly spaced values over the given interval. \n",
    "```\n",
    "numpy.arrange(start, stop, step, dtype)  \n",
    "```\n",
    "#### 2. NumPy.linspace\n",
    "It is similar to the arrange function. However, it doesn't allow us to specify the step size in the syntax. Instead of that, it only returns evenly separated values over a specified period. The system implicitly calculates the step size.\n",
    "```\n",
    "numpy.linspace(start, stop, num, endpoint, retstep, dtype)   \n",
    "```\n",
    "* `start`: It represents the starting value of the interval.\n",
    "* `stop`: It represents the stopping value of the interval.\n",
    "* `num`: The amount of evenly spaced samples over the interval to be generated. The default is 50.\n",
    "* `endpoint`: Its true value indicates that the stopping value is included in the interval.\n",
    "* `rettstep`: This has to be a boolean value. Represents the steps and samples between the consecutive numbers.\n",
    "* `dtype`: It represents the data type of the array items.\n",
    "\n",
    "#### 3. numpy.logspace\n",
    "It creates an array by using the numbers that are evenly separated on a log scale.\n",
    "```\n",
    "numpy.logspace(start, stop, num, endpoint, base, dtype)  \n",
    "```\n",
    "* `start`: It represents the starting value of the interval in the base.\n",
    "* `stop`: It represents the stopping value of the interval in the base.\n",
    "* `num`: The number of values between the range.\n",
    "* `endpoint`: It is a boolean type value. It makes the value represented by stop as the last value of the interval.\n",
    "* `base`: It represents the base of the log space.\n",
    "* `dtype`: It represents the data type of the array items."
   ]
  },
  {
   "cell_type": "code",
   "execution_count": 2,
   "metadata": {},
   "outputs": [
    {
     "name": "stdout",
     "output_type": "stream",
     "text": [
      "[1 2 3]\n"
     ]
    }
   ],
   "source": [
    "import numpy as np\n",
    "a = np.array([1, 2, 3])  \n",
    "print(a)"
   ]
  },
  {
   "cell_type": "code",
   "execution_count": 3,
   "metadata": {},
   "outputs": [
    {
     "name": "stdout",
     "output_type": "stream",
     "text": [
      "[[1 2 3]\n",
      " [4 5 6]]\n"
     ]
    }
   ],
   "source": [
    "b = np.array([[1, 2, 3], [4, 5, 6]])\n",
    "print(b)  "
   ]
  },
  {
   "cell_type": "code",
   "execution_count": 4,
   "metadata": {},
   "outputs": [
    {
     "name": "stdout",
     "output_type": "stream",
     "text": [
      "[1.+0.j 3.+0.j 5.+0.j 7.+0.j]\n"
     ]
    }
   ],
   "source": [
    "c = np.array([1, 3, 5, 7], complex)  \n",
    "print(c)"
   ]
  },
  {
   "cell_type": "code",
   "execution_count": 5,
   "metadata": {},
   "outputs": [
    {
     "data": {
      "text/plain": [
       "array([[6357093, 6488178],\n",
       "       [6029416, 7274583],\n",
       "       [6684780, 6357106]])"
      ]
     },
     "execution_count": 5,
     "metadata": {},
     "output_type": "execute_result"
    }
   ],
   "source": [
    "arr = np.empty((3,2), dtype = int)  \n",
    "arr"
   ]
  },
  {
   "cell_type": "code",
   "execution_count": 6,
   "metadata": {},
   "outputs": [
    {
     "data": {
      "text/plain": [
       "array([[0, 0],\n",
       "       [0, 0],\n",
       "       [0, 0]])"
      ]
     },
     "execution_count": 6,
     "metadata": {},
     "output_type": "execute_result"
    }
   ],
   "source": [
    "arr = np.zeros((3,2), dtype = int)  \n",
    "arr "
   ]
  },
  {
   "cell_type": "code",
   "execution_count": 7,
   "metadata": {},
   "outputs": [
    {
     "name": "stdout",
     "output_type": "stream",
     "text": [
      "The array over the given range is  [10.  12.5 15.  17.5 20. ]\n"
     ]
    }
   ],
   "source": [
    "arr = np.linspace(10, 20, 5)  \n",
    "print(\"The array over the given range is \",arr)  "
   ]
  },
  {
   "cell_type": "code",
   "execution_count": 8,
   "metadata": {},
   "outputs": [
    {
     "name": "stdout",
     "output_type": "stream",
     "text": [
      "The array over the given range is  [10. 12. 14. 16. 18.]\n"
     ]
    }
   ],
   "source": [
    "arr = np.linspace(10, 20, 5, endpoint = False)  \n",
    "print(\"The array over the given range is \",arr) "
   ]
  },
  {
   "cell_type": "code",
   "execution_count": 9,
   "metadata": {},
   "outputs": [
    {
     "name": "stdout",
     "output_type": "stream",
     "text": [
      "The array over the given range is  [1.00000000e+10 3.16227766e+12 1.00000000e+15 3.16227766e+17\n",
      " 1.00000000e+20]\n"
     ]
    }
   ],
   "source": [
    "arr = np.logspace(10, 20, num = 5, endpoint = True)  \n",
    "print(\"The array over the given range is \",arr)  "
   ]
  },
  {
   "attachments": {},
   "cell_type": "markdown",
   "metadata": {},
   "source": [
    "## Finding information about a array"
   ]
  },
  {
   "attachments": {},
   "cell_type": "markdown",
   "metadata": {},
   "source": [
    "### 1. Finding the dimensions of the Array\n",
    "\n",
    "The `ndim` function can be used to find the dimensions of the array."
   ]
  },
  {
   "cell_type": "code",
   "execution_count": null,
   "metadata": {},
   "outputs": [
    {
     "name": "stdout",
     "output_type": "stream",
     "text": [
      "2\n"
     ]
    }
   ],
   "source": [
    "arr = np.array([[1, 2, 3, 4], [4, 5, 6, 7], [9, 10, 11, 23]])  \n",
    "  \n",
    "print(arr.ndim)  "
   ]
  },
  {
   "attachments": {},
   "cell_type": "markdown",
   "metadata": {},
   "source": [
    "### Finding the size of each array element\n",
    "The itemsize function is used to get the size of each array item. "
   ]
  },
  {
   "cell_type": "code",
   "execution_count": null,
   "metadata": {},
   "outputs": [
    {
     "name": "stdout",
     "output_type": "stream",
     "text": [
      "Each item contains 4 bytes\n"
     ]
    }
   ],
   "source": [
    "a = np.array([[1,2,3]])  \n",
    "print(\"Each item contains\",a.itemsize,\"bytes\") "
   ]
  },
  {
   "attachments": {},
   "cell_type": "markdown",
   "metadata": {},
   "source": [
    "### 2. Finding the data type of each array item\n",
    "To check the data type of each array item, the dtype function is used"
   ]
  },
  {
   "cell_type": "code",
   "execution_count": null,
   "metadata": {},
   "outputs": [
    {
     "name": "stdout",
     "output_type": "stream",
     "text": [
      "Each item is of the type int32\n"
     ]
    }
   ],
   "source": [
    "a = np.array([[1,2,3]])  \n",
    "print(\"Each item is of the type\",a.dtype)"
   ]
  },
  {
   "attachments": {},
   "cell_type": "markdown",
   "metadata": {},
   "source": [
    "### 3. Finding the shape and size of the array\n",
    "To get the shape and size of the array, the `size` and `shape` function associated with the numpy array is used."
   ]
  },
  {
   "cell_type": "code",
   "execution_count": null,
   "metadata": {},
   "outputs": [
    {
     "name": "stdout",
     "output_type": "stream",
     "text": [
      "Array Size: 7\n",
      "Shape: (1, 7)\n"
     ]
    }
   ],
   "source": [
    "a = np.array([[1,2,3,4,5,6,7]])  \n",
    "print(\"Array Size:\",a.size)  \n",
    "print(\"Shape:\",a.shape)  "
   ]
  },
  {
   "attachments": {},
   "cell_type": "markdown",
   "metadata": {},
   "source": [
    "#### Reshaping the array objects\n",
    "By the shape of the array, we mean the number of rows and columns of a multi-dimensional array. However, the numpy module provides us the way to reshape the array by changing the number of rows and columns of the multi-dimensional array.\n",
    "\n",
    "<img src=\"arrayreshape1.png\">"
   ]
  },
  {
   "cell_type": "code",
   "execution_count": null,
   "metadata": {},
   "outputs": [
    {
     "name": "stdout",
     "output_type": "stream",
     "text": [
      "printing the original array..\n",
      "[[1 2]\n",
      " [3 4]\n",
      " [5 6]]\n",
      "printing the reshaped array..\n",
      "[[1 2 3]\n",
      " [4 5 6]]\n"
     ]
    }
   ],
   "source": [
    "a = np.array([[1,2],[3,4],[5,6]])  \n",
    "print(\"printing the original array..\")  \n",
    "print(a)  \n",
    "a=a.reshape(2,3)  \n",
    "print(\"printing the reshaped array..\")  \n",
    "print(a)  "
   ]
  },
  {
   "attachments": {},
   "cell_type": "markdown",
   "metadata": {},
   "source": [
    "### 4. Slicing in the Array\n",
    "Slicing in the NumPy array is the way to extract a range of elements from an array."
   ]
  },
  {
   "cell_type": "code",
   "execution_count": null,
   "metadata": {},
   "outputs": [
    {
     "name": "stdout",
     "output_type": "stream",
     "text": [
      "2\n",
      "5\n"
     ]
    }
   ],
   "source": [
    "a = np.array([[1,2],[3,4],[5,6]])  \n",
    "print(a[0,1])  \n",
    "print(a[2,0])  "
   ]
  },
  {
   "attachments": {},
   "cell_type": "markdown",
   "metadata": {},
   "source": [
    "### 5. Linspace\n",
    "The `linspace()` function returns the evenly spaced values over the given interval."
   ]
  },
  {
   "cell_type": "code",
   "execution_count": null,
   "metadata": {},
   "outputs": [
    {
     "name": "stdout",
     "output_type": "stream",
     "text": [
      "[ 5.          6.11111111  7.22222222  8.33333333  9.44444444 10.55555556\n",
      " 11.66666667 12.77777778 13.88888889 15.        ]\n"
     ]
    }
   ],
   "source": [
    "a=np.linspace(5,15,10) #prints 10 values which are evenly spaced over the given interval 5-15  \n",
    "print(a)  "
   ]
  },
  {
   "attachments": {},
   "cell_type": "markdown",
   "metadata": {},
   "source": [
    "### 6. Finding the maximum, minimum, and sum of the array elements\n",
    "The NumPy provides the `max()`, `min()`, and `sum()` functions which are used to find the maximum, minimum, and sum of the array elements respectively."
   ]
  },
  {
   "cell_type": "code",
   "execution_count": null,
   "metadata": {},
   "outputs": [
    {
     "name": "stdout",
     "output_type": "stream",
     "text": [
      "The array: [ 1  2  3 10 15  4]\n",
      "The maximum element: 15\n",
      "The minimum element: 1\n",
      "The sum of the elements: 35\n"
     ]
    }
   ],
   "source": [
    "a = np.array([1,2,3,10,15,4])  \n",
    "print(\"The array:\",a)  \n",
    "print(\"The maximum element:\",a.max())  \n",
    "print(\"The minimum element:\",a.min())  \n",
    "print(\"The sum of the elements:\",a.sum())  "
   ]
  },
  {
   "attachments": {},
   "cell_type": "markdown",
   "metadata": {},
   "source": [
    "### 7. NumPy Array Axis\n",
    "A NumPy multi-dimensional array is represented by the axis where axis-0 represents the columns and axis-1 represents the rows. We can mention the axis to perform row-level or column-level calculations like the addition of row or column elements.\n",
    "\n",
    "<img src=\"numpyaxis1.png\">\n"
   ]
  },
  {
   "cell_type": "code",
   "execution_count": null,
   "metadata": {},
   "outputs": [
    {
     "name": "stdout",
     "output_type": "stream",
     "text": [
      "The array: [[ 1  2 30]\n",
      " [10 15  4]]\n",
      "The maximum elements of columns: [10 15 30]\n",
      "The minimum element of rows [1 4]\n",
      "The sum of all rows [11 17 34]\n",
      "The sum of all rows [33 29]\n"
     ]
    }
   ],
   "source": [
    "a = np.array([[1,2,30],[10,15,4]])  \n",
    "print(\"The array:\",a)  \n",
    "print(\"The maximum elements of columns:\",a.max(axis = 0))   \n",
    "print(\"The minimum element of rows\",a.min(axis = 1))  \n",
    "print(\"The sum of all rows\",a.sum(axis = 0))\n",
    "print(\"The sum of all rows\",a.sum(axis = 1))  "
   ]
  },
  {
   "cell_type": "code",
   "execution_count": null,
   "metadata": {},
   "outputs": [
    {
     "name": "stdout",
     "output_type": "stream",
     "text": [
      "[[1.         1.41421356 5.47722558]\n",
      " [3.16227766 3.87298335 2.        ]]\n"
     ]
    }
   ],
   "source": [
    "a = np.array([[1,2,30],[10,15,4]])  \n",
    "print(np.sqrt(a))"
   ]
  },
  {
   "cell_type": "code",
   "execution_count": null,
   "metadata": {},
   "outputs": [
    {
     "name": "stdout",
     "output_type": "stream",
     "text": [
      "10.044346115546242\n"
     ]
    }
   ],
   "source": [
    "print(np.std(a))"
   ]
  },
  {
   "attachments": {},
   "cell_type": "markdown",
   "metadata": {},
   "source": [
    "### 8. Arithmetic operations on the array\n",
    "The numpy module allows us to perform the arithmetic operations on multi-dimensional arrays directly."
   ]
  },
  {
   "cell_type": "code",
   "execution_count": null,
   "metadata": {},
   "outputs": [
    {
     "name": "stdout",
     "output_type": "stream",
     "text": [
      "Sum of array a and b:\n",
      " [[ 2  4 33]\n",
      " [22 34 33]]\n",
      "Product of array a and b:\n",
      " [[  1   4  90]\n",
      " [120 285 116]]\n",
      "Division of array a and b:\n",
      " [[ 1.          1.         10.        ]\n",
      " [ 0.83333333  0.78947368  0.13793103]]\n"
     ]
    }
   ],
   "source": [
    "a = np.array([[1,2,30],\n",
    "            [10,15,4]])  \n",
    "b = np.array([[1,2,3],\n",
    "            [12, 19, 29]])  \n",
    "print(\"Sum of array a and b:\\n\",a+b)  \n",
    "print(\"Product of array a and b:\\n\",a*b)  \n",
    "print(\"Division of array a and b:\\n\",a/b)  "
   ]
  },
  {
   "attachments": {},
   "cell_type": "markdown",
   "metadata": {},
   "source": [
    "### 9. NumPy Array Iteration\n",
    "\n",
    "Iterating means going through elements one by one. `for` loop can be used to do iteration of multidimensional arrays in numpy.\n",
    "\n",
    "\n",
    "NumPy provides an iterator object, i.e., `.nditer()` which can be used to iterate over the given array using python standard Iterator interface."
   ]
  },
  {
   "cell_type": "code",
   "execution_count": null,
   "metadata": {},
   "outputs": [
    {
     "name": "stdout",
     "output_type": "stream",
     "text": [
      "[1 2 3]\n",
      "[4 5 6]\n",
      "1\n",
      "2\n",
      "3\n",
      "4\n",
      "5\n",
      "6\n"
     ]
    }
   ],
   "source": [
    "# Example: iteration using for loop\n",
    "\n",
    "arr = np.array([[1, 2, 3], [4, 5, 6]])\n",
    "\n",
    "for x in arr:\n",
    "\tprint(x)\n",
    "\n",
    "for x in arr:\n",
    "  for y in x:\n",
    "    print(y)"
   ]
  },
  {
   "cell_type": "code",
   "execution_count": null,
   "metadata": {},
   "outputs": [
    {
     "name": "stdout",
     "output_type": "stream",
     "text": [
      "Printing array:\n",
      "\n",
      "[[ 1  2  3  4]\n",
      " [ 2  4  5  6]\n",
      " [10 20 39  3]]\n",
      "Iterating over the array:\n",
      "1 2 3 4 2 4 5 6 10 20 39 3 "
     ]
    }
   ],
   "source": [
    "# horizontal iteration using nditer\n",
    "a = np.array([[1,2,3,4],[2,4,5,6],[10,20,39,3]])\n",
    "print(\"Printing array:\\n\")\n",
    "print(a)\n",
    "\n",
    "print(\"Iterating over the array:\")\n",
    "for x in np.nditer(a):\n",
    "    print(x,end=' ')"
   ]
  },
  {
   "cell_type": "code",
   "execution_count": null,
   "metadata": {},
   "outputs": [
    {
     "name": "stdout",
     "output_type": "stream",
     "text": [
      "1\n",
      "2\n",
      "3\n",
      "4\n",
      "5\n",
      "6\n",
      "7\n",
      "8\n"
     ]
    }
   ],
   "source": [
    "# vertical iteration using nditer \n",
    "arr = np.array([[[1, 2], [3, 4]], [[5, 6], [7, 8]]])\n",
    "\n",
    "for x in np.nditer(arr):\n",
    "  print(x)"
   ]
  },
  {
   "attachments": {},
   "cell_type": "markdown",
   "metadata": {},
   "source": [
    "### 10. NumPy String Functions\n",
    "NumPy contains the following functions for the operations on the arrays of dtype string.\n",
    "\n",
    "| SN.\t | Function\t | Description |\n",
    "|--------|-----------|-------------|\n",
    "| 1 | `char.add(x1, x2)`\t| It is used to concatenate the corresponding array elements (strings). |\n",
    "| 2\t | `char.multiply(a, i)` |\tIt returns the multiple copies of the specified string, i.e., if a string 'hello' is multiplied by 3 then, a string 'hello hello' is returned. |\n",
    "| 3\t | `char.center(a, width, fillchar=' ')`\t |It returns the copy of the string where the original string is centered with the left and right padding filled with the specified number of fill characters. |\n",
    "| 4\t | `char.capitalize(a)`\t| It returns a copy of the original string in which the first letter of the original string is converted to the Upper Case.|\n",
    "| 5\t | `char.title(a)`\t| It returns the title cased version of the string, i.e., the first letter of each word of the string is converted into the upper case.|\n",
    "| 6\t | `char.lower(a)`\t| It returns a copy of the string in which all the letters are converted into the lower case.|\n",
    "| 7\t | `char.upper()`\t| It returns a copy of the string in which all the letters are converted into the upper case.|\n",
    "| 9\t | `char.split(a, sep=None, maxsplit=None)`\t| It returns a list of words in the string. |\n",
    "| 10 |\t`char.splitlines(a, keepends=None)`\t| It returns the list of lines in the string, breaking at line boundaries.|\n",
    "| 11 |\t`char.strip(a, chars=None)`\t| Returns a copy of the string with the leading and trailing white spaces removed.|\n",
    "| 12 |\t`char.join(sep, seq)`\t| It returns a string which is the concatenation of all the strings specified in the given sequence.|\n",
    "| 13 |\t`char.replace(a, old, new, count=None)`\t| It returns a copy of the string by replacing all occurrences of a particular substring with the specified one.|\n",
    "| 14 |\t`char.decode(a, encoding=None, errors=None)`\t| It is used to decode the specified string element-wise using the specified codec.|\n",
    "| 15 |\t`char.encode(a, encoding=None, errors=None)`\t| It is used to encode the decoded string element-wise.|\n",
    "\n",
    "[Find more Numpy string functions at official Numpy page](https://numpy.org/doc/stable/reference/routines.char.html)"
   ]
  },
  {
   "cell_type": "code",
   "execution_count": null,
   "metadata": {},
   "outputs": [
    {
     "name": "stdout",
     "output_type": "stream",
     "text": [
      "Concatenating two string arrays:\n",
      "['My name' 'is Arun']\n"
     ]
    }
   ],
   "source": [
    "# numpy.char.add() method example\n",
    "print(\"Concatenating two string arrays:\")  \n",
    "print(np.char.add(['My','is'], [' name', ' Arun'] )) "
   ]
  },
  {
   "cell_type": "code",
   "execution_count": null,
   "metadata": {},
   "outputs": [
    {
     "name": "stdout",
     "output_type": "stream",
     "text": [
      "Printing a string multiple times:\n",
      "hello hello hello \n"
     ]
    }
   ],
   "source": [
    "# numpy.char.multiply() method example\n",
    "print(\"Printing a string multiple times:\")  \n",
    "print(np.char.multiply(\"hello \",3))  "
   ]
  },
  {
   "cell_type": "code",
   "execution_count": null,
   "metadata": {},
   "outputs": [
    {
     "name": "stdout",
     "output_type": "stream",
     "text": [
      "Padding the string through left and right with the 'space' char \n",
      "            India             \n"
     ]
    }
   ],
   "source": [
    "# numpy.char.center() method example\n",
    "print(\"Padding the string through left and right with the 'space' char \");  \n",
    "#np.char.center(string, width, fillchar)  \n",
    "print(np.char.center(\"India\", 30, ' '))  "
   ]
  },
  {
   "attachments": {},
   "cell_type": "markdown",
   "metadata": {},
   "source": [
    "### 11. Input and output"
   ]
  },
  {
   "attachments": {
    "image-2.png": {
     "image/png": "[encoded data removed]"
    },
    "image.png": {
     "image/png": "[encoded data removed]"
    }
   },
   "cell_type": "markdown",
   "metadata": {},
   "source": [
    "#### 1. NumPy binary files \n",
    "\n",
    "| Function | description |\n",
    "|----------|-------------|\n",
    "| `load(file[, mmap_mode, allow_pickle, ...])` | Load arrays or pickled objects from .npy, .npz or pickled files.| \n",
    "| `save(file, arr[, allow_pickle, fix_imports])` | Save an array to a binary file in NumPy .npy format. |\n",
    "| `savez(file, *args, **kwds)` | Save several arrays into a single file in uncompressed .npz format. |\n",
    "| `savez_compressed(file, *args, **kwds)` | Save several arrays into a single file in compressed .npz format.|\n",
    "\n",
    "\n",
    "\n",
    "Store Numpy array data are `.npy` and `.npz` files.\n",
    "\n",
    "\n",
    "![image.png](attachment:image.png)\n",
    "\n",
    "![image.png](attachment:image-2.png)"
   ]
  },
  {
   "cell_type": "code",
   "execution_count": null,
   "metadata": {},
   "outputs": [
    {
     "name": "stdout",
     "output_type": "stream",
     "text": [
      "a is:\n",
      "[0 1 2 1 2 3 2 3 4]\n",
      "the array is saved in the file datafile.npy\n",
      "b is:\n",
      "[0 1 2 1 2 3 2 3 4]\n",
      "b is printed from datafile.npy\n"
     ]
    }
   ],
   "source": [
    "a = np.array(([i + j for i in range(3) \n",
    "                       for j in range(3)]))\n",
    "# a is printed.\n",
    "print(\"a is:\")\n",
    "print(a)\n",
    "  \n",
    "np.save('datafile.npy', a)\n",
    "print(\"the array is saved in the file datafile.npy\")\n",
    "  \n",
    "# the array is saved in the file geekfile.npy \n",
    "b = np.load('datafile.npy')\n",
    "  \n",
    "# the array is loaded into b\n",
    "print(\"b is:\")\n",
    "print(b)\n",
    "  \n",
    "# b is printed from geekfile.npy\n",
    "print(\"b is printed from datafile.npy\")"
   ]
  },
  {
   "attachments": {},
   "cell_type": "markdown",
   "metadata": {},
   "source": [
    "#### 2. Text files\n",
    "\n",
    "| Function | description |\n",
    "|----------|-------------|\n",
    "| `loadtxt(filename[, dtype, comments, delimiter, ...])` | Load data from a text file. |\n",
    "| `savetxt(filename, X[, fmt, delimiter, newline, ...])` | Save an array to a text file. |\n",
    "| `genfromtxt(filename[, dtype, comments, ...])` | Load data from a text file, with missing values handled as specified. |\n",
    "| `fromregex(file, regexp, dtype[, encoding])` | Construct an array from a text file, using regular expression parsing. |\n",
    "| `fromstring(string[, dtype, count, like])` | A new 1-D array initialized from text data in a string.|\n",
    "| `ndarray.tofile(fid[, sep, format])` | Write array to a file as text or binary (default).|\n",
    "| `ndarray.tolist()` | Return the array as an a.ndim-levels deep nested list of Python scalars.|"
   ]
  },
  {
   "cell_type": "code",
   "execution_count": null,
   "metadata": {},
   "outputs": [
    {
     "data": {
      "text/plain": [
       "('climate.txt', <http.client.HTTPMessage at 0x24c60460700>)"
      ]
     },
     "metadata": {},
     "output_type": "display_data"
    }
   ],
   "source": [
    "# Example:1 Loading the data file from text file. \n",
    "import urllib.request\n",
    "\n",
    "urllib.request.urlretrieve(\n",
    "    'https://gist.github.com/BirajCoder/a4ffcb76fd6fb221d76ac2ee2b8584e9/raw/4054f90adfd361b7aa4255e99c2e874664094cea/climate.csv', \n",
    "    'climate.txt')\n",
    "\n",
    "    # data file was taken from the lecture given on Jovian.ml website."
   ]
  },
  {
   "cell_type": "code",
   "execution_count": null,
   "metadata": {},
   "outputs": [],
   "source": [
    "climate_data = np.genfromtxt('climate.txt', delimiter=',', skip_header=1)"
   ]
  },
  {
   "cell_type": "code",
   "execution_count": null,
   "metadata": {},
   "outputs": [
    {
     "data": {
      "text/plain": [
       "array([[25., 76., 99.],\n",
       "       [39., 65., 70.],\n",
       "       [59., 45., 77.],\n",
       "       ...,\n",
       "       [99., 62., 58.],\n",
       "       [70., 71., 91.],\n",
       "       [92., 39., 76.]])"
      ]
     },
     "metadata": {},
     "output_type": "display_data"
    }
   ],
   "source": [
    "climate_data"
   ]
  },
  {
   "cell_type": "code",
   "execution_count": null,
   "metadata": {},
   "outputs": [
    {
     "data": {
      "text/plain": [
       "(10000, 3)"
      ]
     },
     "metadata": {},
     "output_type": "display_data"
    }
   ],
   "source": [
    "climate_data.shape"
   ]
  },
  {
   "cell_type": "code",
   "execution_count": null,
   "metadata": {},
   "outputs": [
    {
     "data": {
      "text/plain": [
       "array([[ 1.,  2.],\n",
       "       [ 2.,  4.],\n",
       "       [ 3.,  9.],\n",
       "       [ 4., 16.]])"
      ]
     },
     "metadata": {},
     "output_type": "display_data"
    }
   ],
   "source": [
    "# Example: 2 Loadtxt \n",
    "from io import StringIO\n",
    "d = StringIO(\"1 2\\n2 4\\n3 9 12\\n4 16 20\")\n",
    "np.loadtxt(d, usecols=(0, 1))"
   ]
  },
  {
   "cell_type": "code",
   "execution_count": null,
   "metadata": {},
   "outputs": [],
   "source": [
    "# Example: 3  savetxt\n",
    "x = y = z = np.arange(0.0,5.0,1.0)\n",
    "np.savetxt('test.out', x, delimiter=',')   # X is an array\n",
    "np.savetxt('test.out', (x,y,z))   # x,y,z equal sized 1D arrays\n",
    "np.savetxt('test.out', x, fmt='%1.4e')   # use exponential notation"
   ]
  },
  {
   "cell_type": "code",
   "execution_count": null,
   "metadata": {},
   "outputs": [
    {
     "name": "stdout",
     "output_type": "stream",
     "text": [
      "[1 2]\n"
     ]
    }
   ],
   "source": [
    "# Example: 4a fromstring\n",
    "print(np.fromstring('1 2', dtype=int, sep=' '))"
   ]
  },
  {
   "cell_type": "code",
   "execution_count": null,
   "metadata": {},
   "outputs": [
    {
     "name": "stdout",
     "output_type": "stream",
     "text": [
      "[1 2]\n"
     ]
    }
   ],
   "source": [
    "# Example: 4b fromstring\n",
    "print(np.fromstring('1, 2', dtype=int, sep=', '))"
   ]
  },
  {
   "attachments": {},
   "cell_type": "markdown",
   "metadata": {},
   "source": [
    "## Array manipulation routine"
   ]
  },
  {
   "attachments": {},
   "cell_type": "markdown",
   "metadata": {},
   "source": [
    "### 1. Changing array Shape\n",
    "\n",
    "| Function | description |\n",
    "|----------|-------------|\n",
    "| `reshape(a, newshape[, order])` | Gives a new shape to an array without changing its data. |\n",
    "| `ravel(a[, order])` | Return a contiguous flattened array. |\n",
    "| `ndarray.flat` | A 1-D iterator over the array.|\n",
    "| `ndarray.flatten(order='C')` | Return a copy of the array collapsed into one dimension. |\n",
    "\n",
    "Here order can have (‘C’, ‘F’, ‘A’, ‘K’), where \n",
    "\n",
    "- ‘C’ means to flatten in row-major (C-style) order. \n",
    "- ‘F’ means to flatten in column-major (Fortran- style) order. \n",
    "- ‘A’ means to flatten in column-major order if a is Fortran contiguous in memory, row-major order otherwise.\n",
    "- ‘K’ means to flatten a in the order the elements occur in memory. \n",
    "\n",
    "The default is ‘C’."
   ]
  },
  {
   "attachments": {
    "image.png": {
     "image/png": "[encoded data removed]"
    }
   },
   "cell_type": "markdown",
   "metadata": {},
   "source": [
    "Example: 1\n",
    "\n",
    "![image.png](attachment:image.png)\n",
    "\n",
    "Check this below:"
   ]
  },
  {
   "cell_type": "code",
   "execution_count": 59,
   "metadata": {},
   "outputs": [
    {
     "data": {
      "text/plain": [
       "(2, 3)"
      ]
     },
     "execution_count": 59,
     "metadata": {},
     "output_type": "execute_result"
    }
   ],
   "source": [
    "# Example: 1\n",
    "x = np.array([[2,3,4], [5,6,7]])\n",
    "x.shape"
   ]
  },
  {
   "cell_type": "code",
   "execution_count": 62,
   "metadata": {},
   "outputs": [
    {
     "data": {
      "text/plain": [
       "(3, 2)"
      ]
     },
     "execution_count": 62,
     "metadata": {},
     "output_type": "execute_result"
    }
   ],
   "source": [
    "y = np.reshape(x, (3, 2))\n",
    "y.shape"
   ]
  },
  {
   "attachments": {
    "image.png": {
     "image/png": "[encoded data removed]"
    }
   },
   "cell_type": "markdown",
   "metadata": {},
   "source": [
    "Example:2 \n",
    "\n",
    "![image.png](attachment:image.png)\n",
    "\n",
    "Check this below"
   ]
  },
  {
   "cell_type": "code",
   "execution_count": 63,
   "metadata": {},
   "outputs": [
    {
     "data": {
      "text/plain": [
       "array([2, 3, 4, 5, 6, 7])"
      ]
     },
     "execution_count": 63,
     "metadata": {},
     "output_type": "execute_result"
    }
   ],
   "source": [
    "np.reshape(x, 6)"
   ]
  },
  {
   "attachments": {
    "image.png": {
     "image/png": "[encoded data removed]"
    }
   },
   "cell_type": "markdown",
   "metadata": {},
   "source": [
    "Example: 3\n",
    "\n",
    "![image.png](attachment:image.png)"
   ]
  },
  {
   "cell_type": "code",
   "execution_count": 64,
   "metadata": {},
   "outputs": [
    {
     "name": "stdout",
     "output_type": "stream",
     "text": [
      "[1 2 3 4 5 6]\n"
     ]
    }
   ],
   "source": [
    "x = np.array([[1, 2, 3], [4, 5, 6]])\n",
    "print(np.ravel(x))"
   ]
  },
  {
   "attachments": {
    "image.png": {
     "image/png": "[encoded data removed]"
    }
   },
   "cell_type": "markdown",
   "metadata": {},
   "source": [
    "Example: 4\n",
    "\n",
    "![image.png](attachment:image.png)"
   ]
  },
  {
   "cell_type": "code",
   "execution_count": 68,
   "metadata": {},
   "outputs": [
    {
     "name": "stdout",
     "output_type": "stream",
     "text": [
      "[2 3 4 5]\n",
      "[2 4 3 5]\n"
     ]
    }
   ],
   "source": [
    "y = np.array([[2,3], [4,5]])\n",
    "print(y.flatten())\n",
    "print(y.flatten('F'))"
   ]
  },
  {
   "attachments": {},
   "cell_type": "markdown",
   "metadata": {},
   "source": [
    "### 2. Transpose-like operations\n",
    "\n",
    "| Name | description |\n",
    "|----------|-------------|\n",
    "| `moveaxis(a, source, destination)` | Move axes of an array to new positions. |\n",
    "| `rollaxis(a, axis[, start])` | Roll the specified axis backwards, until it lies in a given position. | \n",
    "| `swapaxes(a, axis1, axis2)` | Interchange two axes of an array. |\n",
    "| `ndarray.T` | View of the transposed array. |\n",
    "| `transpose(a[, axes])` | Returns an array with axes transposed. |\n",
    "\n"
   ]
  },
  {
   "attachments": {
    "image-2.png": {
     "image/png": "[encoded data removed]"
    }
   },
   "cell_type": "markdown",
   "metadata": {},
   "source": [
    "Example: 1 ndarray.moveaxis\n",
    "\n",
    "![image.png](attachment:image-2.png)"
   ]
  },
  {
   "cell_type": "code",
   "execution_count": 83,
   "metadata": {},
   "outputs": [
    {
     "name": "stdout",
     "output_type": "stream",
     "text": [
      "(3, 4, 5)\n"
     ]
    }
   ],
   "source": [
    "x = np.zeros((3, 4, 5))\n",
    "print(x.shape)"
   ]
  },
  {
   "cell_type": "code",
   "execution_count": 81,
   "metadata": {},
   "outputs": [
    {
     "data": {
      "text/plain": [
       "(4, 5, 3)"
      ]
     },
     "execution_count": 81,
     "metadata": {},
     "output_type": "execute_result"
    }
   ],
   "source": [
    "np.moveaxis(x, 0, -1).shape"
   ]
  },
  {
   "cell_type": "code",
   "execution_count": 84,
   "metadata": {},
   "outputs": [
    {
     "data": {
      "text/plain": [
       "(5, 3, 4)"
      ]
     },
     "execution_count": 84,
     "metadata": {},
     "output_type": "execute_result"
    }
   ],
   "source": [
    "np.moveaxis(x, -1, 0).shape"
   ]
  },
  {
   "attachments": {},
   "cell_type": "markdown",
   "metadata": {},
   "source": [
    "Example: 2 ndarray.transpose"
   ]
  },
  {
   "cell_type": "code",
   "execution_count": 85,
   "metadata": {},
   "outputs": [
    {
     "data": {
      "text/plain": [
       "(5, 4, 3)"
      ]
     },
     "execution_count": 85,
     "metadata": {},
     "output_type": "execute_result"
    }
   ],
   "source": [
    "np.transpose(x).shape"
   ]
  },
  {
   "attachments": {},
   "cell_type": "markdown",
   "metadata": {},
   "source": [
    "Example: 3 ndarray.swapaxes"
   ]
  },
  {
   "cell_type": "code",
   "execution_count": 86,
   "metadata": {},
   "outputs": [
    {
     "data": {
      "text/plain": [
       "(5, 4, 3)"
      ]
     },
     "execution_count": 86,
     "metadata": {},
     "output_type": "execute_result"
    }
   ],
   "source": [
    "np.swapaxes(x, 0, -1).shape"
   ]
  },
  {
   "cell_type": "code",
   "execution_count": 87,
   "metadata": {},
   "outputs": [
    {
     "data": {
      "text/plain": [
       "(5, 4, 3)"
      ]
     },
     "execution_count": 87,
     "metadata": {},
     "output_type": "execute_result"
    }
   ],
   "source": [
    "np.moveaxis(x, [0, 1], [-1, -2]).shape"
   ]
  },
  {
   "cell_type": "code",
   "execution_count": 88,
   "metadata": {},
   "outputs": [
    {
     "data": {
      "text/plain": [
       "(5, 4, 3)"
      ]
     },
     "execution_count": 88,
     "metadata": {},
     "output_type": "execute_result"
    }
   ],
   "source": [
    "np.moveaxis(x, [0, 1, 2], [-1, -2, -3]).shape"
   ]
  },
  {
   "attachments": {},
   "cell_type": "markdown",
   "metadata": {},
   "source": [
    "### 3. Changing number of dimensions\n",
    "\n",
    "| Routines | Explanation |\n",
    "|----------|-------------|\n",
    "| `np.atleast_1d(*arys)` | Convert inputs to arrays with at least one dimension | \n",
    "| `np.atleast_2d(*arys)` | View inputs as arrays with at least two dimensions. | \n",
    "| `np.atleast_3d(*arys)` | View inputs as arrays with at least three dimensions |\n",
    "| `np.broadcast` | Produce an object that mimics broadcasting | \n",
    "| `np.broadcast_to(array, shape[, subok])` | Broadcast an array to a new shape | \n",
    "| `np.broadcast_arrays(*args[, subok])` | Broadcast any number of arrays against each other | \n",
    "| `np.expand_dims(a, axis)` | Expand the shape of an array | \n",
    "| `np.squeeze(a[, axis])` | Remove axes of length one from a  |\n",
    "\n"
   ]
  },
  {
   "attachments": {},
   "cell_type": "markdown",
   "metadata": {},
   "source": [
    "#### 3a. NumPy Broadcasting\n",
    "\n",
    "In Mathematical operations, we may need to consider the arrays of different shapes. NumPy can perform such operations where the array of different shapes are involved. If the shape of the two arrays are same, the mathematical operations can be performed easily. For example, doing multiplication of two arrays of same size. If the shape of the two arrays are not same, it will show an error and hence can not be multiplied. NumPy can perform such operation by using the concept of broadcasting. \n",
    "\n",
    "In broadcasting, the smaller array is broadcast to the larger array to make their shapes compatible with each other.\n",
    "\n",
    "![Image](https://static.javatpoint.com/tutorial/numpy/images/numpy-broadcasting.png)"
   ]
  },
  {
   "cell_type": "code",
   "execution_count": 94,
   "metadata": {},
   "outputs": [
    {
     "name": "stdout",
     "output_type": "stream",
     "text": [
      "[ 2  8 18 32 50 72 98]\n"
     ]
    }
   ],
   "source": [
    "a = np.array([1,2,3,4,5,6,7])  \n",
    "b = np.array([2,4,6,8,10,12,14])  \n",
    "c = a*b;  \n",
    "print(c) "
   ]
  },
  {
   "cell_type": "code",
   "execution_count": 95,
   "metadata": {},
   "outputs": [
    {
     "ename": "ValueError",
     "evalue": "operands could not be broadcast together with shapes (7,) (8,) ",
     "output_type": "error",
     "traceback": [
      "\u001b[1;31m---------------------------------------------------------------------------\u001b[0m",
      "\u001b[1;31mValueError\u001b[0m                                Traceback (most recent call last)",
      "\u001b[1;32md:\\Arun 2022\\Python\\Numpy-tutorial.ipynb Cell 97\u001b[0m in \u001b[0;36m<cell line: 3>\u001b[1;34m()\u001b[0m\n\u001b[0;32m      <a href='vscode-notebook-cell:/d%3A/Arun%202022/Python/Numpy-tutorial.ipynb#Y214sZmlsZQ%3D%3D?line=0'>1</a>\u001b[0m a \u001b[39m=\u001b[39m np\u001b[39m.\u001b[39marray([\u001b[39m1\u001b[39m,\u001b[39m2\u001b[39m,\u001b[39m3\u001b[39m,\u001b[39m4\u001b[39m,\u001b[39m5\u001b[39m,\u001b[39m6\u001b[39m,\u001b[39m7\u001b[39m])  \n\u001b[0;32m      <a href='vscode-notebook-cell:/d%3A/Arun%202022/Python/Numpy-tutorial.ipynb#Y214sZmlsZQ%3D%3D?line=1'>2</a>\u001b[0m b \u001b[39m=\u001b[39m np\u001b[39m.\u001b[39marray([\u001b[39m2\u001b[39m,\u001b[39m4\u001b[39m,\u001b[39m6\u001b[39m,\u001b[39m8\u001b[39m,\u001b[39m10\u001b[39m,\u001b[39m12\u001b[39m,\u001b[39m14\u001b[39m,\u001b[39m19\u001b[39m])  \n\u001b[1;32m----> <a href='vscode-notebook-cell:/d%3A/Arun%202022/Python/Numpy-tutorial.ipynb#Y214sZmlsZQ%3D%3D?line=2'>3</a>\u001b[0m c \u001b[39m=\u001b[39m a\u001b[39m*\u001b[39;49mb;  \n\u001b[0;32m      <a href='vscode-notebook-cell:/d%3A/Arun%202022/Python/Numpy-tutorial.ipynb#Y214sZmlsZQ%3D%3D?line=3'>4</a>\u001b[0m \u001b[39mprint\u001b[39m(c)\n",
      "\u001b[1;31mValueError\u001b[0m: operands could not be broadcast together with shapes (7,) (8,) "
     ]
    }
   ],
   "source": [
    "a = np.array([1,2,3,4,5,6,7])  \n",
    "b = np.array([2,4,6,8,10,12,14,19])  \n",
    "c = a*b;  \n",
    "print(c)"
   ]
  },
  {
   "cell_type": "code",
   "execution_count": 96,
   "metadata": {},
   "outputs": [
    {
     "name": "stdout",
     "output_type": "stream",
     "text": [
      "\n",
      "printing array a..\n",
      "[[ 1  2  3  4]\n",
      " [ 2  4  5  6]\n",
      " [10 20 39  3]]\n",
      "\n",
      "printing array b..\n",
      "[2 4 6 8]\n",
      "\n",
      "Adding arrays a and b ..\n",
      "[[ 3  6  9 12]\n",
      " [ 4  8 11 14]\n",
      " [12 24 45 11]]\n"
     ]
    }
   ],
   "source": [
    "a = np.array([[1,2,3,4],[2,4,5,6],[10,20,39,3]])  \n",
    "b = np.array([2,4,6,8])  \n",
    "print(\"\\nprinting array a..\")  \n",
    "print(a)  \n",
    "print(\"\\nprinting array b..\")  \n",
    "print(b)  \n",
    "print(\"\\nAdding arrays a and b ..\")  \n",
    "c = a + b;  \n",
    "print(c)"
   ]
  },
  {
   "attachments": {},
   "cell_type": "markdown",
   "metadata": {},
   "source": [
    "### 4. Changing kind of array\n",
    "\n",
    "| Routines | Explanation | Example |\n",
    "|----------|-------------|---------|\n",
    "| `asarray(a[, dtype, order, like])` | Convert the input to an array | |\n",
    "| `asanyarray(a[, dtype, order, like])` | Convert the input to an ndarray, but pass ndarray subclasses through | |\n",
    "| `asmatrix(data[, dtype])` | Interpret the input as a matrix | |\n",
    "| `asfarray(a[, dtype])` | Return an array converted to a float type | |\n",
    "| `asfortranarray(a[, dtype, like])` | Return an array (ndim >= 1) laid out in Fortran order in memory | |\n",
    "| `ascontiguousarray(a[, dtype, like])` | return a contiguous array (ndim >= 1) in memory (C order) | |\n",
    "| `asarray_chkfinite(a[, dtype, order])` | Convert the input to an array, checking for NaNs or Infs | |\n",
    "| `require(a[, dtype, requirements, like])` | Return an ndarray of the provided type that satisfies requirements | |"
   ]
  },
  {
   "attachments": {},
   "cell_type": "markdown",
   "metadata": {},
   "source": [
    "### 5. Joining arrays\n",
    "\n",
    "| Routines | Explanation |\n",
    "|----------|-------------|\n",
    "| `concatenate([axis, out, dtype, casting])` | Join a sequence of arrays along an existing axis |\n",
    "| `stack(arrays[, axis, out, dtype, casting])` | Join a sequence of arrays along a new axis |\n",
    "| `block(arrays)` | Assemble an nd-array from nested lists of blocks |\n",
    "| `vstack(tup, *[, dtype, casting])` | Stack arrays in sequence vertically (row wise) |\n",
    "| `hstack(tup, *[, dtype, casting])` | Stack arrays in sequence horizontally (column wise) |\n",
    "| `dstack(tup)` | Stack arrays in sequence depth wise (along third axis) |\n",
    "| `column_stack(tup)` | Stack 1-D arrays as columns into a 2-D array | \n",
    "| `row_stack(tup, *[, dtype, casting])` | Stack arrays in sequence vertically (row wise) |\n",
    "\n",
    "\n",
    "The numpy provides us with the vertical stacking and horizontal stacking which allows us to concatenate two multi-dimensional arrays vertically or horizontally.\n",
    "\n",
    "In Numpy, we can use the \n",
    "- `numpy.concatenate((array1, array2), axis= ? )` function or the \n",
    "- `numpy.vstack(array1, array2)` and \n",
    "- `numpy.hstack(array1, array2)` functions \n",
    "\n",
    "to concatenate two arrays.\n",
    "\n",
    "**Axis:**\n",
    "The axis argument in the numpy.concatenate() function is used to specify the axis along which the arrays will be concatenated.\n",
    "\n",
    "If axis is set to 0, the arrays will be concatenated along the rows (i.e., the first axis), resulting in an array with more rows than the original arrays. The shape of the arrays along the first axis (rows) must be the same for all arrays.\n",
    "\n",
    "If axis is set to 1, the arrays will be concatenated along the columns (i.e., the second axis), resulting in an array with more columns than the original arrays. The shape of the arrays along the second axis (columns) must be the same for all arrays."
   ]
  },
  {
   "cell_type": "code",
   "execution_count": 97,
   "metadata": {},
   "outputs": [],
   "source": [
    "# Creating two arrays\n",
    "array_1 = np.array([[1, 2], [3, 4]])\n",
    "array_2 = np.array([[5, 6], [7, 8]])\n",
    "\n",
    "# Concatenate the arrays along the rows\n",
    "result1 = np.concatenate((array_1, array_2), axis=0)\n",
    "result2 = np.concatenate((array_1, array_2), axis=1)"
   ]
  },
  {
   "cell_type": "code",
   "execution_count": 98,
   "metadata": {},
   "outputs": [
    {
     "name": "stdout",
     "output_type": "stream",
     "text": [
      "[[1 2]\n",
      " [3 4]\n",
      " [5 6]\n",
      " [7 8]]\n"
     ]
    }
   ],
   "source": [
    "print(result1)"
   ]
  },
  {
   "cell_type": "code",
   "execution_count": 99,
   "metadata": {},
   "outputs": [
    {
     "name": "stdout",
     "output_type": "stream",
     "text": [
      "[[1 2 5 6]\n",
      " [3 4 7 8]]\n"
     ]
    }
   ],
   "source": [
    "print(result2)"
   ]
  },
  {
   "cell_type": "code",
   "execution_count": 100,
   "metadata": {},
   "outputs": [
    {
     "name": "stdout",
     "output_type": "stream",
     "text": [
      "Arrays vertically concatenated\n",
      " [[ 1  2 30]\n",
      " [10 15  4]\n",
      " [ 1  2  3]\n",
      " [12 19 29]]\n",
      "Arrays horizontally concatenated\n",
      " [[ 1  2 30  1  2  3]\n",
      " [10 15  4 12 19 29]]\n"
     ]
    }
   ],
   "source": [
    "a = np.array([[1,2,30],[10,15,4]])  \n",
    "b = np.array([[1,2,3],[12, 19, 29]])  \n",
    "print(\"Arrays vertically concatenated\\n\",np.vstack((a,b)))\n",
    "\n",
    "print(\"Arrays horizontally concatenated\\n\",np.hstack((a,b)))"
   ]
  },
  {
   "cell_type": "code",
   "execution_count": 101,
   "metadata": {},
   "outputs": [
    {
     "name": "stdout",
     "output_type": "stream",
     "text": [
      "[[ 1  2  3  7  8  9 10]\n",
      " [ 4  5  6 11 12 13 14]]\n"
     ]
    }
   ],
   "source": [
    "array_1 = np.array([[1,2,3], [4,5,6]])\n",
    "array_2 = np.array([[7,8,9,10], [11,12,13,14]])\n",
    "\n",
    "result1 = np.concatenate((array_1, array_2), axis=1) # along axis =1, elements have same dimension of 2.\n",
    "print(result1)"
   ]
  },
  {
   "attachments": {},
   "cell_type": "markdown",
   "metadata": {},
   "source": [
    "### 6. Splitting arrays\n",
    "\n",
    "| Routines | Explanation |\n",
    "|----------|-------------|\n",
    "| `split(ary, indices_or_sections[, axis])` | Split an array into multiple sub-arrays as views into ary (split evenly) |\n",
    "| `array_split(ary, indices_or_sections[, axis])` |  Split an array into multiple sub-arrays (split even in the case if it is not possible to split evenly) |\n",
    "| `dsplit(ary, indices_or_sections)` | Split array into multiple sub-arrays along the 3rd axis (depth) | \n",
    "| `hsplit(ary, indices_or_sections)` | Split an array into multiple sub-arrays horizontally (column-wise) |\n",
    "| `vsplit(ary, indices_or_sections)` |  Split an array into multiple sub-arrays vertically (row-wise) |"
   ]
  },
  {
   "attachments": {},
   "cell_type": "markdown",
   "metadata": {},
   "source": [
    "#### 6a. NumPy: split()\n",
    "\n",
    "The split() function is used assemble an nd-array from given nested lists of splits.\n",
    "\n",
    "`numpy.split(ary, indices_or_sections, axis=0)`\n",
    "\n",
    "- If `indices_or_sections` is integer N, then array will be divided into N equal arrays along axis. If such a split is not possible, an error is raised.\n",
    "- If `indices_or_sections` is a 1-D array of sorted integers, the entries indicate where along axis the array is split. Example: array [2, 3] would, for axis=0, result in\n",
    "\n",
    "    ary[:2], ary[2:3],  ary[3:]\n",
    "    \n",
    "- If an index exceeds the dimension of the array along axis, an empty sub-array is returned correspondingly."
   ]
  },
  {
   "cell_type": "code",
   "execution_count": 106,
   "metadata": {},
   "outputs": [
    {
     "name": "stdout",
     "output_type": "stream",
     "text": [
      "[0. 1. 2. 3. 4. 5. 6. 7.]\n"
     ]
    }
   ],
   "source": [
    "# 3xample-1\n",
    "a = np.arange(8.0)\n",
    "\n",
    "print(a)"
   ]
  },
  {
   "cell_type": "code",
   "execution_count": 108,
   "metadata": {},
   "outputs": [
    {
     "data": {
      "text/plain": [
       "[array([0., 1., 2., 3.]), array([4., 5., 6., 7.])]"
      ]
     },
     "execution_count": 108,
     "metadata": {},
     "output_type": "execute_result"
    }
   ],
   "source": [
    "np.split(a, 2)"
   ]
  },
  {
   "cell_type": "code",
   "execution_count": 110,
   "metadata": {},
   "outputs": [
    {
     "name": "stdout",
     "output_type": "stream",
     "text": [
      "[0. 1. 2. 3. 4. 5.]\n"
     ]
    }
   ],
   "source": [
    "# Example 2\n",
    "a = np.arange(6.0)\n",
    "print(a)"
   ]
  },
  {
   "cell_type": "code",
   "execution_count": 123,
   "metadata": {},
   "outputs": [
    {
     "data": {
      "text/plain": [
       "[array([0., 1., 2., 3.]),\n",
       " array([4.]),\n",
       " array([5.]),\n",
       " array([], dtype=float64),\n",
       " array([], dtype=float64)]"
      ]
     },
     "execution_count": 123,
     "metadata": {},
     "output_type": "execute_result"
    }
   ],
   "source": [
    "np.split(a, [4, 5, 6, 7])"
   ]
  },
  {
   "attachments": {},
   "cell_type": "markdown",
   "metadata": {},
   "source": [
    "#### 6b. array_split\n",
    "\n",
    "`numpy.array_split(ary, indices_or_sections, axis=0)`\n",
    "\n",
    "The only difference between these functions is that array_split allows indices_or_sections to be an integer that does not equally divide the axis. "
   ]
  },
  {
   "cell_type": "code",
   "execution_count": 124,
   "metadata": {},
   "outputs": [
    {
     "data": {
      "text/plain": [
       "[array([0, 1, 2]), array([3, 4]), array([5, 6]), array([7, 8])]"
      ]
     },
     "execution_count": 124,
     "metadata": {},
     "output_type": "execute_result"
    }
   ],
   "source": [
    "x = np.arange(9)\n",
    "np.array_split(x, 4)"
   ]
  },
  {
   "attachments": {},
   "cell_type": "markdown",
   "metadata": {},
   "source": [
    "#### 6c. numpy.hsplit\n",
    "\n",
    "`numpy.hsplit(ary, indices_or_sections)`\n",
    "\n",
    "`hsplit` is equivalent to split with `axis=1`, the array is always split along the second axis except for 1-D arrays, where it is split at `axis=0`.\n",
    "\n"
   ]
  },
  {
   "cell_type": "code",
   "execution_count": 127,
   "metadata": {},
   "outputs": [
    {
     "name": "stdout",
     "output_type": "stream",
     "text": [
      "[[ 0.  1.  2.  3.]\n",
      " [ 4.  5.  6.  7.]\n",
      " [ 8.  9. 10. 11.]\n",
      " [12. 13. 14. 15.]]\n"
     ]
    }
   ],
   "source": [
    "# Example \n",
    "x = np.arange(16.0).reshape(4, 4)\n",
    "print(x)"
   ]
  },
  {
   "cell_type": "code",
   "execution_count": 131,
   "metadata": {},
   "outputs": [
    {
     "data": {
      "text/plain": [
       "[array([[ 0.,  1.],\n",
       "        [ 4.,  5.],\n",
       "        [ 8.,  9.],\n",
       "        [12., 13.]]),\n",
       " array([[ 2.,  3.],\n",
       "        [ 6.,  7.],\n",
       "        [10., 11.],\n",
       "        [14., 15.]])]"
      ]
     },
     "execution_count": 131,
     "metadata": {},
     "output_type": "execute_result"
    }
   ],
   "source": [
    "np.hsplit(x, 2)"
   ]
  },
  {
   "cell_type": "code",
   "execution_count": 134,
   "metadata": {},
   "outputs": [
    {
     "name": "stdout",
     "output_type": "stream",
     "text": [
      "[[[0. 1.]\n",
      "  [2. 3.]]\n",
      "\n",
      " [[4. 5.]\n",
      "  [6. 7.]]]\n"
     ]
    }
   ],
   "source": [
    "# Example 2\n",
    "x = np.arange(8.0).reshape(2, 2, 2)\n",
    "print(x)\n",
    "\n",
    "y= np.hsplit(x, 2)"
   ]
  },
  {
   "cell_type": "code",
   "execution_count": 136,
   "metadata": {},
   "outputs": [
    {
     "name": "stdout",
     "output_type": "stream",
     "text": [
      "[array([[[0., 1.]],\n",
      "\n",
      "       [[4., 5.]]]), array([[[2., 3.]],\n",
      "\n",
      "       [[6., 7.]]])]\n"
     ]
    }
   ],
   "source": [
    "print(y)"
   ]
  },
  {
   "attachments": {},
   "cell_type": "markdown",
   "metadata": {},
   "source": [
    "#### 6d. numpy.vsplit\n",
    "\n",
    "`numpy.vsplit(ary, indices_or_sections)`\n",
    "\n",
    "The `vsplit` is equivalent to `split` with `axis=0` (default), the array is always split along the first axis regardless of the array dimension."
   ]
  },
  {
   "cell_type": "code",
   "execution_count": 138,
   "metadata": {},
   "outputs": [
    {
     "data": {
      "text/plain": [
       "array([[ 0.,  1.,  2.,  3.],\n",
       "       [ 4.,  5.,  6.,  7.],\n",
       "       [ 8.,  9., 10., 11.],\n",
       "       [12., 13., 14., 15.]])"
      ]
     },
     "execution_count": 138,
     "metadata": {},
     "output_type": "execute_result"
    }
   ],
   "source": [
    "# Example \n",
    "\n",
    "x = np.arange(16.0).reshape(4, 4)\n",
    "x"
   ]
  },
  {
   "cell_type": "code",
   "execution_count": 139,
   "metadata": {},
   "outputs": [
    {
     "data": {
      "text/plain": [
       "[array([[0., 1., 2., 3.],\n",
       "        [4., 5., 6., 7.]]),\n",
       " array([[ 8.,  9., 10., 11.],\n",
       "        [12., 13., 14., 15.]])]"
      ]
     },
     "execution_count": 139,
     "metadata": {},
     "output_type": "execute_result"
    }
   ],
   "source": [
    "np.vsplit(x, 2)"
   ]
  },
  {
   "cell_type": "code",
   "execution_count": 140,
   "metadata": {},
   "outputs": [
    {
     "data": {
      "text/plain": [
       "[array([[ 0.,  1.,  2.,  3.],\n",
       "        [ 4.,  5.,  6.,  7.],\n",
       "        [ 8.,  9., 10., 11.]]),\n",
       " array([[12., 13., 14., 15.]]),\n",
       " array([], shape=(0, 4), dtype=float64)]"
      ]
     },
     "execution_count": 140,
     "metadata": {},
     "output_type": "execute_result"
    }
   ],
   "source": [
    "np.vsplit(x, np.array([3, 6]))"
   ]
  },
  {
   "attachments": {},
   "cell_type": "markdown",
   "metadata": {},
   "source": [
    "### 7. Tiling arrays\n",
    "\n",
    "| Routines | Explanation |\n",
    "|----------|-------------|\n",
    "| `tile(A, reps)` | Construct an array by repeating A the number of times given by reps |\n",
    "| `repeat(a, repeats[, axis])` |  Repeat elements of an array |"
   ]
  },
  {
   "cell_type": "code",
   "execution_count": 141,
   "metadata": {},
   "outputs": [
    {
     "data": {
      "text/plain": [
       "array([[1, 2, 1, 2],\n",
       "       [3, 4, 3, 4]])"
      ]
     },
     "execution_count": 141,
     "metadata": {},
     "output_type": "execute_result"
    }
   ],
   "source": [
    "# Example on tile\n",
    "\n",
    "b = np.array([[1, 2], [3, 4]])\n",
    "\n",
    "np.tile(b, 2)"
   ]
  },
  {
   "cell_type": "code",
   "execution_count": 143,
   "metadata": {},
   "outputs": [
    {
     "name": "stdout",
     "output_type": "stream",
     "text": [
      "[[1 2]\n",
      " [3 4]]\n",
      "[1 1 2 2 3 3 4 4]\n",
      "[[1 1 1 2 2 2]\n",
      " [3 3 3 4 4 4]]\n",
      "[[1 2]\n",
      " [3 4]\n",
      " [3 4]]\n"
     ]
    }
   ],
   "source": [
    "# Example on repeate\n",
    "\n",
    "x = np.array([[1,2],[3,4]])\n",
    "print(x)\n",
    "print(np.repeat(x, 2))\n",
    "print(np.repeat(x, 3, axis=1))\n",
    "print(np.repeat(x, [1, 2], axis=0))"
   ]
  },
  {
   "attachments": {},
   "cell_type": "markdown",
   "metadata": {},
   "source": [
    "### 8. Adding and removing elements\n",
    "\n",
    "| Routines | Explanation |\n",
    "|----------|-------------|\n",
    "| `delete(arr, obj[, axis])` | Return a new array with sub-arrays along an axis deleted |\n",
    "| `insert(arr, obj, values[, axis])` | Insert values along the given axis before the given indices |\n",
    "| `append(arr, values[, axis])` | Append values to the end of an array  |\n",
    "| `resize(a, new_shape)` | Return a new array with the specified shape |\n",
    "| `trim_zeros(filt[, trim])` | Trim the leading and/or trailing zeros from a 1-D array or sequence |\n",
    "| `unique(ar[, return_index, return_inverse, ...])` | Find the unique elements of an array |"
   ]
  },
  {
   "attachments": {},
   "cell_type": "markdown",
   "metadata": {},
   "source": [
    "#### 8a. numpy.delete(arr, obj, axis=None)\n",
    "\n",
    "`numpy.delete(arr, obj, axis=None)`\n",
    "\n",
    "- `obj` = Indicate which sub-arrays to remove.\tRequired\n",
    "- `axis` =\tThe axis along which to delete the subarray defined by obj. If axis is None, obj is applied to the flattened array.\n",
    "\n",
    "Example:\n",
    "          \n",
    "                axis ↓ 0\n",
    "|       | Col1| col2| col3 | col4|\n",
    "|-------|-----|-----|------|-----|\n",
    "| row0  | a00 | a01 | a02  | a03 |\n",
    "| row1  | a10 | a11 | a12  | a13 |\n",
    "| row2  | a20 | a21 | a22  | a23 |\n",
    "| row3  | a30 | a31 | a32  | a33 |\n",
    "              axis →   1\n",
    "\n",
    ".delete(arr, obj=1, axis=1) ===> it will delete the coloum 1  "
   ]
  },
  {
   "attachments": {},
   "cell_type": "markdown",
   "metadata": {},
   "source": [
    "Example:-1 Delete array"
   ]
  },
  {
   "cell_type": "code",
   "execution_count": 183,
   "metadata": {},
   "outputs": [
    {
     "data": {
      "text/plain": [
       "array([[ 1,  2,  3,  4],\n",
       "       [ 5,  6,  7,  8],\n",
       "       [ 9, 10, 11, 12]])"
      ]
     },
     "execution_count": 183,
     "metadata": {},
     "output_type": "execute_result"
    }
   ],
   "source": [
    "arr = np.array([[1,2,3,4], [5,6,7,8], [9,10,11,12]])\n",
    "arr"
   ]
  },
  {
   "cell_type": "code",
   "execution_count": 184,
   "metadata": {},
   "outputs": [
    {
     "data": {
      "text/plain": [
       "array([[ 1,  2,  3,  4],\n",
       "       [ 9, 10, 11, 12]])"
      ]
     },
     "execution_count": 184,
     "metadata": {},
     "output_type": "execute_result"
    }
   ],
   "source": [
    "np.delete(arr, 1, 0) # move along axis 0 and delete row 1."
   ]
  },
  {
   "attachments": {
    "image.png": {
     "image/png": "[encoded data removed]"
    }
   },
   "cell_type": "markdown",
   "metadata": {},
   "source": [
    "![image.png](attachment:image.png)\n",
    "\n",
    "Pictorial representation of above example."
   ]
  },
  {
   "cell_type": "code",
   "execution_count": 185,
   "metadata": {},
   "outputs": [
    {
     "data": {
      "text/plain": [
       "array([[ 1,  3,  4],\n",
       "       [ 5,  7,  8],\n",
       "       [ 9, 11, 12]])"
      ]
     },
     "execution_count": 185,
     "metadata": {},
     "output_type": "execute_result"
    }
   ],
   "source": [
    "np.delete(arr, 1, 1) # move along axis 1 and delete column 1."
   ]
  },
  {
   "cell_type": "code",
   "execution_count": 186,
   "metadata": {},
   "outputs": [
    {
     "data": {
      "text/plain": [
       "array([[ 1,  2,  4],\n",
       "       [ 5,  6,  8],\n",
       "       [ 9, 10, 12]])"
      ]
     },
     "execution_count": 186,
     "metadata": {},
     "output_type": "execute_result"
    }
   ],
   "source": [
    "np.delete(arr, 2, 1) # move along axis 1 and delete column 2."
   ]
  },
  {
   "cell_type": "code",
   "execution_count": 187,
   "metadata": {},
   "outputs": [
    {
     "data": {
      "text/plain": [
       "array([[ 1,  4],\n",
       "       [ 5,  8],\n",
       "       [ 9, 12]])"
      ]
     },
     "execution_count": 187,
     "metadata": {},
     "output_type": "execute_result"
    }
   ],
   "source": [
    "# Deleting multiple columns or rows\n",
    "np.delete(arr, [2,1], 1) # move along axis 1 and delete column 2 and 1."
   ]
  },
  {
   "cell_type": "code",
   "execution_count": 188,
   "metadata": {},
   "outputs": [
    {
     "data": {
      "text/plain": [
       "array([[ 1,  2,  3],\n",
       "       [ 5,  6,  7],\n",
       "       [ 9, 10, 11]])"
      ]
     },
     "execution_count": 188,
     "metadata": {},
     "output_type": "execute_result"
    }
   ],
   "source": [
    "np.delete(arr, 3, 1) # move along axis 1 and delete column 1."
   ]
  },
  {
   "cell_type": "code",
   "execution_count": 189,
   "metadata": {},
   "outputs": [
    {
     "data": {
      "text/plain": [
       "array([[1, 2, 3, 4]])"
      ]
     },
     "execution_count": 189,
     "metadata": {},
     "output_type": "execute_result"
    }
   ],
   "source": [
    "# Deleting multiple columns or rows\n",
    "np.delete(arr, [2,1], 0) # move along axis 1 and delete column 2 and 1."
   ]
  },
  {
   "attachments": {},
   "cell_type": "markdown",
   "metadata": {},
   "source": [
    "#### 8b. numpy.insert(arr, obj, values, axis=None)\n",
    "\n",
    "- `arr` = Input array.\n",
    "- `obj` = Object that defines the index or indices before which values is inserted. Support for multiple insertions when obj is a single scalar or a sequence with one element (similar to calling insert multiple times).\n",
    "- `values` =\t[array_like] Values to insert into arr. If the type of values is different from that of arr, values is converted to the type of arr. values should be shaped so that `arr[...,obj,.. .]` = values is legal\n",
    "- `axis` =\tAxis along which to insert values. If axis is None then arr is flattened first.\n",
    "\n",
    "**Note:** Return will be a copy of `arr` with values inserted. Note that insert does not occur in-place: a new array is returned. If axis is None, out is a flattened array."
   ]
  },
  {
   "cell_type": "code",
   "execution_count": 166,
   "metadata": {},
   "outputs": [
    {
     "data": {
      "text/plain": [
       "array([[0, 0],\n",
       "       [1, 1],\n",
       "       [2, 2]])"
      ]
     },
     "execution_count": 166,
     "metadata": {},
     "output_type": "execute_result"
    }
   ],
   "source": [
    "# Example insert\n",
    "\n",
    "x = np.array([[0,0], [1,1], [2,2]])\n",
    "x"
   ]
  },
  {
   "cell_type": "code",
   "execution_count": 167,
   "metadata": {},
   "outputs": [
    {
     "data": {
      "text/plain": [
       "array([0, 0, 4, 1, 1, 2, 2])"
      ]
     },
     "execution_count": 167,
     "metadata": {},
     "output_type": "execute_result"
    }
   ],
   "source": [
    "np.insert(x, 2, 4)"
   ]
  },
  {
   "attachments": {
    "image.png": {
     "image/png": "[encoded data removed]"
    }
   },
   "cell_type": "markdown",
   "metadata": {},
   "source": [
    "![image.png](attachment:image.png)\n",
    "\n",
    "A pictorial representation of the above example."
   ]
  },
  {
   "cell_type": "code",
   "execution_count": 175,
   "metadata": {},
   "outputs": [
    {
     "data": {
      "text/plain": [
       "array([[0, 0],\n",
       "       [1, 1],\n",
       "       [4, 4],\n",
       "       [2, 2]])"
      ]
     },
     "execution_count": 175,
     "metadata": {},
     "output_type": "execute_result"
    }
   ],
   "source": [
    "np.insert(x, 2, 4, axis=0) # insert in the axis direction. If axis =0 , then move along axis=0 and insert a row 2 with entry of 4."
   ]
  },
  {
   "cell_type": "code",
   "execution_count": 180,
   "metadata": {},
   "outputs": [
    {
     "data": {
      "text/plain": [
       "array([[0, 0, 4],\n",
       "       [1, 1, 4],\n",
       "       [2, 2, 4]])"
      ]
     },
     "execution_count": 180,
     "metadata": {},
     "output_type": "execute_result"
    }
   ],
   "source": [
    "np.insert(x, 2, 4, axis=1) # insert in the the axis direction. If axis =1 , then move along axis=1 and insert a coloumn 2 with entry of 4."
   ]
  },
  {
   "attachments": {
    "image.png": {
     "image/png": "[encoded data removed]"
    }
   },
   "cell_type": "markdown",
   "metadata": {},
   "source": [
    "![image.png](attachment:image.png)\n",
    "\n",
    "A pictorial representation of the above example."
   ]
  },
  {
   "cell_type": "code",
   "execution_count": 181,
   "metadata": {},
   "outputs": [
    {
     "data": {
      "text/plain": [
       "array([[ 0,  1,  2,  3],\n",
       "       [ 4,  5,  6,  7],\n",
       "       [ 8,  9, 10, 11]])"
      ]
     },
     "execution_count": 181,
     "metadata": {},
     "output_type": "execute_result"
    }
   ],
   "source": [
    "z = np.arange(12).reshape(3,4)\n",
    "z"
   ]
  },
  {
   "cell_type": "code",
   "execution_count": 190,
   "metadata": {},
   "outputs": [
    {
     "data": {
      "text/plain": [
       "array([[  0, 777,   1,   2, 777,   3],\n",
       "       [  4, 777,   5,   6, 777,   7],\n",
       "       [  8, 777,   9,  10, 777,  11]])"
      ]
     },
     "execution_count": 190,
     "metadata": {},
     "output_type": "execute_result"
    }
   ],
   "source": [
    "# Inserting into multiple lines\n",
    "idz = (1, 3)\n",
    "np.insert(z, idz, 777, axis=1)"
   ]
  },
  {
   "attachments": {
    "image.png": {
     "image/png": "[encoded data removed]"
    }
   },
   "cell_type": "markdown",
   "metadata": {},
   "source": [
    "![image.png](attachment:image.png)\n",
    "\n",
    "Pictorial representation of above example."
   ]
  },
  {
   "attachments": {},
   "cell_type": "markdown",
   "metadata": {},
   "source": [
    "#### 8c. Append in array\n",
    "\n",
    "`numpy.append(arr, values, axis=None)`\n",
    "\n",
    "where\n",
    "- `arr`\t= Values are appended to a copy of this array.\n",
    "- `values` =\tThese values are appended to a copy of arr. It must be of the correct shape (the same shape as arr, excluding axis). If axis is not specified, values can be any shape and will be flattened before use.\n",
    "- `axis`\tThe axis along which values are appended. If axis is not given, both arr and values are flattened before use.\n",
    "\n",
    "\n",
    "**Note:** A copy of `arr` with values appended to axis. Note that append does not occur in-place: a new array is allocated and filled. If axis is None, out is a flattened array."
   ]
  },
  {
   "cell_type": "code",
   "execution_count": 191,
   "metadata": {},
   "outputs": [
    {
     "data": {
      "text/plain": [
       "array([0, 1, 2, 3, 4, 5, 6, 7, 8])"
      ]
     },
     "execution_count": 191,
     "metadata": {},
     "output_type": "execute_result"
    }
   ],
   "source": [
    "# Example-1 without axis given ====> output array is flattened\n",
    "np.append ([0, 1, 2], [[3, 4, 5], [6, 7, 8]])"
   ]
  },
  {
   "cell_type": "code",
   "execution_count": 192,
   "metadata": {},
   "outputs": [
    {
     "data": {
      "text/plain": [
       "array([[0, 1, 2],\n",
       "       [3, 4, 5],\n",
       "       [6, 7, 8]])"
      ]
     },
     "execution_count": 192,
     "metadata": {},
     "output_type": "execute_result"
    }
   ],
   "source": [
    "# Example-2 with axis along axis =0\n",
    "\n",
    "np.append([[0, 1, 2], [3, 4, 5]],[[6, 7, 8]], axis=0)"
   ]
  },
  {
   "attachments": {
    "image.png": {
     "image/png": "[encoded data removed]"
    }
   },
   "cell_type": "markdown",
   "metadata": {},
   "source": [
    "![image.png](attachment:image.png)\n",
    "\n",
    "Pictorial representation of the above example."
   ]
  },
  {
   "attachments": {},
   "cell_type": "markdown",
   "metadata": {},
   "source": [
    "#### 8d. resize function\n",
    "\n",
    "`numpy.resize(a, new_shape)`\n",
    "\n",
    "- `a` =\tArray to be resized (required)\n",
    "- `new_shape`\tShape of resized array (required)\n",
    "\n",
    "**Note:** The new array is formed from the data in the old array, repeated if necessary to fill out the required number of elements. The data are repeated in the order that they are stored in memory."
   ]
  },
  {
   "cell_type": "code",
   "execution_count": 204,
   "metadata": {},
   "outputs": [
    {
     "data": {
      "text/plain": [
       "array([[1, 2],\n",
       "       [3, 4],\n",
       "       [1, 2]])"
      ]
     },
     "execution_count": 204,
     "metadata": {},
     "output_type": "execute_result"
    }
   ],
   "source": [
    "# Example -1\n",
    "a = np.array([[1,2], [3,4]])\n",
    "np.resize(a, (3,2))"
   ]
  },
  {
   "attachments": {
    "image.png": {
     "image/png": "[encoded data removed]"
    }
   },
   "cell_type": "markdown",
   "metadata": {},
   "source": [
    "![image.png](attachment:image.png)"
   ]
  },
  {
   "cell_type": "code",
   "execution_count": 206,
   "metadata": {},
   "outputs": [
    {
     "data": {
      "text/plain": [
       "array([[1, 2, 3],\n",
       "       [4, 1, 2]])"
      ]
     },
     "execution_count": 206,
     "metadata": {},
     "output_type": "execute_result"
    }
   ],
   "source": [
    "# Example: 2\n",
    "a = np.array([[1,2], [3,4]])\n",
    "np.resize(a, (2,3))"
   ]
  },
  {
   "cell_type": "code",
   "execution_count": 207,
   "metadata": {},
   "outputs": [
    {
     "data": {
      "text/plain": [
       "array([[1, 2, 3, 4],\n",
       "       [1, 2, 3, 4]])"
      ]
     },
     "execution_count": 207,
     "metadata": {},
     "output_type": "execute_result"
    }
   ],
   "source": [
    "# Example-3\n",
    "a = np.array([[1,2], [3,4]])\n",
    "np.resize(a, (2,4))"
   ]
  },
  {
   "attachments": {},
   "cell_type": "markdown",
   "metadata": {},
   "source": [
    "#### 8e. numpy.trim_zeros() function\n",
    "\n",
    "`numpy.trim_zeros(filt, trim='fb')` \n",
    "\n",
    "- `filt`\t= Input array (Required).\n",
    "- `trim` =\tA string with `f` representing trim from front and `b` to trim from back. Default is `fb`, trim zeros from both front and back of the array (optional)."
   ]
  },
  {
   "cell_type": "code",
   "execution_count": 209,
   "metadata": {},
   "outputs": [
    {
     "data": {
      "text/plain": [
       "array([0, 0, 0, 1, 1, 2, 2, 3, 0, 3])"
      ]
     },
     "execution_count": 209,
     "metadata": {},
     "output_type": "execute_result"
    }
   ],
   "source": [
    "# Example-1\n",
    "a = np.array((0,0,0,1,1,2,2,3,0,3))\n",
    "a"
   ]
  },
  {
   "cell_type": "code",
   "execution_count": 210,
   "metadata": {},
   "outputs": [
    {
     "data": {
      "text/plain": [
       "array([1, 1, 2, 2, 3, 0, 3])"
      ]
     },
     "execution_count": 210,
     "metadata": {},
     "output_type": "execute_result"
    }
   ],
   "source": [
    "np.trim_zeros(a)"
   ]
  },
  {
   "attachments": {
    "image.png": {
     "image/png": "[encoded data removed]"
    }
   },
   "cell_type": "markdown",
   "metadata": {},
   "source": [
    "![image.png](attachment:image.png)\n",
    "\n",
    "Pictorial representation of above example"
   ]
  },
  {
   "cell_type": "code",
   "execution_count": 218,
   "metadata": {},
   "outputs": [
    {
     "data": {
      "text/plain": [
       "array([0, 0, 0, 1, 1, 2, 2, 3, 0, 3])"
      ]
     },
     "execution_count": 218,
     "metadata": {},
     "output_type": "execute_result"
    }
   ],
   "source": [
    "# Example-2 \n",
    "a = np.array((0,0,0,1,1,2,2,3,0,3)) # since there are no 0 at the end of the array, nothing changed. If we use 'fb', it will remove 0, 0, 0 from the from=nt\n",
    "np.trim_zeros(a, 'b')"
   ]
  },
  {
   "attachments": {},
   "cell_type": "markdown",
   "metadata": {},
   "source": [
    "#### 8f. numpy.unique() function\n",
    "\n",
    "In the NumPy library, the `unique` function can be used to find the unique elements of an array and return their indices. The basic syntex for the unique function is:\n",
    "\n",
    "```\n",
    "    numpy.unique(ar, return_index=False, return_inverse=False, return_counts=False, axis=None, *, equal_nan=True)\n",
    "```\n",
    "\n",
    "- `ar` = Input array. Unless axis is specified, this will be flattened if it is not already 1-D.\n",
    "- `return_index`: bool (optional) = If True, also return the indices of ar (along the specified axis, if provided, or in the flattened array) that result in the unique array.\n",
    "- `return_inverse`: bool (optional) = If True, also return the indices of the unique array (for the specified axis, if provided) that can be used to reconstruct `ar`.\n",
    "- `return_counts`: bool (optional) = If True, also return the number of times each unique item appears in `ar`.\n",
    "- `axis`: int or None (optional) = The axis to operate on. If None, ar will be flattened. If an integer, the subarrays indexed by the given axis will be flattened and treated as the elements of a 1-D array with the dimension of the given axis, see the notes for more details. Object arrays or structured arrays that contain objects are not supported if the axis kwarg is used. The default is None.\n",
    "\n",
    "\n",
    "**Return array:** \n",
    "The indices corresponds to the array of indices of the unique elements in the input array. To find the array of unique array along with the indices of each element as a array can be obtained by:\n",
    "\n",
    "`unique_elements, indices = np.unique(array, return_index=True)`\n",
    "\n",
    "Where \n",
    "\n",
    "- `array` = input array, \n",
    "- `unique_elements` =  is an array containing the unique elements of the input array, and\n",
    "- `indices` = is an array of indices of the unique elements in the input array.\n",
    "\n",
    "Returns the sorted unique elements of an array. There are three optional outputs in addition to the unique elements:\n",
    "\n",
    "- the indices of the input array that give the unique values\n",
    "- the indices of the unique array that reconstruct the input array\n",
    "- the number of times each unique value comes up in the input array\n",
    "\n",
    "\n",
    "\n",
    "\n",
    "\n",
    "\n",
    "**Output:**\n",
    "\n",
    "- unique : ndarray - The sorted unique values.\n",
    "- unique_indices : ndarray, optional - The indices of the first occurrences of the unique values in the original array. Only provided if return_index is True.\n",
    "- unique_inverse : ndarray, optional - The indices to reconstruct the original array from the unique array. Only provided if return_inverse is True.\n",
    "- unique_counts : ndarray, optional - The number of times each of the unique values comes up in the original array. Only provided if return_counts is True.\n"
   ]
  },
  {
   "cell_type": "code",
   "execution_count": 348,
   "metadata": {},
   "outputs": [
    {
     "data": {
      "text/plain": [
       "array([0, 1, 2, 3, 4])"
      ]
     },
     "execution_count": 348,
     "metadata": {},
     "output_type": "execute_result"
    }
   ],
   "source": [
    "# Example: 1 without axis information, so return array will be flattened\n",
    "x = np.unique([0,1,2,0,2,3,4,3,0,4])\n",
    "x"
   ]
  },
  {
   "attachments": {
    "image.png": {
     "image/png": "[encoded data removed]"
    }
   },
   "cell_type": "markdown",
   "metadata": {},
   "source": [
    "![image.png](attachment:image.png)\n",
    "\n",
    "Pictorial representation of above example."
   ]
  },
  {
   "cell_type": "code",
   "execution_count": 349,
   "metadata": {},
   "outputs": [
    {
     "data": {
      "text/plain": [
       "array([1, 2, 3])"
      ]
     },
     "execution_count": 349,
     "metadata": {},
     "output_type": "execute_result"
    }
   ],
   "source": [
    "# Example 1\n",
    "np.unique([1, 1, 2, 2, 3, 3])"
   ]
  },
  {
   "cell_type": "code",
   "execution_count": 350,
   "metadata": {},
   "outputs": [
    {
     "name": "stdout",
     "output_type": "stream",
     "text": [
      "[[1 1]\n",
      " [2 3]]\n"
     ]
    },
    {
     "data": {
      "text/plain": [
       "array([1, 2, 3])"
      ]
     },
     "execution_count": 350,
     "metadata": {},
     "output_type": "execute_result"
    }
   ],
   "source": [
    "# Example: 2\n",
    "a = np.array([[1, 1], [2, 3]])\n",
    "print(a)\n",
    "np.unique(a)"
   ]
  },
  {
   "cell_type": "code",
   "execution_count": 351,
   "metadata": {},
   "outputs": [
    {
     "name": "stdout",
     "output_type": "stream",
     "text": [
      "[[1 0 0]\n",
      " [1 0 0]\n",
      " [2 3 4]]\n"
     ]
    },
    {
     "data": {
      "text/plain": [
       "array([[1, 0, 0],\n",
       "       [2, 3, 4]])"
      ]
     },
     "execution_count": 351,
     "metadata": {},
     "output_type": "execute_result"
    }
   ],
   "source": [
    "# Example: 3 Return the unique rows of a 2D array\n",
    "a = np.array([[1, 0, 0], [1, 0, 0], [2, 3, 4]])\n",
    "print(a)\n",
    "np.unique(a, axis=0)"
   ]
  },
  {
   "cell_type": "code",
   "execution_count": 352,
   "metadata": {},
   "outputs": [
    {
     "name": "stdout",
     "output_type": "stream",
     "text": [
      "['a' 'b' 'b' 'c' 'a']\n"
     ]
    }
   ],
   "source": [
    "# Example: 4 Return the indices of the original array that give the unique values:\n",
    "a = np.array(['a', 'b', 'b', 'c', 'a'])\n",
    "print(a)\n",
    "u, indices = np.unique(a, return_index=True)"
   ]
  },
  {
   "cell_type": "code",
   "execution_count": 353,
   "metadata": {},
   "outputs": [
    {
     "data": {
      "text/plain": [
       "array(['a', 'b', 'c'], dtype='<U1')"
      ]
     },
     "execution_count": 353,
     "metadata": {},
     "output_type": "execute_result"
    }
   ],
   "source": [
    "u"
   ]
  },
  {
   "cell_type": "code",
   "execution_count": 354,
   "metadata": {},
   "outputs": [
    {
     "data": {
      "text/plain": [
       "array([0, 1, 3], dtype=int64)"
      ]
     },
     "execution_count": 354,
     "metadata": {},
     "output_type": "execute_result"
    }
   ],
   "source": [
    "indices"
   ]
  },
  {
   "cell_type": "code",
   "execution_count": 303,
   "metadata": {},
   "outputs": [
    {
     "data": {
      "text/plain": [
       "array(['a', 'b', 'c'], dtype='<U1')"
      ]
     },
     "execution_count": 303,
     "metadata": {},
     "output_type": "execute_result"
    }
   ],
   "source": [
    "a[indices]"
   ]
  },
  {
   "cell_type": "code",
   "execution_count": 361,
   "metadata": {},
   "outputs": [
    {
     "name": "stdout",
     "output_type": "stream",
     "text": [
      "[1 2 6 4 2 3 2]\n"
     ]
    }
   ],
   "source": [
    "# Example: 5 Reconstruct the input array from the unique values and inverse\n",
    "b = np.array([1, 2, 6, 4, 2, 3, 2])\n",
    "print(b)\n",
    "unique_array, indices = np.unique(b, return_inverse=True)  \n",
    "# here v is the newly created array of unique entries in array b and indices are created for each of the entries in the original array."
   ]
  },
  {
   "cell_type": "code",
   "execution_count": 362,
   "metadata": {},
   "outputs": [
    {
     "data": {
      "text/plain": [
       "array([1, 2, 3, 4, 6])"
      ]
     },
     "execution_count": 362,
     "metadata": {},
     "output_type": "execute_result"
    }
   ],
   "source": [
    "unique_array"
   ]
  },
  {
   "cell_type": "code",
   "execution_count": 363,
   "metadata": {},
   "outputs": [
    {
     "data": {
      "text/plain": [
       "array([0, 1, 4, 3, 1, 2, 1], dtype=int64)"
      ]
     },
     "execution_count": 363,
     "metadata": {},
     "output_type": "execute_result"
    }
   ],
   "source": [
    "indices"
   ]
  },
  {
   "cell_type": "code",
   "execution_count": 364,
   "metadata": {},
   "outputs": [
    {
     "data": {
      "text/plain": [
       "array([1, 2, 6, 4, 2, 3, 2])"
      ]
     },
     "execution_count": 364,
     "metadata": {},
     "output_type": "execute_result"
    }
   ],
   "source": [
    "unique_array[indices] # it will create the unique array but with additonal entries of repeated element at the end"
   ]
  },
  {
   "cell_type": "code",
   "execution_count": 367,
   "metadata": {},
   "outputs": [
    {
     "name": "stdout",
     "output_type": "stream",
     "text": [
      "[1 2 6 4 2 3 2]\n"
     ]
    }
   ],
   "source": [
    "# Example:7 Reconstruct the input values from the unique values and counts:\n",
    "a = np.array([1, 2, 6, 4, 2, 3, 2])\n",
    "print(a)\n",
    "values, counts = np.unique(a, return_counts=True)"
   ]
  },
  {
   "cell_type": "code",
   "execution_count": 368,
   "metadata": {},
   "outputs": [
    {
     "data": {
      "text/plain": [
       "array([1, 3, 1, 1, 1], dtype=int64)"
      ]
     },
     "execution_count": 368,
     "metadata": {},
     "output_type": "execute_result"
    }
   ],
   "source": [
    "counts"
   ]
  },
  {
   "cell_type": "code",
   "execution_count": 369,
   "metadata": {},
   "outputs": [
    {
     "data": {
      "text/plain": [
       "array([1, 2, 3, 4, 6])"
      ]
     },
     "execution_count": 369,
     "metadata": {},
     "output_type": "execute_result"
    }
   ],
   "source": [
    "values"
   ]
  },
  {
   "cell_type": "code",
   "execution_count": 370,
   "metadata": {},
   "outputs": [
    {
     "data": {
      "text/plain": [
       "array([1, 2, 2, 2, 3, 4, 6])"
      ]
     },
     "execution_count": 370,
     "metadata": {},
     "output_type": "execute_result"
    }
   ],
   "source": [
    "np.repeat(values, counts)"
   ]
  },
  {
   "cell_type": "code",
   "execution_count": 379,
   "metadata": {},
   "outputs": [
    {
     "name": "stdout",
     "output_type": "stream",
     "text": [
      "First array:\n",
      "[5 2 6 2 7 5 6 8 2 9]\n"
     ]
    }
   ],
   "source": [
    "# Example: 8  Detailed example\n",
    "a = np.array([5,2,6,2,7,5,6,8,2,9]) \n",
    "print(\"First array:\")\n",
    "print(a)   "
   ]
  },
  {
   "cell_type": "code",
   "execution_count": 380,
   "metadata": {},
   "outputs": [
    {
     "name": "stdout",
     "output_type": "stream",
     "text": [
      "Unique values of first array:\n",
      "[2 5 6 7 8 9]\n"
     ]
    }
   ],
   "source": [
    "print(\"Unique values of first array:\")\n",
    "u = np.unique(a) \n",
    "print(u)"
   ]
  },
  {
   "cell_type": "code",
   "execution_count": 374,
   "metadata": {},
   "outputs": [
    {
     "name": "stdout",
     "output_type": "stream",
     "text": [
      "Unique array and Indices array:\n",
      "[1 0 2 4 7 9]\n"
     ]
    }
   ],
   "source": [
    "print(\"Unique array and Indices array:\")\n",
    "u,indices = np.unique(a, return_index = True) \n",
    "print(indices)"
   ]
  },
  {
   "cell_type": "code",
   "execution_count": 381,
   "metadata": {},
   "outputs": [
    {
     "name": "stdout",
     "output_type": "stream",
     "text": [
      "We can see each number corresponds to index in original array:\n",
      "[5 2 6 2 7 5 6 8 2 9]\n"
     ]
    }
   ],
   "source": [
    "print(\"We can see each number corresponds to index in original array:\")\n",
    "print(a)"
   ]
  },
  {
   "cell_type": "code",
   "execution_count": 382,
   "metadata": {},
   "outputs": [
    {
     "name": "stdout",
     "output_type": "stream",
     "text": [
      "Indices of unique array:\n",
      "[2 5 6 7 8 9]\n"
     ]
    }
   ],
   "source": [
    "print('Indices of unique array:')\n",
    "u,indices = np.unique(a,return_inverse = True) \n",
    "print(u)"
   ]
  },
  {
   "cell_type": "code",
   "execution_count": 383,
   "metadata": {},
   "outputs": [
    {
     "name": "stdout",
     "output_type": "stream",
     "text": [
      "Indices are:\n",
      "[1 0 2 0 3 1 2 4 0 5]\n"
     ]
    }
   ],
   "source": [
    "print(\"Indices are:\")\n",
    "print(indices) "
   ]
  },
  {
   "cell_type": "code",
   "execution_count": 384,
   "metadata": {},
   "outputs": [
    {
     "name": "stdout",
     "output_type": "stream",
     "text": [
      "Reconstruct the original array using indices:\n",
      "[5 2 6 2 7 5 6 8 2 9]\n"
     ]
    }
   ],
   "source": [
    "print('Reconstruct the original array using indices:')\n",
    "print(u[indices])"
   ]
  },
  {
   "cell_type": "code",
   "execution_count": 385,
   "metadata": {},
   "outputs": [
    {
     "name": "stdout",
     "output_type": "stream",
     "text": [
      "Return the count of repetitions of unique elements:\n",
      "[2 5 6 7 8 9]\n",
      "[3 2 2 1 1 1]\n"
     ]
    }
   ],
   "source": [
    "print('Return the count of repetitions of unique elements:')\n",
    "u,indices = np.unique(a,return_counts = True) \n",
    "print(u)\n",
    "print(indices)"
   ]
  },
  {
   "attachments": {},
   "cell_type": "markdown",
   "metadata": {},
   "source": [
    "### 9. Rearranging elements\n",
    "\n",
    "| Routines | Explanation | \n",
    "|----------|-------------|\n",
    "| `flip(m[, axis])` |  Reverse the order of elements in an array along the given axis |\n",
    "| `fliplr(m)` | Reverse the order of elements along axis 1 (left/right) |\n",
    "| `flipud(m)` | Reverse the order of elements along axis 0 (up/down) |\n",
    "| `reshape(a, newshape[, order])` | Gives a new shape to an array without changing its data |\n",
    "| `roll(a, shift[, axis])` | Roll array elements along a given axis |\n",
    "| `rot90(m[, k, axes])` | Rotate an array by 90 degrees in the plane specified by axes |"
   ]
  },
  {
   "attachments": {},
   "cell_type": "markdown",
   "metadata": {},
   "source": [
    "#### 9a. numpy.flip(m, axis=None)\n",
    "\n",
    "Reverse the order of elements in an array along the given axis.\n",
    "\n",
    "`numpy.flip(m, axis=None)`\n",
    "\n",
    "- `m`\t= Input array (Required)\n",
    "- `axis` =\tAxis or axes along which to flip over. The default, axis=None, will flip over all of the axes of the input array. If axis is negative it counts from the last to the first axis. \n",
    "\n",
    "If axis is a tuple of ints, flipping is performed on all of the axes specified in the tuple."
   ]
  },
  {
   "cell_type": "code",
   "execution_count": 386,
   "metadata": {},
   "outputs": [],
   "source": [
    "# Example: 1\n",
    "X = np.arange(8).reshape((2,2,2))"
   ]
  },
  {
   "cell_type": "code",
   "execution_count": 387,
   "metadata": {},
   "outputs": [
    {
     "data": {
      "text/plain": [
       "array([[[0, 1],\n",
       "        [2, 3]],\n",
       "\n",
       "       [[4, 5],\n",
       "        [6, 7]]])"
      ]
     },
     "execution_count": 387,
     "metadata": {},
     "output_type": "execute_result"
    }
   ],
   "source": [
    "X"
   ]
  },
  {
   "attachments": {
    "image.png": {
     "image/png": "[encoded data removed]"
    }
   },
   "cell_type": "markdown",
   "metadata": {},
   "source": [
    "![image.png](attachment:image.png)"
   ]
  },
  {
   "cell_type": "code",
   "execution_count": 388,
   "metadata": {},
   "outputs": [
    {
     "data": {
      "text/plain": [
       "array([[[4, 5],\n",
       "        [6, 7]],\n",
       "\n",
       "       [[0, 1],\n",
       "        [2, 3]]])"
      ]
     },
     "execution_count": 388,
     "metadata": {},
     "output_type": "execute_result"
    }
   ],
   "source": [
    "np.flip(X, 0)"
   ]
  },
  {
   "cell_type": "code",
   "execution_count": 389,
   "metadata": {},
   "outputs": [
    {
     "data": {
      "text/plain": [
       "array([[[2, 3],\n",
       "        [0, 1]],\n",
       "\n",
       "       [[6, 7],\n",
       "        [4, 5]]])"
      ]
     },
     "execution_count": 389,
     "metadata": {},
     "output_type": "execute_result"
    }
   ],
   "source": [
    "np.flip(X, 1)"
   ]
  },
  {
   "cell_type": "code",
   "execution_count": 390,
   "metadata": {},
   "outputs": [
    {
     "data": {
      "text/plain": [
       "array([[[7, 6],\n",
       "        [5, 4]],\n",
       "\n",
       "       [[3, 2],\n",
       "        [1, 0]]])"
      ]
     },
     "execution_count": 390,
     "metadata": {},
     "output_type": "execute_result"
    }
   ],
   "source": [
    "np.flip(X)"
   ]
  },
  {
   "cell_type": "code",
   "execution_count": 391,
   "metadata": {},
   "outputs": [
    {
     "data": {
      "text/plain": [
       "array([[[5, 4],\n",
       "        [7, 6]],\n",
       "\n",
       "       [[1, 0],\n",
       "        [3, 2]]])"
      ]
     },
     "execution_count": 391,
     "metadata": {},
     "output_type": "execute_result"
    }
   ],
   "source": [
    "np.flip(X, (0, 2))"
   ]
  },
  {
   "cell_type": "code",
   "execution_count": 392,
   "metadata": {},
   "outputs": [],
   "source": [
    "X = np.random.randn(3,4,5)"
   ]
  },
  {
   "attachments": {},
   "cell_type": "markdown",
   "metadata": {},
   "source": [
    "#### 9b. fliplr() \n",
    "\n",
    "`numpy.fliplr(m)`\n",
    "\n",
    "- `m`\t= Input array, must be at least 2-D."
   ]
  },
  {
   "cell_type": "code",
   "execution_count": 393,
   "metadata": {},
   "outputs": [
    {
     "data": {
      "text/plain": [
       "array([[1., 0., 0., 0.],\n",
       "       [0., 2., 0., 0.],\n",
       "       [0., 0., 3., 0.],\n",
       "       [0., 0., 0., 4.]])"
      ]
     },
     "execution_count": 393,
     "metadata": {},
     "output_type": "execute_result"
    }
   ],
   "source": [
    "X = np.diag([1.,2.,3.,4.])\n",
    "X"
   ]
  },
  {
   "cell_type": "code",
   "execution_count": 394,
   "metadata": {},
   "outputs": [
    {
     "data": {
      "text/plain": [
       "array([[0., 0., 0., 1.],\n",
       "       [0., 0., 2., 0.],\n",
       "       [0., 3., 0., 0.],\n",
       "       [4., 0., 0., 0.]])"
      ]
     },
     "execution_count": 394,
     "metadata": {},
     "output_type": "execute_result"
    }
   ],
   "source": [
    "np.fliplr(X)"
   ]
  },
  {
   "attachments": {},
   "cell_type": "markdown",
   "metadata": {},
   "source": [
    "#### 9c. flipud()\n",
    "\n",
    "`numpy.flipud(m)`\n",
    "\n",
    "- `m`\t= Input array."
   ]
  },
  {
   "cell_type": "code",
   "execution_count": 397,
   "metadata": {},
   "outputs": [
    {
     "name": "stdout",
     "output_type": "stream",
     "text": [
      "[[1. 0. 0.]\n",
      " [0. 3. 0.]\n",
      " [0. 0. 5.]]\n"
     ]
    },
    {
     "data": {
      "text/plain": [
       "array([[0., 0., 5.],\n",
       "       [0., 3., 0.],\n",
       "       [1., 0., 0.]])"
      ]
     },
     "execution_count": 397,
     "metadata": {},
     "output_type": "execute_result"
    }
   ],
   "source": [
    "X = np.diag([1.0, 3, 5])\n",
    "print(X)\n",
    "np.flipud(X)"
   ]
  },
  {
   "attachments": {},
   "cell_type": "markdown",
   "metadata": {},
   "source": [
    "#### 9d. reshape\n",
    "\n",
    "`numpy.reshape(a, newshape, order='C')`\n"
   ]
  },
  {
   "cell_type": "code",
   "execution_count": 398,
   "metadata": {},
   "outputs": [
    {
     "name": "stdout",
     "output_type": "stream",
     "text": [
      "[[1. 0. 0.]\n",
      " [0. 3. 0.]\n",
      " [0. 0. 5.]]\n"
     ]
    },
    {
     "data": {
      "text/plain": [
       "array([[2, 3],\n",
       "       [4, 5],\n",
       "       [6, 7]])"
      ]
     },
     "execution_count": 398,
     "metadata": {},
     "output_type": "execute_result"
    }
   ],
   "source": [
    "x = np.array([[2,3,4], [5,6,7]])  \n",
    "print(X)\n",
    "np.reshape(x, (3, 2))"
   ]
  },
  {
   "cell_type": "code",
   "execution_count": 399,
   "metadata": {},
   "outputs": [
    {
     "data": {
      "text/plain": [
       "array([[2, 3, 4],\n",
       "       [5, 6, 7]])"
      ]
     },
     "execution_count": 399,
     "metadata": {},
     "output_type": "execute_result"
    }
   ],
   "source": [
    "np.reshape(x, (2, -2)) "
   ]
  },
  {
   "cell_type": "code",
   "execution_count": 400,
   "metadata": {},
   "outputs": [
    {
     "data": {
      "text/plain": [
       "array([[2, 3],\n",
       "       [4, 5],\n",
       "       [6, 7]])"
      ]
     },
     "execution_count": 400,
     "metadata": {},
     "output_type": "execute_result"
    }
   ],
   "source": [
    "np.reshape(x, (3, -1))"
   ]
  },
  {
   "cell_type": "code",
   "execution_count": 401,
   "metadata": {},
   "outputs": [
    {
     "data": {
      "text/plain": [
       "array([2, 3, 4, 5, 6, 7])"
      ]
     },
     "execution_count": 401,
     "metadata": {},
     "output_type": "execute_result"
    }
   ],
   "source": [
    "np.reshape(x, 6)"
   ]
  },
  {
   "attachments": {},
   "cell_type": "markdown",
   "metadata": {},
   "source": [
    "#### 9e. roll\n",
    "\n",
    "`numpy.roll(a, shift, axis=None)`\n",
    "\n",
    "- `a`\t= Input array (Required)\n",
    "- `shift`\t= The number of places by which elements are shifted. If a tuple, then axis must be a tuple of the same size, and each of the given axes is shifted by the corresponding number. If an int while axis is a tuple of ints, then the same value is used for all given axes\t(Required).\n",
    "- `axis`\t= Axis or axes along which elements are shifted. By default, the array is flattened before shifting, after which the original shape is restored (optional)."
   ]
  },
  {
   "cell_type": "code",
   "execution_count": 402,
   "metadata": {},
   "outputs": [
    {
     "data": {
      "text/plain": [
       "array([5, 6, 7, 0, 1, 2, 3, 4])"
      ]
     },
     "execution_count": 402,
     "metadata": {},
     "output_type": "execute_result"
    }
   ],
   "source": [
    "a = np.arange(8)\n",
    "\n",
    "np.roll(a, 3)"
   ]
  },
  {
   "attachments": {
    "image.png": {
     "image/png": "[encoded data removed]"
    }
   },
   "cell_type": "markdown",
   "metadata": {},
   "source": [
    "![image.png](attachment:image.png)"
   ]
  },
  {
   "cell_type": "code",
   "execution_count": 403,
   "metadata": {},
   "outputs": [
    {
     "data": {
      "text/plain": [
       "array([[0, 1, 2, 3],\n",
       "       [4, 5, 6, 7]])"
      ]
     },
     "execution_count": 403,
     "metadata": {},
     "output_type": "execute_result"
    }
   ],
   "source": [
    "b = np.reshape(a, (2, 4))\n",
    "b"
   ]
  },
  {
   "cell_type": "code",
   "execution_count": 404,
   "metadata": {},
   "outputs": [
    {
     "data": {
      "text/plain": [
       "array([[7, 0, 1, 2],\n",
       "       [3, 4, 5, 6]])"
      ]
     },
     "execution_count": 404,
     "metadata": {},
     "output_type": "execute_result"
    }
   ],
   "source": [
    "np.roll(b, 1)"
   ]
  },
  {
   "cell_type": "code",
   "execution_count": 405,
   "metadata": {},
   "outputs": [
    {
     "data": {
      "text/plain": [
       "array([[4, 5, 6, 7],\n",
       "       [0, 1, 2, 3]])"
      ]
     },
     "execution_count": 405,
     "metadata": {},
     "output_type": "execute_result"
    }
   ],
   "source": [
    "b = np.reshape(a, (2, 4))\n",
    "np.roll(b, 1, axis=0)"
   ]
  },
  {
   "attachments": {
    "image.png": {
     "image/png": "[encoded data removed]"
    }
   },
   "cell_type": "markdown",
   "metadata": {},
   "source": [
    "![image.png](attachment:image.png)"
   ]
  },
  {
   "attachments": {},
   "cell_type": "markdown",
   "metadata": {},
   "source": [
    "## Mathematical functions with automatic domain"
   ]
  },
  {
   "attachments": {},
   "cell_type": "markdown",
   "metadata": {},
   "source": [
    "For this, we need to import math library in python by\n",
    "\n",
    "`import math`\n",
    "\n",
    "after importing math library, we can use following functions.\n",
    "\n",
    "| Function | Description |\n",
    "|----------|-------------|\n",
    "| `sqrt(x)` | Compute the square root of x. |\n",
    "| `log(x)` | Compute the natural logarithm of x. |\n",
    "| `log2(x)` | Compute the logarithm base 2 of x. | \n",
    "| `logn(n, x)` |  Take log base n of x. | \n",
    "| `log10(x)` |  Compute the logarithm base 10 of x. |\n",
    "| `power(x, p)`  | Return x to the power p, (x**p). |\n",
    "| `arccos(x)` | Compute the inverse cosine of x. | \n",
    "| `arcsin(x)` |  Compute the inverse sine of x. |\n",
    "| `arctanh(x)` | Compute the inverse hyperbolic tangent of x. |"
   ]
  },
  {
   "cell_type": "code",
   "execution_count": 407,
   "metadata": {},
   "outputs": [
    {
     "data": {
      "text/plain": [
       "1.0"
      ]
     },
     "execution_count": 407,
     "metadata": {},
     "output_type": "execute_result"
    }
   ],
   "source": [
    "# Example: emath.sqrt(x)\n",
    "np.emath.sqrt(1)"
   ]
  },
  {
   "cell_type": "code",
   "execution_count": 408,
   "metadata": {},
   "outputs": [
    {
     "data": {
      "text/plain": [
       "array([1., 2.])"
      ]
     },
     "execution_count": 408,
     "metadata": {},
     "output_type": "execute_result"
    }
   ],
   "source": [
    "np.emath.sqrt([1, 4])"
   ]
  },
  {
   "cell_type": "code",
   "execution_count": 409,
   "metadata": {},
   "outputs": [
    {
     "data": {
      "text/plain": [
       "1.0"
      ]
     },
     "execution_count": 409,
     "metadata": {},
     "output_type": "execute_result"
    }
   ],
   "source": [
    "# Example: emath.log(x)\n",
    "np.emath.log(np.exp(1))"
   ]
  },
  {
   "cell_type": "code",
   "execution_count": 410,
   "metadata": {},
   "outputs": [
    {
     "name": "stdout",
     "output_type": "stream",
     "text": [
      "3.0\n",
      "[2.+4.53236014j 3.+4.53236014j 3.+0.j        ]\n"
     ]
    }
   ],
   "source": [
    "# Example: emath.log2(x)\n",
    "print(np.emath.log2(8))\n",
    "print(np.emath.log2([-4, -8, 8]))"
   ]
  },
  {
   "cell_type": "code",
   "execution_count": 411,
   "metadata": {},
   "outputs": [
    {
     "data": {
      "text/plain": [
       "array([2., 3.])"
      ]
     },
     "execution_count": 411,
     "metadata": {},
     "output_type": "execute_result"
    }
   ],
   "source": [
    "# Example: emath.logn(n, x), n= integer base and x is array.\n",
    "np.emath.logn(2, [4, 8])"
   ]
  },
  {
   "cell_type": "code",
   "execution_count": 412,
   "metadata": {},
   "outputs": [
    {
     "data": {
      "text/plain": [
       "array([1.+1.36437635j, 2.+1.36437635j, 2.+0.j        ])"
      ]
     },
     "execution_count": 412,
     "metadata": {},
     "output_type": "execute_result"
    }
   ],
   "source": [
    "# Example: emath.log10(x)\n",
    "np.emath.log10([-10**1, -10**2, 10**2])"
   ]
  },
  {
   "cell_type": "code",
   "execution_count": 413,
   "metadata": {},
   "outputs": [
    {
     "name": "stdout",
     "output_type": "stream",
     "text": [
      "[ 4 16]\n",
      "[ 4.-0.j 16.+0.j]\n"
     ]
    }
   ],
   "source": [
    "# Example: emath.power(x, p), p is the power of x.\n",
    "print(np.emath.power([2, 4], 2))\n",
    "print(np.emath.power([-2, 4], 2))"
   ]
  },
  {
   "cell_type": "code",
   "execution_count": 414,
   "metadata": {},
   "outputs": [
    {
     "data": {
      "text/plain": [
       "0.0"
      ]
     },
     "execution_count": 414,
     "metadata": {},
     "output_type": "execute_result"
    }
   ],
   "source": [
    "#Example: emath.arccos(x)\n",
    "\n",
    "np.set_printoptions(precision=4)\n",
    "np.emath.arccos(1) # a scalar is returned"
   ]
  },
  {
   "cell_type": "code",
   "execution_count": 415,
   "metadata": {},
   "outputs": [
    {
     "data": {
      "text/plain": [
       "array([0.-0.j   , 0.-1.317j])"
      ]
     },
     "execution_count": 415,
     "metadata": {},
     "output_type": "execute_result"
    }
   ],
   "source": [
    "np.emath.arccos([1,2])"
   ]
  },
  {
   "attachments": {},
   "cell_type": "markdown",
   "metadata": {},
   "source": [
    "## Matrix library (numpy.matlib)\n",
    "\n",
    "This module contains all functions in the numpy namespace, with the following replacement functions that return matrices instead of ndarrays.\n",
    "\n",
    "| Function | Description |\n",
    "|----------|-------------|\n",
    "| `mat(data[, dtype])` | Interpret the input as a matrix. |\n",
    "| `matrix(data[, dtype, copy])` | Returns a matrix from an array-like object, or from a string of data. |\n",
    "| `asmatrix(data[, dtype])` | Interpret the input as a matrix. |\n",
    "| `bmat(obj[, ldict, gdict])` | Build a matrix object from a string, nested sequence, or array. | \n",
    "| `empty(shape[, dtype, order])` | Return a new matrix of given shape and type, without initializing entries. | \n",
    "| `zeros(shape[, dtype, order])` | Return a matrix of given shape and type, filled with zeros. |\n",
    "| `ones(shape[, dtype, order])` |  Matrix of ones. | \n",
    "| `eye(n[, M, k, dtype, order])` | Return a matrix with ones on the diagonal and zeros elsewhere. |\n",
    "| `identity(n[, dtype])` | Returns the square identity matrix of given size. |\n",
    "| `repmat(a, m, n)` | Repeat a 0-D to 2-D array or matrix MxN times. |\n",
    "| `rand(*args)` | Return a matrix of random values with given shape. | \n",
    "| `randn(*args)` |  Return a random matrix with data from the \"standard normal\" distribution. |"
   ]
  },
  {
   "cell_type": "code",
   "execution_count": 419,
   "metadata": {},
   "outputs": [
    {
     "name": "stdout",
     "output_type": "stream",
     "text": [
      "[[1 2]\n",
      " [3 4]]\n"
     ]
    }
   ],
   "source": [
    "x = np.array([[1, 2], [3, 4]])\n",
    "print(x)"
   ]
  },
  {
   "cell_type": "code",
   "execution_count": 421,
   "metadata": {},
   "outputs": [
    {
     "data": {
      "text/plain": [
       "matrix([[1, 2],\n",
       "        [3, 4]])"
      ]
     },
     "execution_count": 421,
     "metadata": {},
     "output_type": "execute_result"
    }
   ],
   "source": [
    "m = np.asmatrix(x)\n",
    "m"
   ]
  },
  {
   "cell_type": "code",
   "execution_count": 423,
   "metadata": {},
   "outputs": [
    {
     "data": {
      "text/plain": [
       "matrix([[1, 2],\n",
       "        [3, 4]])"
      ]
     },
     "execution_count": 423,
     "metadata": {},
     "output_type": "execute_result"
    }
   ],
   "source": [
    "a = np.matrix('1 2; 3 4')\n",
    "a"
   ]
  },
  {
   "cell_type": "code",
   "execution_count": 424,
   "metadata": {},
   "outputs": [
    {
     "data": {
      "text/plain": [
       "matrix([[1, 2],\n",
       "        [3, 4]])"
      ]
     },
     "execution_count": 424,
     "metadata": {},
     "output_type": "execute_result"
    }
   ],
   "source": [
    "np.matrix([[1, 2], [3, 4]])"
   ]
  },
  {
   "attachments": {},
   "cell_type": "markdown",
   "metadata": {},
   "source": [
    "## Discrete Fourier Transform (numpy.fft)\n",
    "\n",
    "The SciPy module scipy.fft is a more comprehensive superset of numpy.fft, which includes only a basic set of routines.\n",
    "\n"
   ]
  }
 ],
 "metadata": {
  "kernelspec": {
   "display_name": "base",
   "language": "python",
   "name": "python3"
  },
  "language_info": {
   "codemirror_mode": {
    "name": "ipython",
    "version": 3
   },
   "file_extension": ".py",
   "mimetype": "text/x-python",
   "name": "python",
   "nbconvert_exporter": "python",
   "pygments_lexer": "ipython3",
   "version": "3.9.12"
  },
  "orig_nbformat": 4,
  "vscode": {
   "interpreter": {
    "hash": "b302cdd1e032ee910f5c889c3360c28564c92ad4f326fc3102e39fbe47faee66"
   }
  }
 },
 "nbformat": 4,
 "nbformat_minor": 2
}
