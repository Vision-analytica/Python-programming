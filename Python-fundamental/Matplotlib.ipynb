{
 "cells": [
  {
   "attachments": {},
   "cell_type": "markdown",
   "metadata": {},
   "source": [
    "# Content: \n",
    "\n",
    "* [Data Visualization In Python](#data-visualization-in-python)\n",
    "* [Introduction to Python Libraries](#introduction-to-python-libraries)\n",
    "    - [Matplotlib](#mathplotlib--seaborn-libaries)\n",
    "    - [Seaborn](#seaborn)\n",
    "* [Reference](#references)"
   ]
  },
  {
   "attachments": {},
   "cell_type": "markdown",
   "metadata": {},
   "source": [
    "# Data Visualization in python\n",
    "\n",
    "Data visualization is the process of creating visual representations for data. It allows you to explore and understand your data in a meaningful way by summarizing it with charts, graphs, and maps."
   ]
  },
  {
   "attachments": {},
   "cell_type": "markdown",
   "metadata": {},
   "source": [
    "# Introduction to Python Libraries"
   ]
  },
  {
   "attachments": {},
   "cell_type": "markdown",
   "metadata": {},
   "source": [
    "# Mathplotlib\n",
    "\n",
    "\n",
    "<img src=\"https://datauntold.com/wp-content/uploads/2022/02/matplotlib-vs-seaborn-2-940x510.png\" width=600 height=300 />"
   ]
  },
  {
   "attachments": {},
   "cell_type": "markdown",
   "metadata": {},
   "source": [
    "Data visualization is the graphic representation of data. It involves producing images that communicate relationships among the represented data to viewers. Visualizing data is an essential part of data analysis and machine learning. \n",
    "\n",
    "There are two libararies for this purpose:\n",
    "\n",
    "- [Matplotlib](https://matplotlib.org)\n",
    "- [Seaborn](https://seaborn.pydata.org)"
   ]
  },
  {
   "attachments": {},
   "cell_type": "markdown",
   "metadata": {},
   "source": [
    "# Seaborn"
   ]
  },
  {
   "cell_type": "markdown",
   "metadata": {},
   "source": []
  },
  {
   "cell_type": "code",
   "execution_count": null,
   "metadata": {},
   "outputs": [],
   "source": []
  },
  {
   "attachments": {},
   "cell_type": "markdown",
   "metadata": {},
   "source": [
    "# References\n",
    "\n",
    "1. https://matplotlib.org/stable/index.html\n",
    "2. https://seaborn.pydata.org/"
   ]
  }
 ],
 "metadata": {
  "kernelspec": {
   "display_name": "Python 3",
   "language": "python",
   "name": "python3"
  },
  "language_info": {
   "name": "python",
   "version": "3.11.0 (main, Oct 25 2022, 14:13:24) [Clang 14.0.0 (clang-1400.0.29.202)]"
  },
  "orig_nbformat": 4,
  "vscode": {
   "interpreter": {
    "hash": "1a1af0ee75eeea9e2e1ee996c87e7a2b11a0bebd85af04bb136d915cefc0abce"
   }
  }
 },
 "nbformat": 4,
 "nbformat_minor": 2
}
