{
 "cells": [
  {
   "attachments": {},
   "cell_type": "markdown",
   "metadata": {},
   "source": [
    "To open this file at binder or in coab, click here: [![Binder](https://mybinder.org/badge_logo.svg)](https://mybinder.org/v2/gh/arunsinp/Python-programming/blob/main/Python-fundamental/Matplotlib.ipynb/HEAD)\n",
    "<a href=\"https://github.com/arunsinp/Python-programming/blob/main/Python-fundamental/Matplotlib.ipynb\" target=\"_parent\"><img src=\"https://colab.research.google.com/assets/colab-badge.svg\" alt=\"Open In Colab\"></a>"
   ]
  },
  {
   "attachments": {},
   "cell_type": "markdown",
   "metadata": {},
   "source": [
    "[![Open In Colab](https://colab.research.google.com/assets/colab-badge.svg)](hhttps://github.com/arunsinp/Python-programming/blob/main/Python-fundamental/Matplotlib.ipynb)\n"
   ]
  },
  {
   "attachments": {},
   "cell_type": "markdown",
   "metadata": {},
   "source": [
    "# Content: \n",
    "\n",
    "* [Data Visualization In Python](#data-visualization-in-python)\n",
    "* [Introduction to Python Libraries](#introduction-to-python-libraries)\n",
    "    - [Matplotlib](#mathplotlib--seaborn-libaries)\n",
    "    - [Seaborn](#seaborn)\n",
    "* [Reference](#references)"
   ]
  },
  {
   "attachments": {},
   "cell_type": "markdown",
   "metadata": {},
   "source": [
    "<img src=\"https://datauntold.com/wp-content/uploads/2022/02/matplotlib-vs-seaborn-2-940x510.png\" width=600 height=300 />"
   ]
  },
  {
   "attachments": {},
   "cell_type": "markdown",
   "metadata": {},
   "source": [
    "# Data Visualization in python\n",
    "\n",
    "Data visualization is the process of creating visual representations for data. It allows us to explore and understand your data in a meaningful way by summarizing it with charts, graphs, and maps."
   ]
  },
  {
   "attachments": {},
   "cell_type": "markdown",
   "metadata": {},
   "source": [
    "# Introduction to Python Libraries\n",
    "\n",
    "Data visualization in Python is a way to present data in a graphical format using various libraries such as \n",
    "\n",
    "- [Matplotlib](https://matplotlib.org) (for basic plots)\n",
    "- [Seaborn](https://seaborn.pydata.org) (for more advanced statistical plots)\n",
    "- [Plotly](https://plotly.com/) (provide interactive visualizations that can be used to explore data in more depth.)\n",
    "- bokeh (to create interactive plots)"
   ]
  },
  {
   "attachments": {},
   "cell_type": "markdown",
   "metadata": {},
   "source": [
    "### Types of Plots\n",
    "\n",
    "These libraries provide various types of plots\n",
    "- `line plots`, \n",
    "- `bar plots`, \n",
    "- `scatter plots`, \n",
    "- `histograms`,\n",
    "- many more"
   ]
  },
  {
   "attachments": {},
   "cell_type": "markdown",
   "metadata": {},
   "source": [
    "### Instalation and import of the libraires\n",
    "\n",
    "To use these libraries, we will first need to install them using the package manager `pip`. Once installed, we can import the library and use the various functions it provides to create plots. \n",
    "\n",
    "1. To install and import Matplotlib in the jupyter notbook, use\n",
    "\n",
    "        !pip install matplotlib seaborn --upgrade --quiet\n",
    "\n",
    "    and import these libraaries using\n",
    "        \n",
    "        import matplotlib.pyplot as plt\n",
    "        import seaborn as sns\n",
    "\n",
    "2. To instal and import seaborn in the jupyter notbook, use\n",
    "\n",
    "        !pip install seaborn\n",
    "\n",
    "    import it as\n",
    "\n",
    "        import seaborn as sns\n",
    "        "
   ]
  },
  {
   "attachments": {},
   "cell_type": "markdown",
   "metadata": {},
   "source": [
    "### Importance of thesse libraries:\n",
    "\n",
    "In addition to the basic plotting functions, these libraries also provide a wide range of customization options, such as changing the color, style, and size of the plots, adding labels, and more. These libraries are also compatible with Jupyter Notebook which allows you to create interactive visualizations.\n",
    "\n",
    "To create more complex visualizations, you can use a combination of different libraries and functions. For example, you can use the data manipulation functions of pandas to prepare the data and use the visualization functions of seaborn to create the plot.\n",
    "\n",
    "In summary, data visualization in Python is a powerful tool for exploring and communicating data. With a wide range of libraries available, creating plots and visualizations is easy and flexible."
   ]
  },
  {
   "attachments": {},
   "cell_type": "markdown",
   "metadata": {},
   "source": [
    "### Top 10 Differences between Matplotlib and Seaborn\n",
    "\n",
    "Now that you are familiar with the basics of both matplotlib and seaborn, let’s dive deeper into how they compare with each other. Here is a list of the top ten differences between matplotlib and seaborn:\n",
    "\n",
    "- Matplotlib is better for basic plots while seaborn is better for more advanced statistical plots\n",
    "- Matplotlib has a lower learning curve than seaborn.\n",
    "- Seaborn provides more attractive default color palettes than matplotlib. However, you can create your own color palettes in matplotlib if you want.\n",
    "- Matplotlib supports interactive plotting from within IPython while seaborn does not.\n",
    "- Seaborn has functions to plot categorical variables using boxplots and violin plots while matplotlib does not.\n",
    "- Seaborn allows you to visualize regression models while matplotlib does not.\n",
    "- Matplotlib has a more extensive library of functions than seaborn. However, seaborn is growing at a faster rate than matplotlib.\n",
    "- Seaborn is licensed under the GNU GPL while matplotlib is licensed under the Python Software Foundation License.\n",
    "- Matplotlib is more widely used than seaborn.\n",
    "- Seaborn provides better documentation than matplotlib."
   ]
  },
  {
   "attachments": {},
   "cell_type": "markdown",
   "metadata": {},
   "source": [
    "### Which Data Visualization Library Should You Use?\n",
    "\n",
    "So, which library should you use? While there are several factors that can help you decide between the two libraries, one crucial factor is whether or not you want to customize your graphs. If customizing your graphs isn’t important to you, then matplotlib is a good choice because it has more features and is easier to use. However, if you want to create graphs that look sophisticated and professional, then seaborn is the better option."
   ]
  },
  {
   "attachments": {},
   "cell_type": "markdown",
   "metadata": {},
   "source": [
    "# Mathplotlib"
   ]
  },
  {
   "attachments": {},
   "cell_type": "markdown",
   "metadata": {},
   "source": [
    "Matplotlib is a general-purpose plotting library for Python. It has been around since 2003, and it provides an object-oriented API for embedding plots into applications using general-purpose GUI toolkits like Tkinter, wxPython, Qt, or GTK+. Some of the features that matplotlib offers are:\n",
    "\n",
    "- Interactive plotting from within IPython (IPython is an interactive shell)\n",
    "- Support for various types of graphs such as line plots and scatter plots\n",
    "- Matlab syntax to make switching between languages easy. This makes it useful if you have to use both Python and Matlab at work."
   ]
  },
  {
   "attachments": {},
   "cell_type": "markdown",
   "metadata": {},
   "source": [
    "jkfdejlmkdenjknkj"
   ]
  },
  {
   "cell_type": "markdown",
   "metadata": {},
   "source": []
  },
  {
   "cell_type": "markdown",
   "metadata": {},
   "source": []
  },
  {
   "cell_type": "markdown",
   "metadata": {},
   "source": []
  },
  {
   "attachments": {},
   "cell_type": "markdown",
   "metadata": {},
   "source": [
    "# Seaborn"
   ]
  },
  {
   "attachments": {},
   "cell_type": "markdown",
   "metadata": {},
   "source": [
    "Seaborn is a Python data visualization library based on matplotlib. It provides a high-level interface for drawing attractive and informative statistical graphics. Some of the features offered by seaborn are:\n",
    "\n",
    "- Support for visualizing regression models\n",
    "- A variety of color palettes to make your plots look more appealing\n",
    "- Convenient functions to plot categorical variables (variables that have categories, such as gender) using boxplots and violin plots."
   ]
  },
  {
   "cell_type": "code",
   "execution_count": null,
   "metadata": {},
   "outputs": [],
   "source": []
  },
  {
   "attachments": {},
   "cell_type": "markdown",
   "metadata": {},
   "source": [
    "# References\n",
    "\n",
    "1. https://matplotlib.org/stable/index.html\n",
    "2. https://seaborn.pydata.org/"
   ]
  }
 ],
 "metadata": {
  "kernelspec": {
   "display_name": "Python 3",
   "language": "python",
   "name": "python3"
  },
  "language_info": {
   "name": "python",
   "version": "3.11.0 (main, Oct 25 2022, 14:13:24) [Clang 14.0.0 (clang-1400.0.29.202)]"
  },
  "orig_nbformat": 4,
  "vscode": {
   "interpreter": {
    "hash": "1a1af0ee75eeea9e2e1ee996c87e7a2b11a0bebd85af04bb136d915cefc0abce"
   }
  }
 },
 "nbformat": 4,
 "nbformat_minor": 2
}
