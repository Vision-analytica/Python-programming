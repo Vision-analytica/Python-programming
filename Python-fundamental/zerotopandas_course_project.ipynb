{
  "cells": [
    {
      "attachments": {},
      "cell_type": "markdown",
      "metadata": {},
      "source": [
        "[![Binder](https://mybinder.org/badge_logo.svg)](https://mybinder.org/v2/gh/arunsinp/Python-programming/blob/main/Python-fundamental/zerotopandas_course_project.ipynb/HEAD)\n",
        "\n",
        "<a href=\"https://colab.research.google.com/github/arunsinp/Python-programming/blob/main/Matplotlib.ipynb\" target=\"_parent\"><img src=\"https://colab.research.google.com/assets/colab-badge.svg\" alt=\"Open In Colab\"></a>\n",
        "\n",
        "\n",
        "[![Open In Colab](https://colab.research.google.com/assets/colab-badge.svg)](https://colab.research.google.com/github/weiji14/deepbedmap/]"
      ]
    },
    {
      "cell_type": "markdown",
      "metadata": {
        "id": "qDPfCz3mmA5-"
      },
      "source": [
        "# Indian Election Dataset\n",
        "\n",
        "State and National Level Election Data from 1977 - 2015"
      ]
    },
    {
      "cell_type": "markdown",
      "metadata": {
        "id": "7nMlCJ71mc2o"
      },
      "source": [
        "## About this dataset\n",
        "\n",
        "This database contains detailed candidate‐level data for elections to the lower houses of India’s national\n",
        "and state legislatures, i.e., the Lok Sabha and Vidhan Sabhas. The data span 1977‐2015, with each row\n",
        "representing a candidate that ran for office in that state‐year.\n",
        "\n",
        "**The variables in the national election data file are:**\n",
        "\n",
        "| Variable name |   Storage    |  type Variable contents |\n",
        "|---------------|--------------|-------------------------|\n",
        "| st_name  |     str35 |     State |\n",
        "| Year |     Int |    General election year| \n",
        "| pc_no |     Byte |     Parliamentary constituency number |\n",
        "| pc_name |     str25 |     Parliamentary constituency name |\n",
        "| pc_type |     str3 |    Parliamentary constituency reservation status |\n",
        "| cand_name |     str70 |     Candidate name |\n",
        "| cand_sex |     str1 |     Candidate sex | \n",
        "| partyname |     str57 |     Party name | \n",
        "| partyabbre |     str10 |     Party abbreviation |\n",
        "| totvotpoll |     Long |     Votes received |\n",
        "| electors  |     Long |     Number of registered voters |\n",
        "\n",
        "**The variables in the state election data file are:**\n",
        "\n",
        "| Variable name |   Storage    |  type Variable contents |\n",
        "|---------------|--------------|-------------------------|\n",
        "| st_name |     sstr35 |     State |\n",
        "| Year |     float |     Assembly election year |\n",
        "| ac_no |     int |     Assembly constituency number|\n",
        "| ac_name |     str28 |     Assembly constituency name |\n",
        "| ac_type |     str5 |     Assembly constituency reservation status |\n",
        "| cand_name |     str98 |     Candidate name |\n",
        "| cand_sex |     str1 |     Candidate sex | \n",
        "| partyname |     str60 |     Party name| \n",
        "| partyabbre |     str11 |     Party abbreviation | \n",
        "| totvotpoll |     long |     Votes received |\n",
        "| electors |     long |     Number of registered voters |\n",
        "\n",
        "\n",
        "**Notes:**\n",
        "1. There were two state elections in Bihar in 2005. In order to distinguish data for the two elections from one another, data for the second have the year 2005.\n",
        "2. Data for bye‐elections are not included. Data were sourced from the Election Commission of India’s online reports, and from field visits.\n",
        "\n",
        "**Acknowledgements** \n",
        "- Bhavnani, Rikhil R., 2017, \"[India National and State Election Dataset](https://dataverse.harvard.edu/dataset.xhtml?persistentId=doi:10.7910/DVN/26526)\", Harvard Dataverse Network V2."
      ]
    },
    {
      "cell_type": "markdown",
      "metadata": {
        "id": "V9IyGbaqo4Ks"
      },
      "source": [
        "## Purpose of the present data analysis\n",
        "\n",
        "These data can be used to calculate a number of fields, including turnout, vote shares, winning status, effective number of parties and so forth. The present analysis is a part of **Course Project - Exploratory Data Analysis** for the course [Data Analysis with Python: Zero to Pandas](https://jovian.com/learn/data-analysis-with-python-zero-to-pandas). Here we will try to use all the libraries and relevant functions learnt in the course."
      ]
    },
    {
      "attachments": {},
      "cell_type": "markdown",
      "metadata": {
        "id": "8pti6_aoqYfW"
      },
      "source": [
        "## How to run the code\n",
        "\n",
        "We can run this code in two ways:\n",
        "1. Google colab\n",
        "2. Binder\n",
        "\n",
        "To compile at google colab or binder, just click the link given at the top of this notebook."
      ]
    },
    {
      "cell_type": "code",
      "execution_count": null,
      "metadata": {
        "id": "eAuXiH9ol6BY"
      },
      "outputs": [],
      "source": []
    }
  ],
  "metadata": {
    "colab": {
      "provenance": []
    },
    "kernelspec": {
      "display_name": "Python 3",
      "language": "python",
      "name": "python3"
    },
    "language_info": {
      "name": "python",
      "version": "3.11.0"
    },
    "vscode": {
      "interpreter": {
        "hash": "1a1af0ee75eeea9e2e1ee996c87e7a2b11a0bebd85af04bb136d915cefc0abce"
      }
    }
  },
  "nbformat": 4,
  "nbformat_minor": 0
}
