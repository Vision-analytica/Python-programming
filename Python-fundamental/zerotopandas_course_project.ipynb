{
  "cells": [
    {
      "attachments": {},
      "cell_type": "markdown",
      "metadata": {},
      "source": [
        "[![Binder](https://mybinder.org/badge_logo.svg)](https://mybinder.org/v2/gh/arunsinp/Python-programming/blob/main/Python-fundamental/zerotopandas_course_project.ipynb/HEAD)\n",
        "\n",
        "<a href=\"https://colab.research.google.com/github/arunsinp/Python-programming/blob/main/Matplotlib.ipynb\" target=\"_parent\"><img src=\"https://colab.research.google.com/assets/colab-badge.svg\" alt=\"Open In Colab\"></a>\n"
      ]
    },
    {
      "cell_type": "markdown",
      "metadata": {
        "id": "qDPfCz3mmA5-"
      },
      "source": [
        "# Indian Election Dataset\n",
        "\n",
        "State and National Level Election Data from 1977 - 2015"
      ]
    },
    {
      "cell_type": "markdown",
      "metadata": {
        "id": "7nMlCJ71mc2o"
      },
      "source": [
        "## About this dataset\n",
        "\n",
        "This database contains detailed candidate‐level data for elections to the lower houses of India’s national\n",
        "and state legislatures, i.e., the Lok Sabha and Vidhan Sabhas. The data span 1977‐2015, with each row\n",
        "representing a candidate that ran for office in that state‐year.\n",
        "\n",
        "**The variables in the national election data file are:**\n",
        "\n",
        "| Variable name |   Storage    |  type Variable contents |\n",
        "|---------------|--------------|-------------------------|\n",
        "| st_name  |     str35 |     State |\n",
        "| Year |     Int |    General election year| \n",
        "| pc_no |     Byte |     Parliamentary constituency number |\n",
        "| pc_name |     str25 |     Parliamentary constituency name |\n",
        "| pc_type |     str3 |    Parliamentary constituency reservation status |\n",
        "| cand_name |     str70 |     Candidate name |\n",
        "| cand_sex |     str1 |     Candidate sex | \n",
        "| partyname |     str57 |     Party name | \n",
        "| partyabbre |     str10 |     Party abbreviation |\n",
        "| totvotpoll |     Long |     Votes received |\n",
        "| electors  |     Long |     Number of registered voters |\n",
        "\n",
        "**The variables in the state election data file are:**\n",
        "\n",
        "| Variable name |   Storage    |  type Variable contents |\n",
        "|---------------|--------------|-------------------------|\n",
        "| st_name |     sstr35 |     State |\n",
        "| Year |     float |     Assembly election year |\n",
        "| ac_no |     int |     Assembly constituency number|\n",
        "| ac_name |     str28 |     Assembly constituency name |\n",
        "| ac_type |     str5 |     Assembly constituency reservation status |\n",
        "| cand_name |     str98 |     Candidate name |\n",
        "| cand_sex |     str1 |     Candidate sex | \n",
        "| partyname |     str60 |     Party name| \n",
        "| partyabbre |     str11 |     Party abbreviation | \n",
        "| totvotpoll |     long |     Votes received |\n",
        "| electors |     long |     Number of registered voters |\n",
        "\n",
        "\n",
        "**Notes:**\n",
        "1. There were two state elections in Bihar in 2005. In order to distinguish data for the two elections from one another, data for the second have the year 2005.\n",
        "2. Data for bye‐elections are not included. Data were sourced from the Election Commission of India’s online reports, and from field visits.\n",
        "\n",
        "**Acknowledgements** \n",
        "- Bhavnani, Rikhil R., 2017, \"[India National and State Election Dataset](https://dataverse.harvard.edu/dataset.xhtml?persistentId=doi:10.7910/DVN/26526)\", Harvard Dataverse Network V2."
      ]
    },
    {
      "cell_type": "markdown",
      "metadata": {
        "id": "V9IyGbaqo4Ks"
      },
      "source": [
        "## Purpose of the present data analysis\n",
        "\n",
        "These data can be used to calculate a number of fields, including turnout, vote shares, winning status, effective number of parties and so forth. The present analysis is a part of **Course Project - Exploratory Data Analysis** for the course [Data Analysis with Python: Zero to Pandas](https://jovian.com/learn/data-analysis-with-python-zero-to-pandas). Here we will try to use all the libraries and relevant functions learnt in the course."
      ]
    },
    {
      "attachments": {},
      "cell_type": "markdown",
      "metadata": {
        "id": "8pti6_aoqYfW"
      },
      "source": [
        "## How to run the code\n",
        "\n",
        "We can run this code in two ways:\n",
        "1. Google colab\n",
        "2. Binder\n",
        "\n",
        "To compile at google colab or binder, just click the link given at the top of this notebook."
      ]
    },
    {
      "cell_type": "markdown",
      "metadata": {},
      "source": [
        "# Steps to follow:\n",
        "\n",
        "- **Step-1:** Selecting a real-world dataset\n",
        "- **Step-2:** Performing data preparation & cleaning\n",
        "- **Step-3:** Performing exploratory analysis & visualization\n",
        "- **Step-4:** Asking & answering questions about the data\n",
        "- **Step-5:** Summarizing the inferences & writing my conclusions\n",
        "- **Step-6:** submission & share of the work\n",
        "- **Step-7:** My link on Medium for the present work"
      ]
    },
    {
      "cell_type": "markdown",
      "metadata": {},
      "source": [
        "## **Step-1:** Selecting a real-world dataset"
      ]
    },
    {
      "attachments": {},
      "cell_type": "markdown",
      "metadata": {},
      "source": [
        "Let's begin by downloading the data, and listing the files within the dataset."
      ]
    },
    {
      "cell_type": "code",
      "execution_count": 1,
      "metadata": {},
      "outputs": [
        {
          "name": "stdout",
          "output_type": "stream",
          "text": [
            "Note: you may need to restart the kernel to use updated packages.\n"
          ]
        }
      ],
      "source": [
        "%pip install jovian opendatasets --upgrade --quiet"
      ]
    },
    {
      "cell_type": "code",
      "execution_count": 2,
      "metadata": {},
      "outputs": [],
      "source": [
        "# Change this\n",
        "dataset_url = 'https://www.kaggle.com/datasets/awadhi123/indian-election-dataset'"
      ]
    },
    {
      "cell_type": "code",
      "execution_count": 3,
      "metadata": {},
      "outputs": [
        {
          "name": "stdout",
          "output_type": "stream",
          "text": [
            "Skipping, found downloaded files in \"./indian-election-dataset\" (use force=True to force download)\n"
          ]
        }
      ],
      "source": [
        "import opendatasets as od\n",
        "od.download(dataset_url)"
      ]
    },
    {
      "attachments": {},
      "cell_type": "markdown",
      "metadata": {},
      "source": [
        "Now we have downloaded the two datasets and has been extracted in `indian-election-dataset` folder:\n",
        "- `indian-national-level-election.csv`\n",
        "- `indian-state-level-election.csv`"
      ]
    },
    {
      "cell_type": "code",
      "execution_count": 4,
      "metadata": {},
      "outputs": [],
      "source": [
        "# Change this\n",
        "data_dir = './indian-election-dataset'"
      ]
    },
    {
      "cell_type": "code",
      "execution_count": 5,
      "metadata": {},
      "outputs": [
        {
          "data": {
            "text/plain": [
              "'/Users/arunp77/Documents/Data-science/Python/Python-programming/Python-fundamental'"
            ]
          },
          "execution_count": 5,
          "metadata": {},
          "output_type": "execute_result"
        }
      ],
      "source": [
        "%pwd"
      ]
    },
    {
      "cell_type": "code",
      "execution_count": 6,
      "metadata": {},
      "outputs": [
        {
          "data": {
            "text/plain": [
              "['indian-national-level-election.csv', 'indian-state-level-election.csv']"
            ]
          },
          "execution_count": 6,
          "metadata": {},
          "output_type": "execute_result"
        }
      ],
      "source": [
        "# Now listing the downloaded files \n",
        "import os\n",
        "os.listdir(data_dir)"
      ]
    },
    {
      "cell_type": "code",
      "execution_count": 7,
      "metadata": {},
      "outputs": [],
      "source": [
        "project_name = \"zerotopandas-course-project-starter\" # change this (use lowercase letters and hyphens only)"
      ]
    },
    {
      "cell_type": "code",
      "execution_count": 8,
      "metadata": {},
      "outputs": [
        {
          "name": "stdout",
          "output_type": "stream",
          "text": [
            "Note: you may need to restart the kernel to use updated packages.\n"
          ]
        }
      ],
      "source": [
        "%pip install jovian --upgrade -q"
      ]
    },
    {
      "cell_type": "code",
      "execution_count": 9,
      "metadata": {},
      "outputs": [
        {
          "data": {
            "application/javascript": "if (window.IPython && IPython.notebook.kernel) IPython.notebook.kernel.execute('jovian.utils.jupyter.get_notebook_name_saved = lambda: \"' + IPython.notebook.notebook_name + '\"')",
            "text/plain": [
              "<IPython.core.display.Javascript object>"
            ]
          },
          "metadata": {},
          "output_type": "display_data"
        }
      ],
      "source": [
        "import jovian"
      ]
    },
    {
      "cell_type": "code",
      "execution_count": 10,
      "metadata": {},
      "outputs": [
        {
          "data": {
            "application/javascript": "window.require && require([\"base/js/namespace\"],function(Jupyter){Jupyter.notebook.save_checkpoint()})",
            "text/plain": [
              "<IPython.core.display.Javascript object>"
            ]
          },
          "metadata": {},
          "output_type": "display_data"
        },
        {
          "data": {
            "application/javascript": "if (window.IPython && IPython.notebook.kernel) IPython.notebook.kernel.execute('jovian.utils.jupyter.get_notebook_name_saved = lambda: \"' + IPython.notebook.notebook_name + '\"')",
            "text/plain": [
              "<IPython.core.display.Javascript object>"
            ]
          },
          "metadata": {},
          "output_type": "display_data"
        },
        {
          "name": "stderr",
          "output_type": "stream",
          "text": [
            "\u001b[31m[jovian] Error: Failed to read the Jupyter notebook. Please re-run this cell to try again. If the issue persists, provide the \"filename\" argument to \"jovian.commit\" e.g. \"jovian.commit(filename='my-notebook.ipynb')\"\u001b[0m\n"
          ]
        }
      ],
      "source": [
        "jovian.commit(project=project_name)"
      ]
    },
    {
      "attachments": {},
      "cell_type": "markdown",
      "metadata": {},
      "source": [
        "## **Step-2:** Performing data preparation & cleaning\n",
        "\n",
        "**TODO** - I have divided this section in following steps:\n",
        "\n",
        "- Substep-1: Import necessary libraries, like numpy, pandas, matplotlib and seaborn\n",
        "- Substep-2: Then load dataset into a dataframe using pandas. Here I will load two dataset\n",
        "  - 1976-2020-national-level\n",
        "  - 1976-2020-state-level\n",
        "- Substep-3: Data Understanding of the two datasets. For example, \n",
        "  - shape, \n",
        "  - dtype, \n",
        "  - columns \n",
        "  \n",
        "  in the two dataset. \n",
        "  \n",
        "- Substep-4: Data Preparation, such as \n",
        "  - Dropping irrelaevant columns and rows\n",
        "  - Identify duplicated columns\n",
        "  - renaming Columns\n",
        "  - Handle missing, incorrect and invalid data\n",
        "  - Feature creation\n",
        "- Substep-5: Next joining the two datasets, finding and relations etc.\n",
        "\n",
        "Before loading the daatafiles, we need to import important libraries, used for the data analysis\n"
      ]
    },
    {
      "cell_type": "code",
      "execution_count": 11,
      "metadata": {},
      "outputs": [],
      "source": [
        "import pandas as pd\n",
        "import numpy as np\n",
        "import matplotlib.pylab as plt\n",
        "import seaborn as sns\n",
        "plt.style.use('ggplot')"
      ]
    },
    {
      "attachments": {},
      "cell_type": "markdown",
      "metadata": {},
      "source": [
        "Lets load the first and second datasets"
      ]
    },
    {
      "cell_type": "code",
      "execution_count": 15,
      "metadata": {},
      "outputs": [],
      "source": [
        "# Imorting files\n",
        "national_df = pd.read_csv('./indian-election-dataset/indian-national-level-election.csv')"
      ]
    },
    {
      "attachments": {},
      "cell_type": "markdown",
      "metadata": {},
      "source": [
        "Data Understanding of the dataset. For example, \n",
        "  - shape, \n",
        "  - dtype, \n",
        "  - columns "
      ]
    },
    {
      "cell_type": "code",
      "execution_count": 16,
      "metadata": {},
      "outputs": [
        {
          "data": {
            "text/plain": [
              "(73081, 11)"
            ]
          },
          "execution_count": 16,
          "metadata": {},
          "output_type": "execute_result"
        }
      ],
      "source": [
        "national_df.shape"
      ]
    },
    {
      "cell_type": "code",
      "execution_count": 17,
      "metadata": {},
      "outputs": [
        {
          "data": {
            "text/plain": [
              "st_name       object\n",
              "year           int64\n",
              "pc_no          int64\n",
              "pc_name       object\n",
              "pc_type       object\n",
              "cand_name     object\n",
              "cand_sex      object\n",
              "partyname     object\n",
              "partyabbre    object\n",
              "totvotpoll     int64\n",
              "electors       int64\n",
              "dtype: object"
            ]
          },
          "execution_count": 17,
          "metadata": {},
          "output_type": "execute_result"
        }
      ],
      "source": [
        "national_df.dtypes"
      ]
    },
    {
      "attachments": {},
      "cell_type": "markdown",
      "metadata": {},
      "source": [
        "Here, we found that the year is int64 type. So wee need to change it to datetime type."
      ]
    },
    {
      "cell_type": "code",
      "execution_count": 18,
      "metadata": {},
      "outputs": [],
      "source": [
        "# converting the date into datetime\n",
        "national_df['year'] = pd.to_datetime(national_df['year'], format='%Y')"
      ]
    },
    {
      "cell_type": "code",
      "execution_count": 19,
      "metadata": {},
      "outputs": [
        {
          "data": {
            "text/plain": [
              "st_name               object\n",
              "year          datetime64[ns]\n",
              "pc_no                  int64\n",
              "pc_name               object\n",
              "pc_type               object\n",
              "cand_name             object\n",
              "cand_sex              object\n",
              "partyname             object\n",
              "partyabbre            object\n",
              "totvotpoll             int64\n",
              "electors               int64\n",
              "dtype: object"
            ]
          },
          "execution_count": 19,
          "metadata": {},
          "output_type": "execute_result"
        }
      ],
      "source": [
        "# Now again checking the datatype\n",
        "national_df.dtypes"
      ]
    },
    {
      "cell_type": "code",
      "execution_count": 24,
      "metadata": {},
      "outputs": [
        {
          "data": {
            "text/plain": [
              "Index(['st_name', 'year', 'pc_no', 'pc_name', 'pc_type', 'cand_name',\n",
              "       'cand_sex', 'partyname', 'partyabbre', 'totvotpoll', 'electors'],\n",
              "      dtype='object')"
            ]
          },
          "execution_count": 24,
          "metadata": {},
          "output_type": "execute_result"
        }
      ],
      "source": [
        "# Now checking the columns of the dataset.\n",
        "national_df.columns"
      ]
    },
    {
      "cell_type": "code",
      "execution_count": 26,
      "metadata": {},
      "outputs": [
        {
          "data": {
            "text/html": [
              "<div>\n",
              "<style scoped>\n",
              "    .dataframe tbody tr th:only-of-type {\n",
              "        vertical-align: middle;\n",
              "    }\n",
              "\n",
              "    .dataframe tbody tr th {\n",
              "        vertical-align: top;\n",
              "    }\n",
              "\n",
              "    .dataframe thead th {\n",
              "        text-align: right;\n",
              "    }\n",
              "</style>\n",
              "<table border=\"1\" class=\"dataframe\">\n",
              "  <thead>\n",
              "    <tr style=\"text-align: right;\">\n",
              "      <th></th>\n",
              "      <th>Column names</th>\n",
              "    </tr>\n",
              "  </thead>\n",
              "  <tbody>\n",
              "    <tr>\n",
              "      <th>0</th>\n",
              "      <td>st_name</td>\n",
              "    </tr>\n",
              "    <tr>\n",
              "      <th>1</th>\n",
              "      <td>year</td>\n",
              "    </tr>\n",
              "    <tr>\n",
              "      <th>2</th>\n",
              "      <td>pc_no</td>\n",
              "    </tr>\n",
              "    <tr>\n",
              "      <th>3</th>\n",
              "      <td>pc_name</td>\n",
              "    </tr>\n",
              "    <tr>\n",
              "      <th>4</th>\n",
              "      <td>pc_type</td>\n",
              "    </tr>\n",
              "    <tr>\n",
              "      <th>5</th>\n",
              "      <td>cand_name</td>\n",
              "    </tr>\n",
              "    <tr>\n",
              "      <th>6</th>\n",
              "      <td>cand_sex</td>\n",
              "    </tr>\n",
              "    <tr>\n",
              "      <th>7</th>\n",
              "      <td>partyname</td>\n",
              "    </tr>\n",
              "    <tr>\n",
              "      <th>8</th>\n",
              "      <td>partyabbre</td>\n",
              "    </tr>\n",
              "    <tr>\n",
              "      <th>9</th>\n",
              "      <td>totvotpoll</td>\n",
              "    </tr>\n",
              "    <tr>\n",
              "      <th>10</th>\n",
              "      <td>electors</td>\n",
              "    </tr>\n",
              "  </tbody>\n",
              "</table>\n",
              "</div>"
            ],
            "text/plain": [
              "   Column names\n",
              "0       st_name\n",
              "1          year\n",
              "2         pc_no\n",
              "3       pc_name\n",
              "4       pc_type\n",
              "5     cand_name\n",
              "6      cand_sex\n",
              "7     partyname\n",
              "8    partyabbre\n",
              "9    totvotpoll\n",
              "10     electors"
            ]
          },
          "execution_count": 26,
          "metadata": {},
          "output_type": "execute_result"
        }
      ],
      "source": [
        "# writing above column names as dataframe format.\n",
        "col_df = pd.DataFrame(national_df.columns, columns=['Column names'])\n",
        "col_df"
      ]
    },
    {
      "cell_type": "code",
      "execution_count": 29,
      "metadata": {},
      "outputs": [
        {
          "data": {
            "text/html": [
              "<div>\n",
              "<style scoped>\n",
              "    .dataframe tbody tr th:only-of-type {\n",
              "        vertical-align: middle;\n",
              "    }\n",
              "\n",
              "    .dataframe tbody tr th {\n",
              "        vertical-align: top;\n",
              "    }\n",
              "\n",
              "    .dataframe thead th {\n",
              "        text-align: right;\n",
              "    }\n",
              "</style>\n",
              "<table border=\"1\" class=\"dataframe\">\n",
              "  <thead>\n",
              "    <tr style=\"text-align: right;\">\n",
              "      <th></th>\n",
              "      <th>pc_no</th>\n",
              "      <th>totvotpoll</th>\n",
              "      <th>electors</th>\n",
              "    </tr>\n",
              "  </thead>\n",
              "  <tbody>\n",
              "    <tr>\n",
              "      <th>count</th>\n",
              "      <td>73081.000000</td>\n",
              "      <td>73081.000000</td>\n",
              "      <td>7.308100e+04</td>\n",
              "    </tr>\n",
              "    <tr>\n",
              "      <th>mean</th>\n",
              "      <td>22.311490</td>\n",
              "      <td>49834.760266</td>\n",
              "      <td>1.122277e+06</td>\n",
              "    </tr>\n",
              "    <tr>\n",
              "      <th>std</th>\n",
              "      <td>19.039793</td>\n",
              "      <td>104893.319706</td>\n",
              "      <td>3.560049e+05</td>\n",
              "    </tr>\n",
              "    <tr>\n",
              "      <th>min</th>\n",
              "      <td>1.000000</td>\n",
              "      <td>0.000000</td>\n",
              "      <td>1.947100e+04</td>\n",
              "    </tr>\n",
              "    <tr>\n",
              "      <th>25%</th>\n",
              "      <td>7.000000</td>\n",
              "      <td>872.000000</td>\n",
              "      <td>9.129850e+05</td>\n",
              "    </tr>\n",
              "    <tr>\n",
              "      <th>50%</th>\n",
              "      <td>18.000000</td>\n",
              "      <td>2743.000000</td>\n",
              "      <td>1.099503e+06</td>\n",
              "    </tr>\n",
              "    <tr>\n",
              "      <th>75%</th>\n",
              "      <td>33.000000</td>\n",
              "      <td>19185.000000</td>\n",
              "      <td>1.329086e+06</td>\n",
              "    </tr>\n",
              "    <tr>\n",
              "      <th>max</th>\n",
              "      <td>85.000000</td>\n",
              "      <td>863358.000000</td>\n",
              "      <td>3.368399e+06</td>\n",
              "    </tr>\n",
              "  </tbody>\n",
              "</table>\n",
              "</div>"
            ],
            "text/plain": [
              "              pc_no     totvotpoll      electors\n",
              "count  73081.000000   73081.000000  7.308100e+04\n",
              "mean      22.311490   49834.760266  1.122277e+06\n",
              "std       19.039793  104893.319706  3.560049e+05\n",
              "min        1.000000       0.000000  1.947100e+04\n",
              "25%        7.000000     872.000000  9.129850e+05\n",
              "50%       18.000000    2743.000000  1.099503e+06\n",
              "75%       33.000000   19185.000000  1.329086e+06\n",
              "max       85.000000  863358.000000  3.368399e+06"
            ]
          },
          "execution_count": 29,
          "metadata": {},
          "output_type": "execute_result"
        }
      ],
      "source": [
        "# now checking some common statistics\n",
        "national_df.describe()"
      ]
    },
    {
      "cell_type": "code",
      "execution_count": 28,
      "metadata": {},
      "outputs": [
        {
          "data": {
            "text/html": [
              "<div>\n",
              "<style scoped>\n",
              "    .dataframe tbody tr th:only-of-type {\n",
              "        vertical-align: middle;\n",
              "    }\n",
              "\n",
              "    .dataframe tbody tr th {\n",
              "        vertical-align: top;\n",
              "    }\n",
              "\n",
              "    .dataframe thead th {\n",
              "        text-align: right;\n",
              "    }\n",
              "</style>\n",
              "<table border=\"1\" class=\"dataframe\">\n",
              "  <thead>\n",
              "    <tr style=\"text-align: right;\">\n",
              "      <th></th>\n",
              "      <th>st_name</th>\n",
              "      <th>year</th>\n",
              "      <th>pc_no</th>\n",
              "      <th>pc_name</th>\n",
              "      <th>pc_type</th>\n",
              "      <th>cand_name</th>\n",
              "      <th>cand_sex</th>\n",
              "      <th>partyname</th>\n",
              "      <th>partyabbre</th>\n",
              "      <th>totvotpoll</th>\n",
              "      <th>electors</th>\n",
              "    </tr>\n",
              "  </thead>\n",
              "  <tbody>\n",
              "    <tr>\n",
              "      <th>0</th>\n",
              "      <td>Andaman &amp; Nicobar Islands</td>\n",
              "      <td>1977-01-01</td>\n",
              "      <td>1</td>\n",
              "      <td>Andaman &amp; Nicobar Islands</td>\n",
              "      <td>GEN</td>\n",
              "      <td>K.R. Ganesh</td>\n",
              "      <td>M</td>\n",
              "      <td>Independents</td>\n",
              "      <td>IND</td>\n",
              "      <td>25168</td>\n",
              "      <td>85308</td>\n",
              "    </tr>\n",
              "    <tr>\n",
              "      <th>1</th>\n",
              "      <td>Andaman &amp; Nicobar Islands</td>\n",
              "      <td>1977-01-01</td>\n",
              "      <td>1</td>\n",
              "      <td>Andaman &amp; Nicobar Islands</td>\n",
              "      <td>GEN</td>\n",
              "      <td>Manoranjan Bhakta</td>\n",
              "      <td>M</td>\n",
              "      <td>Indian National Congress</td>\n",
              "      <td>INC</td>\n",
              "      <td>35400</td>\n",
              "      <td>85308</td>\n",
              "    </tr>\n",
              "    <tr>\n",
              "      <th>2</th>\n",
              "      <td>Andaman &amp; Nicobar Islands</td>\n",
              "      <td>1980-01-01</td>\n",
              "      <td>1</td>\n",
              "      <td>Andaman &amp; Nicobar Islands</td>\n",
              "      <td>GEN</td>\n",
              "      <td>Ramesh Mazumdar</td>\n",
              "      <td>M</td>\n",
              "      <td>Independents</td>\n",
              "      <td>IND</td>\n",
              "      <td>109</td>\n",
              "      <td>96084</td>\n",
              "    </tr>\n",
              "    <tr>\n",
              "      <th>3</th>\n",
              "      <td>Andaman &amp; Nicobar Islands</td>\n",
              "      <td>1980-01-01</td>\n",
              "      <td>1</td>\n",
              "      <td>Andaman &amp; Nicobar Islands</td>\n",
              "      <td>GEN</td>\n",
              "      <td>Alagiri Swamy</td>\n",
              "      <td>M</td>\n",
              "      <td>Independents</td>\n",
              "      <td>IND</td>\n",
              "      <td>125</td>\n",
              "      <td>96084</td>\n",
              "    </tr>\n",
              "    <tr>\n",
              "      <th>4</th>\n",
              "      <td>Andaman &amp; Nicobar Islands</td>\n",
              "      <td>1980-01-01</td>\n",
              "      <td>1</td>\n",
              "      <td>Andaman &amp; Nicobar Islands</td>\n",
              "      <td>GEN</td>\n",
              "      <td>Kannu Chemy</td>\n",
              "      <td>M</td>\n",
              "      <td>Independents</td>\n",
              "      <td>IND</td>\n",
              "      <td>405</td>\n",
              "      <td>96084</td>\n",
              "    </tr>\n",
              "    <tr>\n",
              "      <th>...</th>\n",
              "      <td>...</td>\n",
              "      <td>...</td>\n",
              "      <td>...</td>\n",
              "      <td>...</td>\n",
              "      <td>...</td>\n",
              "      <td>...</td>\n",
              "      <td>...</td>\n",
              "      <td>...</td>\n",
              "      <td>...</td>\n",
              "      <td>...</td>\n",
              "      <td>...</td>\n",
              "    </tr>\n",
              "    <tr>\n",
              "      <th>73076</th>\n",
              "      <td>West Bengal</td>\n",
              "      <td>2014-01-01</td>\n",
              "      <td>42</td>\n",
              "      <td>Birbhum</td>\n",
              "      <td>GEN</td>\n",
              "      <td>None Of The Above</td>\n",
              "      <td>NaN</td>\n",
              "      <td>NOTA</td>\n",
              "      <td>NOTA</td>\n",
              "      <td>14557</td>\n",
              "      <td>1495089</td>\n",
              "    </tr>\n",
              "    <tr>\n",
              "      <th>73077</th>\n",
              "      <td>West Bengal</td>\n",
              "      <td>2014-01-01</td>\n",
              "      <td>42</td>\n",
              "      <td>Birbhum</td>\n",
              "      <td>GEN</td>\n",
              "      <td>Syed Siraj Jimmi</td>\n",
              "      <td>M</td>\n",
              "      <td>INC</td>\n",
              "      <td>INC</td>\n",
              "      <td>132084</td>\n",
              "      <td>1495089</td>\n",
              "    </tr>\n",
              "    <tr>\n",
              "      <th>73078</th>\n",
              "      <td>West Bengal</td>\n",
              "      <td>2014-01-01</td>\n",
              "      <td>42</td>\n",
              "      <td>Birbhum</td>\n",
              "      <td>GEN</td>\n",
              "      <td>Joy Banerjee</td>\n",
              "      <td>M</td>\n",
              "      <td>BJP</td>\n",
              "      <td>BJP</td>\n",
              "      <td>235753</td>\n",
              "      <td>1495089</td>\n",
              "    </tr>\n",
              "    <tr>\n",
              "      <th>73079</th>\n",
              "      <td>West Bengal</td>\n",
              "      <td>2014-01-01</td>\n",
              "      <td>42</td>\n",
              "      <td>Birbhum</td>\n",
              "      <td>GEN</td>\n",
              "      <td>Dr. Elahi Kamre Mahammad</td>\n",
              "      <td>M</td>\n",
              "      <td>CPM</td>\n",
              "      <td>CPM</td>\n",
              "      <td>393305</td>\n",
              "      <td>1495089</td>\n",
              "    </tr>\n",
              "    <tr>\n",
              "      <th>73080</th>\n",
              "      <td>West Bengal</td>\n",
              "      <td>2014-01-01</td>\n",
              "      <td>42</td>\n",
              "      <td>Birbhum</td>\n",
              "      <td>GEN</td>\n",
              "      <td>Satabdi Roy</td>\n",
              "      <td>F</td>\n",
              "      <td>AITC</td>\n",
              "      <td>AITC</td>\n",
              "      <td>460568</td>\n",
              "      <td>1495089</td>\n",
              "    </tr>\n",
              "  </tbody>\n",
              "</table>\n",
              "<p>73081 rows × 11 columns</p>\n",
              "</div>"
            ],
            "text/plain": [
              "                         st_name       year  pc_no                    pc_name  \\\n",
              "0      Andaman & Nicobar Islands 1977-01-01      1  Andaman & Nicobar Islands   \n",
              "1      Andaman & Nicobar Islands 1977-01-01      1  Andaman & Nicobar Islands   \n",
              "2      Andaman & Nicobar Islands 1980-01-01      1  Andaman & Nicobar Islands   \n",
              "3      Andaman & Nicobar Islands 1980-01-01      1  Andaman & Nicobar Islands   \n",
              "4      Andaman & Nicobar Islands 1980-01-01      1  Andaman & Nicobar Islands   \n",
              "...                          ...        ...    ...                        ...   \n",
              "73076                West Bengal 2014-01-01     42                    Birbhum   \n",
              "73077                West Bengal 2014-01-01     42                    Birbhum   \n",
              "73078                West Bengal 2014-01-01     42                    Birbhum   \n",
              "73079                West Bengal 2014-01-01     42                    Birbhum   \n",
              "73080                West Bengal 2014-01-01     42                    Birbhum   \n",
              "\n",
              "      pc_type                 cand_name cand_sex                 partyname  \\\n",
              "0         GEN               K.R. Ganesh        M              Independents   \n",
              "1         GEN         Manoranjan Bhakta        M  Indian National Congress   \n",
              "2         GEN           Ramesh Mazumdar        M              Independents   \n",
              "3         GEN             Alagiri Swamy        M              Independents   \n",
              "4         GEN               Kannu Chemy        M              Independents   \n",
              "...       ...                       ...      ...                       ...   \n",
              "73076     GEN         None Of The Above      NaN                      NOTA   \n",
              "73077     GEN          Syed Siraj Jimmi        M                       INC   \n",
              "73078     GEN              Joy Banerjee        M                       BJP   \n",
              "73079     GEN  Dr. Elahi Kamre Mahammad        M                       CPM   \n",
              "73080     GEN               Satabdi Roy        F                      AITC   \n",
              "\n",
              "      partyabbre  totvotpoll  electors  \n",
              "0            IND       25168     85308  \n",
              "1            INC       35400     85308  \n",
              "2            IND         109     96084  \n",
              "3            IND         125     96084  \n",
              "4            IND         405     96084  \n",
              "...          ...         ...       ...  \n",
              "73076       NOTA       14557   1495089  \n",
              "73077        INC      132084   1495089  \n",
              "73078        BJP      235753   1495089  \n",
              "73079        CPM      393305   1495089  \n",
              "73080       AITC      460568   1495089  \n",
              "\n",
              "[73081 rows x 11 columns]"
            ]
          },
          "execution_count": 28,
          "metadata": {},
          "output_type": "execute_result"
        }
      ],
      "source": [
        "# Now checkinf the dataset\n",
        "national_df"
      ]
    },
    {
      "attachments": {},
      "cell_type": "markdown",
      "metadata": {},
      "source": [
        "So we have total 73081 rows and 11 columnns. we now need to do data preparation for the analysis. Forr exammple:\n",
        "  - Dropping irrelaevant columns and rows\n",
        "  - Identify duplicated columns\n",
        "  - renaming Columns\n",
        "  - Handle missing, incorrect and invalid data\n",
        "  - Feature creation"
      ]
    },
    {
      "cell_type": "code",
      "execution_count": 30,
      "metadata": {},
      "outputs": [],
      "source": [
        "# We have seen that there are many columns and we many not necessarily need all columns\n",
        "national_dfcopy = national_df[['st_name', 'year', \n",
        "      # 'pc_no', \n",
        "      'pc_name', 'pc_type', 'cand_name',\n",
        "       'cand_sex', \n",
        "       # 'partyname', \n",
        "       'partyabbre', 'totvotpoll', 'electors'\n",
        "    ]].copy()"
      ]
    },
    {
      "cell_type": "code",
      "execution_count": 31,
      "metadata": {},
      "outputs": [
        {
          "data": {
            "text/plain": [
              "Index(['st_name', 'year', 'pc_name', 'pc_type', 'cand_name', 'cand_sex',\n",
              "       'partyabbre', 'totvotpoll', 'electors'],\n",
              "      dtype='object')"
            ]
          },
          "execution_count": 31,
          "metadata": {},
          "output_type": "execute_result"
        }
      ],
      "source": [
        "national_dfcopy.columns"
      ]
    },
    {
      "cell_type": "code",
      "execution_count": 32,
      "metadata": {},
      "outputs": [],
      "source": [
        "# We can see that some of the column are needed to be changed. To do this\n",
        "national_dfcopy = national_dfcopy.rename(columns={'st_name': 'State', \n",
        "                                                  'year': 'Year', \n",
        "                                                  'cand_name': 'Candidate', \n",
        "                                                  'partyabbre': 'Party'\n",
        "                                                  })"
      ]
    },
    {
      "cell_type": "code",
      "execution_count": 33,
      "metadata": {},
      "outputs": [
        {
          "data": {
            "text/html": [
              "<div>\n",
              "<style scoped>\n",
              "    .dataframe tbody tr th:only-of-type {\n",
              "        vertical-align: middle;\n",
              "    }\n",
              "\n",
              "    .dataframe tbody tr th {\n",
              "        vertical-align: top;\n",
              "    }\n",
              "\n",
              "    .dataframe thead th {\n",
              "        text-align: right;\n",
              "    }\n",
              "</style>\n",
              "<table border=\"1\" class=\"dataframe\">\n",
              "  <thead>\n",
              "    <tr style=\"text-align: right;\">\n",
              "      <th></th>\n",
              "      <th>State</th>\n",
              "      <th>Year</th>\n",
              "      <th>pc_name</th>\n",
              "      <th>pc_type</th>\n",
              "      <th>Candidate</th>\n",
              "      <th>cand_sex</th>\n",
              "      <th>Party</th>\n",
              "      <th>totvotpoll</th>\n",
              "      <th>electors</th>\n",
              "    </tr>\n",
              "  </thead>\n",
              "  <tbody>\n",
              "    <tr>\n",
              "      <th>0</th>\n",
              "      <td>Andaman &amp; Nicobar Islands</td>\n",
              "      <td>1977-01-01</td>\n",
              "      <td>Andaman &amp; Nicobar Islands</td>\n",
              "      <td>GEN</td>\n",
              "      <td>K.R. Ganesh</td>\n",
              "      <td>M</td>\n",
              "      <td>IND</td>\n",
              "      <td>25168</td>\n",
              "      <td>85308</td>\n",
              "    </tr>\n",
              "    <tr>\n",
              "      <th>1</th>\n",
              "      <td>Andaman &amp; Nicobar Islands</td>\n",
              "      <td>1977-01-01</td>\n",
              "      <td>Andaman &amp; Nicobar Islands</td>\n",
              "      <td>GEN</td>\n",
              "      <td>Manoranjan Bhakta</td>\n",
              "      <td>M</td>\n",
              "      <td>INC</td>\n",
              "      <td>35400</td>\n",
              "      <td>85308</td>\n",
              "    </tr>\n",
              "    <tr>\n",
              "      <th>2</th>\n",
              "      <td>Andaman &amp; Nicobar Islands</td>\n",
              "      <td>1980-01-01</td>\n",
              "      <td>Andaman &amp; Nicobar Islands</td>\n",
              "      <td>GEN</td>\n",
              "      <td>Ramesh Mazumdar</td>\n",
              "      <td>M</td>\n",
              "      <td>IND</td>\n",
              "      <td>109</td>\n",
              "      <td>96084</td>\n",
              "    </tr>\n",
              "    <tr>\n",
              "      <th>3</th>\n",
              "      <td>Andaman &amp; Nicobar Islands</td>\n",
              "      <td>1980-01-01</td>\n",
              "      <td>Andaman &amp; Nicobar Islands</td>\n",
              "      <td>GEN</td>\n",
              "      <td>Alagiri Swamy</td>\n",
              "      <td>M</td>\n",
              "      <td>IND</td>\n",
              "      <td>125</td>\n",
              "      <td>96084</td>\n",
              "    </tr>\n",
              "    <tr>\n",
              "      <th>4</th>\n",
              "      <td>Andaman &amp; Nicobar Islands</td>\n",
              "      <td>1980-01-01</td>\n",
              "      <td>Andaman &amp; Nicobar Islands</td>\n",
              "      <td>GEN</td>\n",
              "      <td>Kannu Chemy</td>\n",
              "      <td>M</td>\n",
              "      <td>IND</td>\n",
              "      <td>405</td>\n",
              "      <td>96084</td>\n",
              "    </tr>\n",
              "  </tbody>\n",
              "</table>\n",
              "</div>"
            ],
            "text/plain": [
              "                       State       Year                    pc_name pc_type  \\\n",
              "0  Andaman & Nicobar Islands 1977-01-01  Andaman & Nicobar Islands     GEN   \n",
              "1  Andaman & Nicobar Islands 1977-01-01  Andaman & Nicobar Islands     GEN   \n",
              "2  Andaman & Nicobar Islands 1980-01-01  Andaman & Nicobar Islands     GEN   \n",
              "3  Andaman & Nicobar Islands 1980-01-01  Andaman & Nicobar Islands     GEN   \n",
              "4  Andaman & Nicobar Islands 1980-01-01  Andaman & Nicobar Islands     GEN   \n",
              "\n",
              "           Candidate cand_sex Party  totvotpoll  electors  \n",
              "0        K.R. Ganesh        M   IND       25168     85308  \n",
              "1  Manoranjan Bhakta        M   INC       35400     85308  \n",
              "2    Ramesh Mazumdar        M   IND         109     96084  \n",
              "3      Alagiri Swamy        M   IND         125     96084  \n",
              "4        Kannu Chemy        M   IND         405     96084  "
            ]
          },
          "execution_count": 33,
          "metadata": {},
          "output_type": "execute_result"
        }
      ],
      "source": [
        "# Checking top 5 rows of the dataset\n",
        "national_dfcopy.head()"
      ]
    },
    {
      "attachments": {},
      "cell_type": "markdown",
      "metadata": {},
      "source": [
        "Now we need to find all cells with `NAN`. \n",
        "\n",
        "**NaN values:**\n",
        "\n",
        "- Now to to change the value of a cell with `NaN` to \"other\", we can use the following code: `df.at[row_label, col_label] = \"other\"`\n",
        "- If we want to change all cells with `NaN` values in a particular column to \"other\", you we use the following code: `df[col_label].fillna(\"other\", inplace=True)`. The `fillna` method fills all `NaN` values in the column with the specified value (in this case, \"other\"). The `inplace=True` argument specifies that the change should be made in-place, i.e., directly in the original DataFrame, instead of returning a new DataFrame.\n",
        "- If we want to change all cells with `NaN` values in the entire DataFrame to \"other\", we can use the following code: `df.fillna(\"other\", inplace=True)`"
      ]
    },
    {
      "cell_type": "code",
      "execution_count": 34,
      "metadata": {},
      "outputs": [
        {
          "data": {
            "text/plain": [
              "State            0\n",
              "Year             0\n",
              "pc_name          0\n",
              "pc_type       8070\n",
              "Candidate        0\n",
              "cand_sex       542\n",
              "Party            0\n",
              "totvotpoll       0\n",
              "electors         0\n",
              "dtype: int64"
            ]
          },
          "execution_count": 34,
          "metadata": {},
          "output_type": "execute_result"
        }
      ],
      "source": [
        "national_dfcopy.isna().sum()"
      ]
    },
    {
      "cell_type": "code",
      "execution_count": 35,
      "metadata": {},
      "outputs": [
        {
          "data": {
            "text/plain": [
              "Int64Index([   64,    65,    66,    67,    68,    69,    70,    71,    72,\n",
              "               73,\n",
              "            ...\n",
              "            72973, 72984, 72997, 73013, 73022, 73032, 73041, 73055, 73064,\n",
              "            73076],\n",
              "           dtype='int64', length=8612)"
            ]
          },
          "execution_count": 35,
          "metadata": {},
          "output_type": "execute_result"
        }
      ],
      "source": [
        "# to find the index of NAN in the dataframe\n",
        "nan_national_dfcopy_indices = national_dfcopy[national_dfcopy.isna().any(axis=1)].index\n",
        "nan_national_dfcopy_indices"
      ]
    },
    {
      "cell_type": "code",
      "execution_count": 36,
      "metadata": {},
      "outputs": [
        {
          "data": {
            "text/html": [
              "<div>\n",
              "<style scoped>\n",
              "    .dataframe tbody tr th:only-of-type {\n",
              "        vertical-align: middle;\n",
              "    }\n",
              "\n",
              "    .dataframe tbody tr th {\n",
              "        vertical-align: top;\n",
              "    }\n",
              "\n",
              "    .dataframe thead th {\n",
              "        text-align: right;\n",
              "    }\n",
              "</style>\n",
              "<table border=\"1\" class=\"dataframe\">\n",
              "  <thead>\n",
              "    <tr style=\"text-align: right;\">\n",
              "      <th></th>\n",
              "      <th>State</th>\n",
              "      <th>Year</th>\n",
              "      <th>pc_name</th>\n",
              "      <th>pc_type</th>\n",
              "      <th>Candidate</th>\n",
              "      <th>cand_sex</th>\n",
              "      <th>Party</th>\n",
              "      <th>totvotpoll</th>\n",
              "      <th>electors</th>\n",
              "    </tr>\n",
              "  </thead>\n",
              "  <tbody>\n",
              "    <tr>\n",
              "      <th>64</th>\n",
              "      <td>Andaman &amp; Nicobar Islands</td>\n",
              "      <td>2009-01-01</td>\n",
              "      <td>Andaman &amp; Nicobar Islands</td>\n",
              "      <td>NaN</td>\n",
              "      <td>Shri. T. Ali</td>\n",
              "      <td>M</td>\n",
              "      <td>IND</td>\n",
              "      <td>398</td>\n",
              "      <td>265110</td>\n",
              "    </tr>\n",
              "    <tr>\n",
              "      <th>65</th>\n",
              "      <td>Andaman &amp; Nicobar Islands</td>\n",
              "      <td>2009-01-01</td>\n",
              "      <td>Andaman &amp; Nicobar Islands</td>\n",
              "      <td>NaN</td>\n",
              "      <td>Dr. Thankachan</td>\n",
              "      <td>M</td>\n",
              "      <td>IND</td>\n",
              "      <td>683</td>\n",
              "      <td>265110</td>\n",
              "    </tr>\n",
              "    <tr>\n",
              "      <th>66</th>\n",
              "      <td>Andaman &amp; Nicobar Islands</td>\n",
              "      <td>2009-01-01</td>\n",
              "      <td>Andaman &amp; Nicobar Islands</td>\n",
              "      <td>NaN</td>\n",
              "      <td>Shri. N. K. P. Nair</td>\n",
              "      <td>M</td>\n",
              "      <td>CPI(ML)</td>\n",
              "      <td>734</td>\n",
              "      <td>265110</td>\n",
              "    </tr>\n",
              "    <tr>\n",
              "      <th>67</th>\n",
              "      <td>Andaman &amp; Nicobar Islands</td>\n",
              "      <td>2009-01-01</td>\n",
              "      <td>Andaman &amp; Nicobar Islands</td>\n",
              "      <td>NaN</td>\n",
              "      <td>Shri. M. S. Mohan</td>\n",
              "      <td>M</td>\n",
              "      <td>BSP</td>\n",
              "      <td>789</td>\n",
              "      <td>265110</td>\n",
              "    </tr>\n",
              "    <tr>\n",
              "      <th>68</th>\n",
              "      <td>Andaman &amp; Nicobar Islands</td>\n",
              "      <td>2009-01-01</td>\n",
              "      <td>Andaman &amp; Nicobar Islands</td>\n",
              "      <td>NaN</td>\n",
              "      <td>Shri. Vakiath Valappil Khalid</td>\n",
              "      <td>M</td>\n",
              "      <td>IND</td>\n",
              "      <td>1480</td>\n",
              "      <td>265110</td>\n",
              "    </tr>\n",
              "    <tr>\n",
              "      <th>...</th>\n",
              "      <td>...</td>\n",
              "      <td>...</td>\n",
              "      <td>...</td>\n",
              "      <td>...</td>\n",
              "      <td>...</td>\n",
              "      <td>...</td>\n",
              "      <td>...</td>\n",
              "      <td>...</td>\n",
              "      <td>...</td>\n",
              "    </tr>\n",
              "    <tr>\n",
              "      <th>73032</th>\n",
              "      <td>West Bengal</td>\n",
              "      <td>2014-01-01</td>\n",
              "      <td>Bardhaman Purba</td>\n",
              "      <td>SC</td>\n",
              "      <td>None Of The Above</td>\n",
              "      <td>NaN</td>\n",
              "      <td>NOTA</td>\n",
              "      <td>13951</td>\n",
              "      <td>1532244</td>\n",
              "    </tr>\n",
              "    <tr>\n",
              "      <th>73041</th>\n",
              "      <td>West Bengal</td>\n",
              "      <td>2014-01-01</td>\n",
              "      <td>Burdwan - Durgapur</td>\n",
              "      <td>GEN</td>\n",
              "      <td>None Of The Above</td>\n",
              "      <td>NaN</td>\n",
              "      <td>NOTA</td>\n",
              "      <td>16886</td>\n",
              "      <td>1583495</td>\n",
              "    </tr>\n",
              "    <tr>\n",
              "      <th>73055</th>\n",
              "      <td>West Bengal</td>\n",
              "      <td>2014-01-01</td>\n",
              "      <td>Asansol</td>\n",
              "      <td>GEN</td>\n",
              "      <td>None Of The Above</td>\n",
              "      <td>NaN</td>\n",
              "      <td>NOTA</td>\n",
              "      <td>11479</td>\n",
              "      <td>1469684</td>\n",
              "    </tr>\n",
              "    <tr>\n",
              "      <th>73064</th>\n",
              "      <td>West Bengal</td>\n",
              "      <td>2014-01-01</td>\n",
              "      <td>Bolpur</td>\n",
              "      <td>SC</td>\n",
              "      <td>None Of The Above</td>\n",
              "      <td>NaN</td>\n",
              "      <td>NOTA</td>\n",
              "      <td>17322</td>\n",
              "      <td>1538421</td>\n",
              "    </tr>\n",
              "    <tr>\n",
              "      <th>73076</th>\n",
              "      <td>West Bengal</td>\n",
              "      <td>2014-01-01</td>\n",
              "      <td>Birbhum</td>\n",
              "      <td>GEN</td>\n",
              "      <td>None Of The Above</td>\n",
              "      <td>NaN</td>\n",
              "      <td>NOTA</td>\n",
              "      <td>14557</td>\n",
              "      <td>1495089</td>\n",
              "    </tr>\n",
              "  </tbody>\n",
              "</table>\n",
              "<p>8612 rows × 9 columns</p>\n",
              "</div>"
            ],
            "text/plain": [
              "                           State       Year                    pc_name  \\\n",
              "64     Andaman & Nicobar Islands 2009-01-01  Andaman & Nicobar Islands   \n",
              "65     Andaman & Nicobar Islands 2009-01-01  Andaman & Nicobar Islands   \n",
              "66     Andaman & Nicobar Islands 2009-01-01  Andaman & Nicobar Islands   \n",
              "67     Andaman & Nicobar Islands 2009-01-01  Andaman & Nicobar Islands   \n",
              "68     Andaman & Nicobar Islands 2009-01-01  Andaman & Nicobar Islands   \n",
              "...                          ...        ...                        ...   \n",
              "73032                West Bengal 2014-01-01            Bardhaman Purba   \n",
              "73041                West Bengal 2014-01-01         Burdwan - Durgapur   \n",
              "73055                West Bengal 2014-01-01                    Asansol   \n",
              "73064                West Bengal 2014-01-01                     Bolpur   \n",
              "73076                West Bengal 2014-01-01                    Birbhum   \n",
              "\n",
              "      pc_type                      Candidate cand_sex    Party  totvotpoll  \\\n",
              "64        NaN                   Shri. T. Ali        M      IND         398   \n",
              "65        NaN                 Dr. Thankachan        M      IND         683   \n",
              "66        NaN            Shri. N. K. P. Nair        M  CPI(ML)         734   \n",
              "67        NaN              Shri. M. S. Mohan        M      BSP         789   \n",
              "68        NaN  Shri. Vakiath Valappil Khalid        M      IND        1480   \n",
              "...       ...                            ...      ...      ...         ...   \n",
              "73032      SC              None Of The Above      NaN     NOTA       13951   \n",
              "73041     GEN              None Of The Above      NaN     NOTA       16886   \n",
              "73055     GEN              None Of The Above      NaN     NOTA       11479   \n",
              "73064      SC              None Of The Above      NaN     NOTA       17322   \n",
              "73076     GEN              None Of The Above      NaN     NOTA       14557   \n",
              "\n",
              "       electors  \n",
              "64       265110  \n",
              "65       265110  \n",
              "66       265110  \n",
              "67       265110  \n",
              "68       265110  \n",
              "...         ...  \n",
              "73032   1532244  \n",
              "73041   1583495  \n",
              "73055   1469684  \n",
              "73064   1538421  \n",
              "73076   1495089  \n",
              "\n",
              "[8612 rows x 9 columns]"
            ]
          },
          "execution_count": 36,
          "metadata": {},
          "output_type": "execute_result"
        }
      ],
      "source": [
        "# to find the index of NAN in the dataframe\n",
        "# loc_president_indices = \n",
        "national_dfcopy.loc[national_dfcopy.isna().any(axis=1)]\n",
        "#print(loc_president_indices)"
      ]
    },
    {
      "attachments": {},
      "cell_type": "markdown",
      "metadata": {},
      "source": [
        "So we can see that there are various places where NaN arises. So we need to either remove it (if it is not relevant) or change it to something, which may represent it well."
      ]
    },
    {
      "cell_type": "code",
      "execution_count": 63,
      "metadata": {},
      "outputs": [
        {
          "data": {
            "text/plain": [
              "array(['GEN', nan, 'ST', 'SC', 'SC '], dtype=object)"
            ]
          },
          "execution_count": 63,
          "metadata": {},
          "output_type": "execute_result"
        }
      ],
      "source": [
        "# unique 'pc_type' are\n",
        "national_dfcopy['pc_type'].unique()"
      ]
    },
    {
      "attachments": {},
      "cell_type": "markdown",
      "metadata": {},
      "source": [
        "We see that there is one nan pc_type. Here we can say that wherever nan is written in this column, the 'parliamentary constituency reservation status' is open. It is not reserved for any particular caste. So we will replace it with Unreserved."
      ]
    },
    {
      "cell_type": "code",
      "execution_count": 64,
      "metadata": {},
      "outputs": [],
      "source": [
        "national_dfcopy[\"pc_type\"].fillna(\"Unreserved\", inplace=True)"
      ]
    },
    {
      "cell_type": "code",
      "execution_count": 65,
      "metadata": {},
      "outputs": [
        {
          "data": {
            "text/plain": [
              "array(['GEN', 'Unreserved', 'ST', 'SC', 'SC '], dtype=object)"
            ]
          },
          "execution_count": 65,
          "metadata": {},
          "output_type": "execute_result"
        }
      ],
      "source": [
        "national_dfcopy['pc_type'].unique()"
      ]
    },
    {
      "cell_type": "code",
      "execution_count": 96,
      "metadata": {},
      "outputs": [
        {
          "data": {
            "text/plain": [
              "array(['M', 'F', 'Open', 'O'], dtype=object)"
            ]
          },
          "execution_count": 96,
          "metadata": {},
          "output_type": "execute_result"
        }
      ],
      "source": [
        "national_dfcopy['cand_sex'].unique()"
      ]
    },
    {
      "cell_type": "code",
      "execution_count": 98,
      "metadata": {},
      "outputs": [
        {
          "data": {
            "text/plain": [
              "11"
            ]
          },
          "execution_count": 98,
          "metadata": {},
          "output_type": "execute_result"
        }
      ],
      "source": [
        "# Total number of elections from 1977 - 2015\n",
        "national_dfcopy['Year'].nunique()"
      ]
    },
    {
      "cell_type": "code",
      "execution_count": 99,
      "metadata": {},
      "outputs": [
        {
          "data": {
            "text/plain": [
              "array(['1977-01-01T00:00:00.000000000', '1980-01-01T00:00:00.000000000',\n",
              "       '1984-01-01T00:00:00.000000000', '1989-01-01T00:00:00.000000000',\n",
              "       '1991-01-01T00:00:00.000000000', '1996-01-01T00:00:00.000000000',\n",
              "       '1998-01-01T00:00:00.000000000', '1999-01-01T00:00:00.000000000',\n",
              "       '2004-01-01T00:00:00.000000000', '2009-01-01T00:00:00.000000000',\n",
              "       '2014-01-01T00:00:00.000000000'], dtype='datetime64[ns]')"
            ]
          },
          "execution_count": 99,
          "metadata": {},
          "output_type": "execute_result"
        }
      ],
      "source": [
        "# Unique years when elections happen during 1977 - 2015\n",
        "national_dfcopy['Year'].unique()"
      ]
    },
    {
      "cell_type": "code",
      "execution_count": 68,
      "metadata": {},
      "outputs": [
        {
          "data": {
            "text/plain": [
              "542"
            ]
          },
          "execution_count": 68,
          "metadata": {},
          "output_type": "execute_result"
        }
      ],
      "source": [
        "national_dfcopy['cand_sex'].isna().sum()"
      ]
    },
    {
      "attachments": {},
      "cell_type": "markdown",
      "metadata": {},
      "source": [
        "So we have 4 options for the reservation for the candidate sex for a particular consituncy. \n",
        "- M: Male\n",
        "- F: Female\n",
        "- O: Others\n",
        "- nan: Here we can say that these consituencies are not reserved for particular sex category.\n",
        "\n",
        "So we can change it to 'Open' for all kind of gender."
      ]
    },
    {
      "cell_type": "code",
      "execution_count": 69,
      "metadata": {},
      "outputs": [],
      "source": [
        "national_dfcopy[\"cand_sex\"].fillna(\"Open\", inplace=True)"
      ]
    },
    {
      "cell_type": "code",
      "execution_count": 70,
      "metadata": {},
      "outputs": [
        {
          "data": {
            "text/plain": [
              "0"
            ]
          },
          "execution_count": 70,
          "metadata": {},
          "output_type": "execute_result"
        }
      ],
      "source": [
        "national_dfcopy['cand_sex'].isna().sum()"
      ]
    },
    {
      "attachments": {},
      "cell_type": "markdown",
      "metadata": {},
      "source": [
        "Now let's check, if there are other columns with NAN values."
      ]
    },
    {
      "cell_type": "code",
      "execution_count": 71,
      "metadata": {},
      "outputs": [
        {
          "data": {
            "text/plain": [
              "State         0\n",
              "Year          0\n",
              "pc_name       0\n",
              "pc_type       0\n",
              "Candidate     0\n",
              "cand_sex      0\n",
              "Party         0\n",
              "totvotpoll    0\n",
              "electors      0\n",
              "dtype: int64"
            ]
          },
          "execution_count": 71,
          "metadata": {},
          "output_type": "execute_result"
        }
      ],
      "source": [
        "national_dfcopy.isna().sum()"
      ]
    },
    {
      "attachments": {},
      "cell_type": "markdown",
      "metadata": {},
      "source": [
        "So we have no NAN in any columns."
      ]
    },
    {
      "cell_type": "code",
      "execution_count": 75,
      "metadata": {},
      "outputs": [
        {
          "data": {
            "text/plain": [
              "Index(['State', 'Year', 'pc_name', 'pc_type', 'Candidate', 'cand_sex', 'Party',\n",
              "       'totvotpoll', 'electors'],\n",
              "      dtype='object')"
            ]
          },
          "execution_count": 75,
          "metadata": {},
          "output_type": "execute_result"
        }
      ],
      "source": [
        "national_dfcopy.columns"
      ]
    },
    {
      "cell_type": "code",
      "execution_count": null,
      "metadata": {},
      "outputs": [],
      "source": [
        "import jovian"
      ]
    },
    {
      "cell_type": "code",
      "execution_count": null,
      "metadata": {},
      "outputs": [],
      "source": [
        "jovian.commit()"
      ]
    },
    {
      "attachments": {},
      "cell_type": "markdown",
      "metadata": {},
      "source": [
        "## **Step-3:** Performing exploratory analysis & visualization\n",
        "\n",
        "**TODO** - Here, we ask oursself few questions aand solve it. \n",
        "First start with \n",
        "- Computing mean, sum, rannge aand other interesting statistics for numeric columns\n",
        "- Explore distributions of numeric columns using histograms etc.\n",
        "- Explore relationship between columns using scatter plots, bar charts etc.\n",
        "- Make a note of interesting insights from the exploratory analysis"
      ]
    },
    {
      "attachments": {},
      "cell_type": "markdown",
      "metadata": {},
      "source": [
        "Now let's first import few important python libraries for the exploratory analysis and visualization."
      ]
    },
    {
      "cell_type": "code",
      "execution_count": 76,
      "metadata": {},
      "outputs": [],
      "source": [
        "import seaborn as sns\n",
        "import matplotlib\n",
        "import matplotlib.pyplot as plt\n",
        "# %matplotlib inline\n",
        "\n",
        "sns.set_style('darkgrid')\n",
        "matplotlib.rcParams['font.size'] = 14\n",
        "matplotlib.rcParams['figure.figsize'] = (9, 5)\n",
        "matplotlib.rcParams['figure.facecolor'] = '#00000000'"
      ]
    },
    {
      "cell_type": "code",
      "execution_count": 78,
      "metadata": {},
      "outputs": [
        {
          "data": {
            "text/plain": [
              "Index(['State', 'Year', 'pc_name', 'pc_type', 'Candidate', 'cand_sex', 'Party',\n",
              "       'totvotpoll', 'electors'],\n",
              "      dtype='object')"
            ]
          },
          "execution_count": 78,
          "metadata": {},
          "output_type": "execute_result"
        }
      ],
      "source": [
        "national_dfcopy.columns"
      ]
    },
    {
      "attachments": {},
      "cell_type": "markdown",
      "metadata": {},
      "source": [
        "**TODO -** Explore one or more columns by plotting a graph below, and add some explanation about it"
      ]
    },
    {
      "cell_type": "code",
      "execution_count": 83,
      "metadata": {},
      "outputs": [
        {
          "data": {
            "text/plain": [
              "Text(0, 0.5, 'Counts')"
            ]
          },
          "execution_count": 83,
          "metadata": {},
          "output_type": "execute_result"
        },
        {
          "data": {
            "image/png": "[encoded data removed]",
            "text/plain": [
              "<Figure size 900x500 with 1 Axes>"
            ]
          },
          "metadata": {
            "needs_background": "light"
          },
          "output_type": "display_data"
        }
      ],
      "source": [
        "# so to see the year wise number of roller coster introduced\n",
        "ax = national_dfcopy['totvotpoll'].value_counts()\\\n",
        "    .head(20)\\\n",
        "    .plot(kind='bar', title = 'Total votes obtained')\n",
        "\n",
        "ax.set_xlabel('Total Votes')\n",
        "ax.set_ylabel('Counts')"
      ]
    },
    {
      "cell_type": "code",
      "execution_count": 87,
      "metadata": {},
      "outputs": [
        {
          "data": {
            "text/plain": [
              "Text(0, 0.5, 'Counts')"
            ]
          },
          "execution_count": 87,
          "metadata": {},
          "output_type": "execute_result"
        },
        {
          "data": {
            "image/png": "[encoded data removed]",
            "text/plain": [
              "<Figure size 900x500 with 1 Axes>"
            ]
          },
          "metadata": {
            "needs_background": "light"
          },
          "output_type": "display_data"
        }
      ],
      "source": [
        "# so to see the year wise number of roller coster introduced\n",
        "ax = national_dfcopy['electors'].value_counts()\\\n",
        "    .head(20)\\\n",
        "    .plot(kind='bar', title = 'Total electors')\n",
        "\n",
        "ax.set_xlabel('Total electors')\n",
        "ax.set_ylabel('Counts')"
      ]
    },
    {
      "attachments": {},
      "cell_type": "markdown",
      "metadata": {},
      "source": [
        "So what we see here is that, we can not say what does this plot actually plot. What we can do is \n",
        "1. How many times or years a particular candidate fight elections.\n",
        "2. How much votes a candiate obtained in his life time?\n",
        "3. Party vs totvotpoll in lifetime\n",
        "4. \n",
        "5. \n",
        "6. \n",
        "7. \n",
        "8. \n",
        "9. \n",
        "10. \n",
        "\n",
        "\n",
        "Year: 1976-2020 \n",
        "\n",
        "Each election party performance\n",
        "Each election a candidate performance\n",
        "Leading party in a election\n",
        "top performer in the election and constituency name. \n",
        "Parties performance sex wise, I mean in which party, womens/men/others have performed well.\n",
        "Largest constituency with respect to electors + yearwise changes.\n",
        "Which party \n",
        "Out of electors which party has gained largest votes? \n",
        "\n",
        "\n",
        "\n",
        "\n",
        "\n",
        "\n",
        "\n",
        "\n",
        "'Year'  'State',  'pc_name', 'pc_type', 'Candidate', 'cand_sex', 'Party',  'totvotpoll', 'electors'"
      ]
    },
    {
      "cell_type": "code",
      "execution_count": 97,
      "metadata": {},
      "outputs": [
        {
          "data": {
            "text/plain": [
              "11"
            ]
          },
          "execution_count": 97,
          "metadata": {},
          "output_type": "execute_result"
        }
      ],
      "source": [
        "# Total number of elections from 1977 - 2015\n",
        "national_dfcopy['Year'].nunique()"
      ]
    },
    {
      "cell_type": "code",
      "execution_count": null,
      "metadata": {},
      "outputs": [],
      "source": [
        "# Create a figure and an axis object\n",
        "fig, ax = plt.subplots()\n",
        "\n",
        "#"
      ]
    },
    {
      "cell_type": "code",
      "execution_count": null,
      "metadata": {},
      "outputs": [],
      "source": [
        "# Create a figure and an axis object\n",
        "fig, ax = plt.subplots()\n",
        "\n",
        "# Create a bar plot\n",
        "ax.bar(x, y1, width=0.4, align='center', label='Column 1')\n",
        "ax.bar(x, y2, width=0.4, align='edge', label='Column 2')\n",
        "\n",
        "# Customize the plot\n",
        "ax.set_ylabel('Values')\n",
        "ax.set_title('Comparison of Two Columns')\n",
        "ax.legend()\n",
        "\n",
        "# Display the plot\n",
        "plt.show()"
      ]
    },
    {
      "attachments": {},
      "cell_type": "markdown",
      "metadata": {},
      "source": [
        "**TODO** - Explore one or more columns by plotting a graph below, and add some explanation about it"
      ]
    },
    {
      "cell_type": "code",
      "execution_count": null,
      "metadata": {},
      "outputs": [],
      "source": []
    },
    {
      "cell_type": "code",
      "execution_count": null,
      "metadata": {},
      "outputs": [],
      "source": []
    },
    {
      "attachments": {},
      "cell_type": "markdown",
      "metadata": {},
      "source": [
        "**TODO** - Explore one or more columns by plotting a graph below, and add some explanation about it"
      ]
    },
    {
      "cell_type": "code",
      "execution_count": null,
      "metadata": {},
      "outputs": [],
      "source": []
    },
    {
      "cell_type": "code",
      "execution_count": null,
      "metadata": {},
      "outputs": [],
      "source": []
    },
    {
      "attachments": {},
      "cell_type": "markdown",
      "metadata": {},
      "source": [
        "**TODO** - Explore one or more columns by plotting a graph below, and add \n",
        "\n",
        "---\n",
        "\n",
        "some explanation about it"
      ]
    },
    {
      "cell_type": "code",
      "execution_count": null,
      "metadata": {},
      "outputs": [],
      "source": []
    },
    {
      "cell_type": "code",
      "execution_count": null,
      "metadata": {},
      "outputs": [],
      "source": []
    },
    {
      "attachments": {},
      "cell_type": "markdown",
      "metadata": {},
      "source": [
        "**TODO** - Explore one or more columns by plotting a graph below, and add some explanation about it"
      ]
    },
    {
      "cell_type": "code",
      "execution_count": null,
      "metadata": {},
      "outputs": [],
      "source": []
    },
    {
      "cell_type": "code",
      "execution_count": null,
      "metadata": {},
      "outputs": [],
      "source": []
    },
    {
      "cell_type": "code",
      "execution_count": null,
      "metadata": {},
      "outputs": [],
      "source": []
    },
    {
      "attachments": {},
      "cell_type": "markdown",
      "metadata": {},
      "source": [
        "Let us save and upload our work to Jovian before continuing"
      ]
    },
    {
      "cell_type": "code",
      "execution_count": null,
      "metadata": {},
      "outputs": [],
      "source": [
        "import jovian"
      ]
    },
    {
      "cell_type": "code",
      "execution_count": null,
      "metadata": {},
      "outputs": [],
      "source": [
        "jovian.commit()"
      ]
    },
    {
      "attachments": {},
      "cell_type": "markdown",
      "metadata": {},
      "source": [
        "## **Step-4:** Asking & answering questions about the data"
      ]
    },
    {
      "cell_type": "code",
      "execution_count": null,
      "metadata": {},
      "outputs": [],
      "source": []
    },
    {
      "cell_type": "code",
      "execution_count": null,
      "metadata": {},
      "outputs": [],
      "source": []
    },
    {
      "cell_type": "code",
      "execution_count": null,
      "metadata": {},
      "outputs": [],
      "source": []
    },
    {
      "cell_type": "code",
      "execution_count": null,
      "metadata": {},
      "outputs": [],
      "source": []
    },
    {
      "cell_type": "code",
      "execution_count": null,
      "metadata": {},
      "outputs": [],
      "source": []
    },
    {
      "attachments": {},
      "cell_type": "markdown",
      "metadata": {},
      "source": [
        "## **Step-5:** Summarizing the inferences & writing my conclusions\n",
        "\n",
        "TODO - write some explanation here.\n",
        "\n",
        "Important questions that can be asked are:\n",
        "1. Calculate total votes for each candidate in each state\n",
        "2. Add total state-level votes to this year dataframe\n",
        "3. "
      ]
    },
    {
      "attachments": {},
      "cell_type": "markdown",
      "metadata": {},
      "source": [
        "> Instructions (delete this cell)\n",
        ">\n",
        "> - Ask at least 5 interesting questions about your dataset\n",
        "> - Answer the questions either by computing the results using Numpy/Pandas or by plotting graphs using Matplotlib/Seaborn\n",
        "> - Create new columns, merge multiple dataset and perform grouping/aggregation wherever necessary\n",
        "> - Wherever you're using a library function from Pandas/Numpy/Matplotlib etc. explain briefly what it does\n",
        "\n"
      ]
    },
    {
      "attachments": {},
      "cell_type": "markdown",
      "metadata": {},
      "source": [
        "#### Q1: TODO - ask a question here and answer it below"
      ]
    },
    {
      "cell_type": "code",
      "execution_count": null,
      "metadata": {},
      "outputs": [],
      "source": []
    },
    {
      "cell_type": "code",
      "execution_count": null,
      "metadata": {},
      "outputs": [],
      "source": []
    },
    {
      "attachments": {},
      "cell_type": "markdown",
      "metadata": {},
      "source": [
        "#### Q2: TODO - ask a question here and answer it below"
      ]
    },
    {
      "cell_type": "code",
      "execution_count": null,
      "metadata": {},
      "outputs": [],
      "source": []
    },
    {
      "cell_type": "code",
      "execution_count": null,
      "metadata": {},
      "outputs": [],
      "source": []
    },
    {
      "attachments": {},
      "cell_type": "markdown",
      "metadata": {},
      "source": [
        "#### Q3: TODO - ask a question here and answer it below"
      ]
    },
    {
      "cell_type": "code",
      "execution_count": null,
      "metadata": {},
      "outputs": [],
      "source": []
    },
    {
      "cell_type": "code",
      "execution_count": null,
      "metadata": {},
      "outputs": [],
      "source": []
    },
    {
      "attachments": {},
      "cell_type": "markdown",
      "metadata": {},
      "source": [
        "#### Q4: TODO - ask a question here and answer it below"
      ]
    },
    {
      "cell_type": "code",
      "execution_count": null,
      "metadata": {},
      "outputs": [],
      "source": []
    },
    {
      "cell_type": "code",
      "execution_count": null,
      "metadata": {},
      "outputs": [],
      "source": []
    },
    {
      "attachments": {},
      "cell_type": "markdown",
      "metadata": {},
      "source": [
        "#### Q5: TODO - ask a question here and answer it below"
      ]
    },
    {
      "cell_type": "code",
      "execution_count": null,
      "metadata": {},
      "outputs": [],
      "source": []
    },
    {
      "cell_type": "code",
      "execution_count": null,
      "metadata": {},
      "outputs": [],
      "source": []
    },
    {
      "attachments": {},
      "cell_type": "markdown",
      "metadata": {},
      "source": [
        "## Step-6: Inferences and Conclusion\n",
        "\n",
        "**TODO** - Write some explanation here: a summary of all the inferences drawn from the analysis, and any conclusions you may have drawn by answering various questions."
      ]
    },
    {
      "cell_type": "code",
      "execution_count": null,
      "metadata": {},
      "outputs": [],
      "source": []
    },
    {
      "cell_type": "code",
      "execution_count": null,
      "metadata": {},
      "outputs": [],
      "source": []
    },
    {
      "attachments": {},
      "cell_type": "markdown",
      "metadata": {},
      "source": [
        "## **Step-7:** Submission & share of the work\n",
        "\n",
        "Let us save and upload our work to Jovian before continuing."
      ]
    },
    {
      "cell_type": "code",
      "execution_count": null,
      "metadata": {},
      "outputs": [],
      "source": [
        "import jovian"
      ]
    },
    {
      "cell_type": "code",
      "execution_count": null,
      "metadata": {},
      "outputs": [],
      "source": [
        "jovian.commit()"
      ]
    },
    {
      "attachments": {},
      "cell_type": "markdown",
      "metadata": {},
      "source": [
        "## **Step-7:** My link on Medium for the present work\n",
        "\n",
        "Submission Instructions (delete this cell)\n",
        "\n",
        "Upload your notebook to your Jovian.ml profile using jovian.commit.\n",
        "Make a submission here: https://jovian.ml/learn/data-analysis-with-python-zero-to-pandas/assignment/course-project\n",
        "Share your work on the forum: https://jovian.ml/forum/t/course-project-on-exploratory-data-analysis-discuss-and-share-your-work/11684\n",
        "Share your work on social media (Twitter, LinkedIn, Telegram etc.) and tag @JovianML\n",
        "(Optional) Write a blog post\n",
        "\n",
        "A blog post is a great way to present and showcase your work.\n",
        "Sign up on Medium.com to write a blog post for your project.\n",
        "Copy over the explanations from your Jupyter notebook into your blog post, and embed code cells & outputs\n",
        "Check out the Jovian.ml Medium publication for inspiration: https://medium.com/jovianml"
      ]
    },
    {
      "cell_type": "markdown",
      "metadata": {},
      "source": []
    },
    {
      "attachments": {},
      "cell_type": "markdown",
      "metadata": {},
      "source": []
    },
    {
      "cell_type": "code",
      "execution_count": null,
      "metadata": {},
      "outputs": [],
      "source": []
    },
    {
      "cell_type": "code",
      "execution_count": null,
      "metadata": {},
      "outputs": [],
      "source": []
    },
    {
      "cell_type": "code",
      "execution_count": null,
      "metadata": {
        "id": "eAuXiH9ol6BY"
      },
      "outputs": [],
      "source": []
    },
    {
      "attachments": {},
      "cell_type": "markdown",
      "metadata": {},
      "source": [
        "## References and Future Work\n",
        "\n",
        "**TODO** - Write some explanation here: ideas for future projects using this dataset, and links to resources you found useful."
      ]
    }
  ],
  "metadata": {
    "colab": {
      "provenance": []
    },
    "kernelspec": {
      "display_name": "Python 3",
      "language": "python",
      "name": "python3"
    },
    "language_info": {
      "codemirror_mode": {
        "name": "ipython",
        "version": 3
      },
      "file_extension": ".py",
      "mimetype": "text/x-python",
      "name": "python",
      "nbconvert_exporter": "python",
      "pygments_lexer": "ipython3",
      "version": "3.11.0"
    },
    "vscode": {
      "interpreter": {
        "hash": "1a1af0ee75eeea9e2e1ee996c87e7a2b11a0bebd85af04bb136d915cefc0abce"
      }
    }
  },
  "nbformat": 4,
  "nbformat_minor": 0
}
