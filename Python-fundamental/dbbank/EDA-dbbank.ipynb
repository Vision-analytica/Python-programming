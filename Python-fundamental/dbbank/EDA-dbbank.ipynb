{
 "cells": [
  {
   "attachments": {},
   "cell_type": "markdown",
   "metadata": {},
   "source": [
    "# Exploretory data analysis on risk factors involved in investment by Deutch Bank"
   ]
  },
  {
   "attachments": {},
   "cell_type": "markdown",
   "metadata": {},
   "source": [
    "## Background\n",
    "Deutsche Bank is a multinational investment bank and financial services company. It offers a range of investment products to its clients, including stocks, bonds, and derivatives. The bank is concerned about the risk of investment in various products and wants to use data analysis to identify and manage potential risks."
   ]
  },
  {
   "attachments": {},
   "cell_type": "markdown",
   "metadata": {},
   "source": [
    "## Objective\n",
    "\n",
    "To perform data analysis on the investment products offered by Deutsche Bank and identify potential risks associated with each product.\n",
    "\n",
    "Technical chart for the reliance industries: \n",
    "\n",
    "1. MACD\n",
    "2. Momentum (MOM)\n",
    "3. Stochastic (STO)\n",
    "4. CCI"
   ]
  },
  {
   "attachments": {},
   "cell_type": "markdown",
   "metadata": {},
   "source": [
    "## Deutsch Bank share\n",
    "With this dataset, we could perform a wide range of analyses and visualizations to understand how the stock price of Deutsche Bank has changed over time, and to identify trends or patterns in the data. \n",
    "\n",
    "For example, we could:\n",
    "\n",
    "- Create a line chart showing the daily closing price of the stock over time.\n",
    "- Calculate the daily percentage change in the stock price, and create a histogram or density plot to visualize the distribution of these changes.\n",
    "- Use technical analysis tools to identify patterns or trends in the stock price, such as moving averages or support/resistance levels.\n",
    "- Perform a regression analysis to model the relationship between the stock price and other variables, such as market indices or macroeconomic indicators.\n",
    "- Use machine learning algorithms to predict future stock prices based on historical data.\n",
    "\n",
    "So, I will start with few basic things with these datas over time and compare them with each other.\n",
    "\n",
    "1. **Basic data exploration:** You can use pandas to perform basic exploration of the data, such as checking the dimensions of the DataFrame, looking at summary statistics, or checking for missing values\n",
    "    - summary statistics: `.describe()`\n",
    "    - dimensions of the DataFrame: `.shape()`\n",
    "    - check for missing values: `.isnull().sum())`\n",
    "2. Visualize the data using matplotlib and seaborn\n",
    "\n",
    "3. Calculate returns\n",
    "\n",
    "4. Analyze relationships between variables\n",
    "\n",
    "5. Rolling statistics"
   ]
  },
  {
   "attachments": {},
   "cell_type": "markdown",
   "metadata": {},
   "source": [
    "### About data\n",
    "\n",
    "To begin the analysis, the bank collects data on its investment products over the past 10 years. The data includes information on the product type, issuer, maturity date, credit rating, and other relevant factors that could impact risk.\n",
    "\n",
    "**Table summary:**\n",
    "\n",
    "| Sr. No. | Date | Open | High | Low | Close | Adj Close | Volume |\n",
    "|---------|------|------|------|-----|-------|-----------|--------|\n",
    "| ||||||||\n",
    "\n",
    "Here individual columns are\n",
    "\n",
    "| Column name | Description |\n",
    "|-------------|-------------|\n",
    "| Date | The date of the stock price, in a standardized format (e.g. YYYY-MM-DD). |\n",
    "| Open | The opening price of the stock on that day. | \n",
    "| High |  The highest price of the stock on that day. |\n",
    "| Low | The lowest price of the stock on that day. |\n",
    "| Close | The closing price of the stock on that day. |\n",
    "| Adj Close | The adjusted closing price of the stock on that day. This takes into account any corporate actions (such as stock splits or dividends) that may have affected the stock price. |\n",
    "| Volume | The volume of shares traded on that day. |"
   ]
  },
  {
   "attachments": {},
   "cell_type": "markdown",
   "metadata": {},
   "source": [
    "### Data Download & preparation for analysis"
   ]
  },
  {
   "cell_type": "code",
   "execution_count": null,
   "metadata": {},
   "outputs": [],
   "source": [
    "%pip install yfinance --upgrade --quiet"
   ]
  },
  {
   "cell_type": "code",
   "execution_count": null,
   "metadata": {},
   "outputs": [],
   "source": [
    "# Change this\n",
    "dataset_url = 'https://investor-relations.db.com/share/share-information/historical-share-prices'"
   ]
  },
  {
   "cell_type": "code",
   "execution_count": null,
   "metadata": {},
   "outputs": [],
   "source": [
    "import opendatasets as od\n",
    "od.download(dataset_url)"
   ]
  },
  {
   "cell_type": "code",
   "execution_count": null,
   "metadata": {},
   "outputs": [],
   "source": [
    "# Change this\n",
    "data_dir = 'dbdata'"
   ]
  },
  {
   "cell_type": "code",
   "execution_count": null,
   "metadata": {},
   "outputs": [],
   "source": [
    "# Now listing the downloaded files \n",
    "import os\n",
    "os.listdir(data_dir)"
   ]
  },
  {
   "cell_type": "code",
   "execution_count": null,
   "metadata": {},
   "outputs": [],
   "source": [
    "project_name = \"Deutch-bank-share\" # change this (use lowercase letters and hyphens only)"
   ]
  },
  {
   "attachments": {},
   "cell_type": "markdown",
   "metadata": {},
   "source": [
    "### Importing important libraries\n",
    "\n",
    "1. **Numpy:** NumPy is a Python library for scientific computing that provides support for arrays, matrices, and mathematical functions. It is one of the most widely used libraries in the scientific Python ecosystem, and is a fundamental building block for many other Python libraries. NumPy provides the ndarray (n-dimensional array) data structure, which is a collection of elements of the same type, indexed by a tuple of non-negative integers. NumPy also provides a large number of mathematical functions for manipulating arrays, such as mathematical operations (addition, subtraction, multiplication, division, etc.), statistical operations (mean, variance, standard deviation, etc.), and linear algebra operations (matrix multiplication, eigenvalues, etc.).\n",
    "\n",
    "2. **Pandas:** Pandas is an open-source Python library that is widely used for data manipulation and analysis. One of the most popular features of Pandas is the DataFrame. It is a two-dimensional table-like data structure that allows you to store and manipulate data in a way that is similar to a spreadsheet. A DataFrame consists of rows and columns, where each row represents a unique observation or record, and each column represents a variable or feature of that observation. You can think of a DataFrame as a spreadsheet, where each row is a record, and each column is a field.\n",
    "\n",
    "3. **Matplotlib:** Matplotlib is a Python library for data visualization that provides a wide range of tools for creating different types of charts and plots. It is one of the most widely used visualization libraries in the scientific Python ecosystem. Matplotlib provides a variety of functions and classes for creating visualizations, such as scatter plots, line charts, bar charts, histograms, and more. These visualizations can be customized in many ways, including changing the colors, labels, axes, and annotations.\n",
    "\n",
    "4. **Seaborn:** Seaborn is a Python data visualization library built on top of Matplotlib that provides a high-level interface for creating informative and attractive statistical graphics. It provides a range of functions for visualizing data, including categorical data, relational data, and distributional data. Seaborn includes several built-in datasets that can be loaded directly into a DataFrame, making it easy to get started with visualization. The library also provides a variety of options for customizing charts and plots, such as color palettes, themes, and styles.\n",
    "\n",
    "\n",
    "In this tutorial, we will learn how to create and manipulate DataFrames using and plot using matplotlib/seaborn python libraries."
   ]
  },
  {
   "cell_type": "code",
   "execution_count": 1,
   "metadata": {},
   "outputs": [],
   "source": [
    "import pandas as pd\n",
    "import numpy as np\n",
    "import matplotlib.pylab as plt\n",
    "import seaborn as sns\n",
    "# plt.style.use('ggplot')"
   ]
  },
  {
   "cell_type": "code",
   "execution_count": 116,
   "metadata": {},
   "outputs": [
    {
     "name": "stdout",
     "output_type": "stream",
     "text": [
      "\n",
      "\u001b[1m[\u001b[0m\u001b[34;49mnotice\u001b[0m\u001b[1;39;49m]\u001b[0m\u001b[39;49m A new release of pip is available: \u001b[0m\u001b[31;49m23.0\u001b[0m\u001b[39;49m -> \u001b[0m\u001b[32;49m23.0.1\u001b[0m\n",
      "\u001b[1m[\u001b[0m\u001b[34;49mnotice\u001b[0m\u001b[1;39;49m]\u001b[0m\u001b[39;49m To update, run: \u001b[0m\u001b[32;49mpython3.11 -m pip install --upgrade pip\u001b[0m\n",
      "Note: you may need to restart the kernel to use updated packages.\n"
     ]
    }
   ],
   "source": [
    "# for reading xlr datafile\n",
    "%pip install xlrd --upgrade --quiet"
   ]
  },
  {
   "cell_type": "code",
   "execution_count": 117,
   "metadata": {},
   "outputs": [
    {
     "name": "stdout",
     "output_type": "stream",
     "text": [
      "\n",
      "\u001b[1m[\u001b[0m\u001b[34;49mnotice\u001b[0m\u001b[1;39;49m]\u001b[0m\u001b[39;49m A new release of pip is available: \u001b[0m\u001b[31;49m23.0\u001b[0m\u001b[39;49m -> \u001b[0m\u001b[32;49m23.0.1\u001b[0m\n",
      "\u001b[1m[\u001b[0m\u001b[34;49mnotice\u001b[0m\u001b[1;39;49m]\u001b[0m\u001b[39;49m To update, run: \u001b[0m\u001b[32;49mpython3.11 -m pip install --upgrade pip\u001b[0m\n",
      "Note: you may need to restart the kernel to use updated packages.\n"
     ]
    }
   ],
   "source": [
    "%pip install --upgrade pandas-datareader --upgrade --quiet"
   ]
  },
  {
   "cell_type": "code",
   "execution_count": 2,
   "metadata": {},
   "outputs": [],
   "source": [
    "from pandas_datareader import data, wb\n",
    "import pandas_datareader as pdr\n",
    "import datetime"
   ]
  },
  {
   "attachments": {},
   "cell_type": "markdown",
   "metadata": {},
   "source": [
    "#### Creating a DataFrame"
   ]
  },
  {
   "cell_type": "code",
   "execution_count": 3,
   "metadata": {},
   "outputs": [],
   "source": [
    "# Imorting files\n",
    "dbbank_df1 = pd.read_csv('deutschebank_share_prices.csv')"
   ]
  },
  {
   "cell_type": "code",
   "execution_count": 4,
   "metadata": {},
   "outputs": [
    {
     "data": {
      "text/html": [
       "<div>\n",
       "<style scoped>\n",
       "    .dataframe tbody tr th:only-of-type {\n",
       "        vertical-align: middle;\n",
       "    }\n",
       "\n",
       "    .dataframe tbody tr th {\n",
       "        vertical-align: top;\n",
       "    }\n",
       "\n",
       "    .dataframe thead th {\n",
       "        text-align: right;\n",
       "    }\n",
       "</style>\n",
       "<table border=\"1\" class=\"dataframe\">\n",
       "  <thead>\n",
       "    <tr style=\"text-align: right;\">\n",
       "      <th></th>\n",
       "      <th>Unnamed: 0</th>\n",
       "      <th>Unnamed: 1</th>\n",
       "      <th>Unnamed: 2</th>\n",
       "      <th>Unnamed: 3</th>\n",
       "      <th>Unnamed: 4</th>\n",
       "      <th>Unnamed: 5</th>\n",
       "    </tr>\n",
       "  </thead>\n",
       "  <tbody>\n",
       "    <tr>\n",
       "      <th>0</th>\n",
       "      <td>NaN</td>\n",
       "      <td>NaN</td>\n",
       "      <td>NaN</td>\n",
       "      <td>NaN</td>\n",
       "      <td>NaN</td>\n",
       "      <td>NaN</td>\n",
       "    </tr>\n",
       "    <tr>\n",
       "      <th>1</th>\n",
       "      <td>NaN</td>\n",
       "      <td>NaN</td>\n",
       "      <td>NaN</td>\n",
       "      <td>NaN</td>\n",
       "      <td>NaN</td>\n",
       "      <td>NaN</td>\n",
       "    </tr>\n",
       "    <tr>\n",
       "      <th>2</th>\n",
       "      <td>Deutsche Bank share prices</td>\n",
       "      <td>NaN</td>\n",
       "      <td>NaN</td>\n",
       "      <td>NaN</td>\n",
       "      <td>NaN</td>\n",
       "      <td>NaN</td>\n",
       "    </tr>\n",
       "    <tr>\n",
       "      <th>3</th>\n",
       "      <td>Frankfurt (EUR)</td>\n",
       "      <td>NaN</td>\n",
       "      <td>NaN</td>\n",
       "      <td>NaN</td>\n",
       "      <td>NaN</td>\n",
       "      <td>NaN</td>\n",
       "    </tr>\n",
       "    <tr>\n",
       "      <th>4</th>\n",
       "      <td>NaN</td>\n",
       "      <td>NaN</td>\n",
       "      <td>NaN</td>\n",
       "      <td>NaN</td>\n",
       "      <td>NaN</td>\n",
       "      <td>NaN</td>\n",
       "    </tr>\n",
       "    <tr>\n",
       "      <th>5</th>\n",
       "      <td>Date</td>\n",
       "      <td>Open</td>\n",
       "      <td>High</td>\n",
       "      <td>Low</td>\n",
       "      <td>Close</td>\n",
       "      <td>Volume (shares)</td>\n",
       "    </tr>\n",
       "    <tr>\n",
       "      <th>6</th>\n",
       "      <td>11/28/1997</td>\n",
       "      <td>43.93</td>\n",
       "      <td>44.04</td>\n",
       "      <td>43.71</td>\n",
       "      <td>43.79</td>\n",
       "      <td>3,196,812</td>\n",
       "    </tr>\n",
       "    <tr>\n",
       "      <th>7</th>\n",
       "      <td>12/01/1997</td>\n",
       "      <td>44.53</td>\n",
       "      <td>44.82</td>\n",
       "      <td>44.41</td>\n",
       "      <td>44.49</td>\n",
       "      <td>4,185,032</td>\n",
       "    </tr>\n",
       "    <tr>\n",
       "      <th>8</th>\n",
       "      <td>12/02/1997</td>\n",
       "      <td>45.01</td>\n",
       "      <td>45.05</td>\n",
       "      <td>44.45</td>\n",
       "      <td>44.53</td>\n",
       "      <td>3,881,885</td>\n",
       "    </tr>\n",
       "    <tr>\n",
       "      <th>9</th>\n",
       "      <td>12/03/1997</td>\n",
       "      <td>43.89</td>\n",
       "      <td>44.33</td>\n",
       "      <td>43.66</td>\n",
       "      <td>44.33</td>\n",
       "      <td>4,823,253</td>\n",
       "    </tr>\n",
       "  </tbody>\n",
       "</table>\n",
       "</div>"
      ],
      "text/plain": [
       "                   Unnamed: 0 Unnamed: 1 Unnamed: 2 Unnamed: 3 Unnamed: 4  \\\n",
       "0                         NaN        NaN        NaN        NaN        NaN   \n",
       "1                         NaN        NaN        NaN        NaN        NaN   \n",
       "2  Deutsche Bank share prices        NaN        NaN        NaN        NaN   \n",
       "3             Frankfurt (EUR)        NaN        NaN        NaN        NaN   \n",
       "4                         NaN        NaN        NaN        NaN        NaN   \n",
       "5                        Date       Open       High        Low      Close   \n",
       "6                  11/28/1997      43.93      44.04      43.71      43.79   \n",
       "7                  12/01/1997      44.53      44.82      44.41      44.49   \n",
       "8                  12/02/1997      45.01      45.05      44.45      44.53   \n",
       "9                  12/03/1997      43.89      44.33      43.66      44.33   \n",
       "\n",
       "        Unnamed: 5  \n",
       "0              NaN  \n",
       "1              NaN  \n",
       "2              NaN  \n",
       "3              NaN  \n",
       "4              NaN  \n",
       "5  Volume (shares)  \n",
       "6        3,196,812  \n",
       "7        4,185,032  \n",
       "8        3,881,885  \n",
       "9        4,823,253  "
      ]
     },
     "execution_count": 4,
     "metadata": {},
     "output_type": "execute_result"
    }
   ],
   "source": [
    "dbbank_df1.head(10)"
   ]
  },
  {
   "attachments": {},
   "cell_type": "markdown",
   "metadata": {},
   "source": [
    "#### New approach \n",
    "\n",
    "So we are seeing that rows 0-4 are not required. So we need to drop them. Instead of using above data read file, we will use following:"
   ]
  },
  {
   "cell_type": "code",
   "execution_count": 5,
   "metadata": {},
   "outputs": [],
   "source": [
    "# Read the CSV file and skip the fourth and fifth rows\n",
    "dbbank_df = pd.read_csv('deutschebank_share_prices.csv', header=4, skiprows=[5])\n",
    "\n",
    "# Set the values in the fifth row as the column names\n",
    "dbbank_df.columns = dbbank_df.iloc[0]\n",
    "dbbank_df = dbbank_df[1:]\n"
   ]
  },
  {
   "attachments": {},
   "cell_type": "markdown",
   "metadata": {},
   "source": [
    "It may also possible to import data with date as a index directly by using following code.\n",
    "\n",
    "`dbbank_df = pd.read_csv('deutschebank_share_prices.csv', header=4, skiprows=[5], index_col=5, parse_dates=True)`"
   ]
  },
  {
   "cell_type": "code",
   "execution_count": 6,
   "metadata": {},
   "outputs": [
    {
     "data": {
      "text/html": [
       "<div>\n",
       "<style scoped>\n",
       "    .dataframe tbody tr th:only-of-type {\n",
       "        vertical-align: middle;\n",
       "    }\n",
       "\n",
       "    .dataframe tbody tr th {\n",
       "        vertical-align: top;\n",
       "    }\n",
       "\n",
       "    .dataframe thead th {\n",
       "        text-align: right;\n",
       "    }\n",
       "</style>\n",
       "<table border=\"1\" class=\"dataframe\">\n",
       "  <thead>\n",
       "    <tr style=\"text-align: right;\">\n",
       "      <th></th>\n",
       "      <th>Date</th>\n",
       "      <th>Open</th>\n",
       "      <th>High</th>\n",
       "      <th>Low</th>\n",
       "      <th>Close</th>\n",
       "      <th>Volume (shares)</th>\n",
       "    </tr>\n",
       "  </thead>\n",
       "  <tbody>\n",
       "    <tr>\n",
       "      <th>1</th>\n",
       "      <td>11/28/1997</td>\n",
       "      <td>43.93</td>\n",
       "      <td>44.04</td>\n",
       "      <td>43.71</td>\n",
       "      <td>43.79</td>\n",
       "      <td>3,196,812</td>\n",
       "    </tr>\n",
       "    <tr>\n",
       "      <th>2</th>\n",
       "      <td>12/01/1997</td>\n",
       "      <td>44.53</td>\n",
       "      <td>44.82</td>\n",
       "      <td>44.41</td>\n",
       "      <td>44.49</td>\n",
       "      <td>4,185,032</td>\n",
       "    </tr>\n",
       "    <tr>\n",
       "      <th>3</th>\n",
       "      <td>12/02/1997</td>\n",
       "      <td>45.01</td>\n",
       "      <td>45.05</td>\n",
       "      <td>44.45</td>\n",
       "      <td>44.53</td>\n",
       "      <td>3,881,885</td>\n",
       "    </tr>\n",
       "    <tr>\n",
       "      <th>4</th>\n",
       "      <td>12/03/1997</td>\n",
       "      <td>43.89</td>\n",
       "      <td>44.33</td>\n",
       "      <td>43.66</td>\n",
       "      <td>44.33</td>\n",
       "      <td>4,823,253</td>\n",
       "    </tr>\n",
       "    <tr>\n",
       "      <th>5</th>\n",
       "      <td>12/04/1997</td>\n",
       "      <td>44.47</td>\n",
       "      <td>44.95</td>\n",
       "      <td>44.10</td>\n",
       "      <td>44.66</td>\n",
       "      <td>4,539,136</td>\n",
       "    </tr>\n",
       "  </tbody>\n",
       "</table>\n",
       "</div>"
      ],
      "text/plain": [
       "0        Date   Open   High    Low  Close Volume (shares)\n",
       "1  11/28/1997  43.93  44.04  43.71  43.79       3,196,812\n",
       "2  12/01/1997  44.53  44.82  44.41  44.49       4,185,032\n",
       "3  12/02/1997  45.01  45.05  44.45  44.53       3,881,885\n",
       "4  12/03/1997  43.89  44.33  43.66  44.33       4,823,253\n",
       "5  12/04/1997  44.47  44.95  44.10  44.66       4,539,136"
      ]
     },
     "execution_count": 6,
     "metadata": {},
     "output_type": "execute_result"
    }
   ],
   "source": [
    "# Display the resulting DataFrame\n",
    "dbbank_df.head()"
   ]
  },
  {
   "cell_type": "code",
   "execution_count": 7,
   "metadata": {},
   "outputs": [
    {
     "data": {
      "text/plain": [
       "Index(['Date', 'Open', 'High', 'Low', 'Close', 'Volume (shares)'], dtype='object', name=0)"
      ]
     },
     "execution_count": 7,
     "metadata": {},
     "output_type": "execute_result"
    }
   ],
   "source": [
    "# displaying the column names\n",
    "dbbank_df.columns"
   ]
  },
  {
   "attachments": {},
   "cell_type": "markdown",
   "metadata": {},
   "source": [
    "We need to rename the Volumn column."
   ]
  },
  {
   "cell_type": "code",
   "execution_count": 8,
   "metadata": {},
   "outputs": [
    {
     "data": {
      "text/html": [
       "<div>\n",
       "<style scoped>\n",
       "    .dataframe tbody tr th:only-of-type {\n",
       "        vertical-align: middle;\n",
       "    }\n",
       "\n",
       "    .dataframe tbody tr th {\n",
       "        vertical-align: top;\n",
       "    }\n",
       "\n",
       "    .dataframe thead th {\n",
       "        text-align: right;\n",
       "    }\n",
       "</style>\n",
       "<table border=\"1\" class=\"dataframe\">\n",
       "  <thead>\n",
       "    <tr style=\"text-align: right;\">\n",
       "      <th></th>\n",
       "      <th>Date</th>\n",
       "      <th>Open</th>\n",
       "      <th>High</th>\n",
       "      <th>Low</th>\n",
       "      <th>Close</th>\n",
       "      <th>Volume</th>\n",
       "    </tr>\n",
       "  </thead>\n",
       "  <tbody>\n",
       "    <tr>\n",
       "      <th>1</th>\n",
       "      <td>11/28/1997</td>\n",
       "      <td>43.93</td>\n",
       "      <td>44.04</td>\n",
       "      <td>43.71</td>\n",
       "      <td>43.79</td>\n",
       "      <td>3,196,812</td>\n",
       "    </tr>\n",
       "    <tr>\n",
       "      <th>2</th>\n",
       "      <td>12/01/1997</td>\n",
       "      <td>44.53</td>\n",
       "      <td>44.82</td>\n",
       "      <td>44.41</td>\n",
       "      <td>44.49</td>\n",
       "      <td>4,185,032</td>\n",
       "    </tr>\n",
       "    <tr>\n",
       "      <th>3</th>\n",
       "      <td>12/02/1997</td>\n",
       "      <td>45.01</td>\n",
       "      <td>45.05</td>\n",
       "      <td>44.45</td>\n",
       "      <td>44.53</td>\n",
       "      <td>3,881,885</td>\n",
       "    </tr>\n",
       "    <tr>\n",
       "      <th>4</th>\n",
       "      <td>12/03/1997</td>\n",
       "      <td>43.89</td>\n",
       "      <td>44.33</td>\n",
       "      <td>43.66</td>\n",
       "      <td>44.33</td>\n",
       "      <td>4,823,253</td>\n",
       "    </tr>\n",
       "    <tr>\n",
       "      <th>5</th>\n",
       "      <td>12/04/1997</td>\n",
       "      <td>44.47</td>\n",
       "      <td>44.95</td>\n",
       "      <td>44.10</td>\n",
       "      <td>44.66</td>\n",
       "      <td>4,539,136</td>\n",
       "    </tr>\n",
       "    <tr>\n",
       "      <th>...</th>\n",
       "      <td>...</td>\n",
       "      <td>...</td>\n",
       "      <td>...</td>\n",
       "      <td>...</td>\n",
       "      <td>...</td>\n",
       "      <td>...</td>\n",
       "    </tr>\n",
       "    <tr>\n",
       "      <th>6393</th>\n",
       "      <td>02/13/2023</td>\n",
       "      <td>11.32</td>\n",
       "      <td>11.42</td>\n",
       "      <td>11.30</td>\n",
       "      <td>11.41</td>\n",
       "      <td>30,606</td>\n",
       "    </tr>\n",
       "    <tr>\n",
       "      <th>6394</th>\n",
       "      <td>02/14/2023</td>\n",
       "      <td>11.38</td>\n",
       "      <td>11.60</td>\n",
       "      <td>11.38</td>\n",
       "      <td>11.58</td>\n",
       "      <td>26,132</td>\n",
       "    </tr>\n",
       "    <tr>\n",
       "      <th>6395</th>\n",
       "      <td>02/15/2023</td>\n",
       "      <td>11.56</td>\n",
       "      <td>11.56</td>\n",
       "      <td>11.40</td>\n",
       "      <td>11.42</td>\n",
       "      <td>9,519</td>\n",
       "    </tr>\n",
       "    <tr>\n",
       "      <th>6396</th>\n",
       "      <td>02/16/2023</td>\n",
       "      <td>11.49</td>\n",
       "      <td>11.85</td>\n",
       "      <td>11.49</td>\n",
       "      <td>11.77</td>\n",
       "      <td>38,652</td>\n",
       "    </tr>\n",
       "    <tr>\n",
       "      <th>6397</th>\n",
       "      <td>02/17/2023</td>\n",
       "      <td>11.80</td>\n",
       "      <td>12.06</td>\n",
       "      <td>11.77</td>\n",
       "      <td>11.81</td>\n",
       "      <td>90,125</td>\n",
       "    </tr>\n",
       "  </tbody>\n",
       "</table>\n",
       "<p>6397 rows × 6 columns</p>\n",
       "</div>"
      ],
      "text/plain": [
       "0           Date   Open   High    Low  Close     Volume\n",
       "1     11/28/1997  43.93  44.04  43.71  43.79  3,196,812\n",
       "2     12/01/1997  44.53  44.82  44.41  44.49  4,185,032\n",
       "3     12/02/1997  45.01  45.05  44.45  44.53  3,881,885\n",
       "4     12/03/1997  43.89  44.33  43.66  44.33  4,823,253\n",
       "5     12/04/1997  44.47  44.95  44.10  44.66  4,539,136\n",
       "...          ...    ...    ...    ...    ...        ...\n",
       "6393  02/13/2023  11.32  11.42  11.30  11.41     30,606\n",
       "6394  02/14/2023  11.38  11.60  11.38  11.58     26,132\n",
       "6395  02/15/2023  11.56  11.56  11.40  11.42      9,519\n",
       "6396  02/16/2023  11.49  11.85  11.49  11.77     38,652\n",
       "6397  02/17/2023  11.80  12.06  11.77  11.81     90,125\n",
       "\n",
       "[6397 rows x 6 columns]"
      ]
     },
     "execution_count": 8,
     "metadata": {},
     "output_type": "execute_result"
    }
   ],
   "source": [
    "# Rename the 'Volume(Share)' column to 'Volume'\n",
    "dbbank_df = dbbank_df.rename(columns={'Volume (shares)': 'Volume'})\n",
    "dbbank_df"
   ]
  },
  {
   "attachments": {},
   "cell_type": "markdown",
   "metadata": {},
   "source": [
    "Now we want to change Date as index."
   ]
  },
  {
   "cell_type": "code",
   "execution_count": 9,
   "metadata": {},
   "outputs": [],
   "source": [
    "# Convert the 'Date' column to datetime format\n",
    "dbbank_df['Date'] = pd.to_datetime(dbbank_df['Date'])\n",
    "\n",
    "# Set the 'Date' column as the index column\n",
    "dbbank_df = dbbank_df.set_index('Date')"
   ]
  },
  {
   "cell_type": "code",
   "execution_count": null,
   "metadata": {},
   "outputs": [],
   "source": [
    "# # Set the \"Date\" column as the index of the DataFrame\n",
    "#dbbank_df.set_index(dbbank_df['Date'], inplace=True)"
   ]
  },
  {
   "cell_type": "code",
   "execution_count": 10,
   "metadata": {},
   "outputs": [
    {
     "data": {
      "text/html": [
       "<div>\n",
       "<style scoped>\n",
       "    .dataframe tbody tr th:only-of-type {\n",
       "        vertical-align: middle;\n",
       "    }\n",
       "\n",
       "    .dataframe tbody tr th {\n",
       "        vertical-align: top;\n",
       "    }\n",
       "\n",
       "    .dataframe thead th {\n",
       "        text-align: right;\n",
       "    }\n",
       "</style>\n",
       "<table border=\"1\" class=\"dataframe\">\n",
       "  <thead>\n",
       "    <tr style=\"text-align: right;\">\n",
       "      <th></th>\n",
       "      <th>Open</th>\n",
       "      <th>High</th>\n",
       "      <th>Low</th>\n",
       "      <th>Close</th>\n",
       "      <th>Volume</th>\n",
       "    </tr>\n",
       "    <tr>\n",
       "      <th>Date</th>\n",
       "      <th></th>\n",
       "      <th></th>\n",
       "      <th></th>\n",
       "      <th></th>\n",
       "      <th></th>\n",
       "    </tr>\n",
       "  </thead>\n",
       "  <tbody>\n",
       "    <tr>\n",
       "      <th>1997-11-28</th>\n",
       "      <td>43.93</td>\n",
       "      <td>44.04</td>\n",
       "      <td>43.71</td>\n",
       "      <td>43.79</td>\n",
       "      <td>3,196,812</td>\n",
       "    </tr>\n",
       "    <tr>\n",
       "      <th>1997-12-01</th>\n",
       "      <td>44.53</td>\n",
       "      <td>44.82</td>\n",
       "      <td>44.41</td>\n",
       "      <td>44.49</td>\n",
       "      <td>4,185,032</td>\n",
       "    </tr>\n",
       "    <tr>\n",
       "      <th>1997-12-02</th>\n",
       "      <td>45.01</td>\n",
       "      <td>45.05</td>\n",
       "      <td>44.45</td>\n",
       "      <td>44.53</td>\n",
       "      <td>3,881,885</td>\n",
       "    </tr>\n",
       "    <tr>\n",
       "      <th>1997-12-03</th>\n",
       "      <td>43.89</td>\n",
       "      <td>44.33</td>\n",
       "      <td>43.66</td>\n",
       "      <td>44.33</td>\n",
       "      <td>4,823,253</td>\n",
       "    </tr>\n",
       "    <tr>\n",
       "      <th>1997-12-04</th>\n",
       "      <td>44.47</td>\n",
       "      <td>44.95</td>\n",
       "      <td>44.10</td>\n",
       "      <td>44.66</td>\n",
       "      <td>4,539,136</td>\n",
       "    </tr>\n",
       "  </tbody>\n",
       "</table>\n",
       "</div>"
      ],
      "text/plain": [
       "0            Open   High    Low  Close     Volume\n",
       "Date                                             \n",
       "1997-11-28  43.93  44.04  43.71  43.79  3,196,812\n",
       "1997-12-01  44.53  44.82  44.41  44.49  4,185,032\n",
       "1997-12-02  45.01  45.05  44.45  44.53  3,881,885\n",
       "1997-12-03  43.89  44.33  43.66  44.33  4,823,253\n",
       "1997-12-04  44.47  44.95  44.10  44.66  4,539,136"
      ]
     },
     "execution_count": 10,
     "metadata": {},
     "output_type": "execute_result"
    }
   ],
   "source": [
    "dbbank_df.head()"
   ]
  },
  {
   "cell_type": "code",
   "execution_count": 13,
   "metadata": {},
   "outputs": [
    {
     "data": {
      "text/plain": [
       "DatetimeIndex(['1997-11-28', '1997-12-01', '1997-12-02', '1997-12-03',\n",
       "               '1997-12-04', '1997-12-05', '1997-12-08', '1997-12-09',\n",
       "               '1997-12-10', '1997-12-11',\n",
       "               ...\n",
       "               '2023-02-06', '2023-02-07', '2023-02-08', '2023-02-09',\n",
       "               '2023-02-10', '2023-02-13', '2023-02-14', '2023-02-15',\n",
       "               '2023-02-16', '2023-02-17'],\n",
       "              dtype='datetime64[ns]', name='Date', length=6397, freq=None)"
      ]
     },
     "execution_count": 13,
     "metadata": {},
     "output_type": "execute_result"
    }
   ],
   "source": [
    "# Now checking the index\n",
    "dbbank_df.index"
   ]
  },
  {
   "cell_type": "code",
   "execution_count": 14,
   "metadata": {},
   "outputs": [
    {
     "data": {
      "text/plain": [
       "0\n",
       "Open      0\n",
       "High      0\n",
       "Low       0\n",
       "Close     0\n",
       "Volume    0\n",
       "dtype: int64"
      ]
     },
     "execution_count": 14,
     "metadata": {},
     "output_type": "execute_result"
    }
   ],
   "source": [
    "# checking missing values i.e. NaN valuess\n",
    "dbbank_df.isnull().sum()"
   ]
  },
  {
   "attachments": {},
   "cell_type": "markdown",
   "metadata": {},
   "source": [
    "so good thing is we don't have any missing values in the dataframe of dbabnk."
   ]
  },
  {
   "cell_type": "code",
   "execution_count": 16,
   "metadata": {},
   "outputs": [
    {
     "data": {
      "text/plain": [
       "Index(['Open', 'High', 'Low', 'Close', 'Volume'], dtype='object', name=0)"
      ]
     },
     "execution_count": 16,
     "metadata": {},
     "output_type": "execute_result"
    }
   ],
   "source": [
    "# column names in the dataframe\n",
    "dbbank_df.columns"
   ]
  },
  {
   "cell_type": "code",
   "execution_count": 17,
   "metadata": {},
   "outputs": [
    {
     "data": {
      "text/plain": [
       "0\n",
       "Open      object\n",
       "High      object\n",
       "Low       object\n",
       "Close     object\n",
       "Volume    object\n",
       "dtype: object"
      ]
     },
     "execution_count": 17,
     "metadata": {},
     "output_type": "execute_result"
    }
   ],
   "source": [
    "# datatype of each column\n",
    "dbbank_df.dtypes"
   ]
  },
  {
   "attachments": {},
   "cell_type": "markdown",
   "metadata": {},
   "source": [
    "so we find that datee is object type and all other columns are of object type so we need to convert them to appropriate data type. "
   ]
  },
  {
   "cell_type": "code",
   "execution_count": 19,
   "metadata": {},
   "outputs": [],
   "source": [
    "# converting datatype of 'Open' column to float\n",
    "dbbank_df['Open'] = dbbank_df['Open'].astype(float)"
   ]
  },
  {
   "cell_type": "code",
   "execution_count": 20,
   "metadata": {},
   "outputs": [],
   "source": [
    "# converting datatype of 'Close' column to float\n",
    "dbbank_df['Close'] = dbbank_df['Close'].astype(float)"
   ]
  },
  {
   "cell_type": "code",
   "execution_count": 21,
   "metadata": {},
   "outputs": [],
   "source": [
    "# converting datatype of 'High' column to float\n",
    "dbbank_df['High'] = dbbank_df['High'].astype(float)"
   ]
  },
  {
   "cell_type": "code",
   "execution_count": 22,
   "metadata": {},
   "outputs": [],
   "source": [
    "# converting datatype of 'Low' column to float\n",
    "dbbank_df['Low'] = dbbank_df['Low'].astype(float)"
   ]
  },
  {
   "cell_type": "code",
   "execution_count": 23,
   "metadata": {},
   "outputs": [],
   "source": [
    "# Since, numbers in Volumn column contains, comma. We need to remove\n",
    "# Replace commas with empty strings\n",
    "dbbank_df['Volume'] = dbbank_df['Volume'].str.replace(',', '')\n",
    "\n",
    "# Convert to float\n",
    "dbbank_df['Volume'] = dbbank_df['Volume'].astype(int)"
   ]
  },
  {
   "cell_type": "code",
   "execution_count": 24,
   "metadata": {},
   "outputs": [
    {
     "data": {
      "text/plain": [
       "0\n",
       "Open      float64\n",
       "High      float64\n",
       "Low       float64\n",
       "Close     float64\n",
       "Volume      int64\n",
       "dtype: object"
      ]
     },
     "execution_count": 24,
     "metadata": {},
     "output_type": "execute_result"
    }
   ],
   "source": [
    "dbbank_df.dtypes"
   ]
  },
  {
   "cell_type": "code",
   "execution_count": 29,
   "metadata": {},
   "outputs": [
    {
     "data": {
      "text/plain": [
       "Date\n",
       "1997-11-28    False\n",
       "1997-12-01    False\n",
       "1997-12-02    False\n",
       "1997-12-03    False\n",
       "1997-12-04    False\n",
       "              ...  \n",
       "2023-02-13    False\n",
       "2023-02-14    False\n",
       "2023-02-15    False\n",
       "2023-02-16    False\n",
       "2023-02-17    False\n",
       "Length: 6397, dtype: bool"
      ]
     },
     "execution_count": 29,
     "metadata": {},
     "output_type": "execute_result"
    }
   ],
   "source": [
    "# now we need to find duplicate entries.\n",
    "dbbank_df.duplicated()"
   ]
  },
  {
   "attachments": {},
   "cell_type": "markdown",
   "metadata": {},
   "source": [
    "So we don't have any duplicate values."
   ]
  },
  {
   "cell_type": "code",
   "execution_count": 66,
   "metadata": {},
   "outputs": [
    {
     "data": {
      "text/plain": [
       "(6397, 5)"
      ]
     },
     "execution_count": 66,
     "metadata": {},
     "output_type": "execute_result"
    }
   ],
   "source": [
    "# shape of the dataframe\n",
    "dbbank_df.shape"
   ]
  },
  {
   "attachments": {},
   "cell_type": "markdown",
   "metadata": {},
   "source": [
    "### Data Analysis\n",
    "To analyze the investment products, the bank uses Python libraries such as `numpy`, `scipy`, and `pandas` to perform statistical analysis on the data.\n",
    "\n",
    "1. First, the bank performs a descriptive analysis of the data to understand the distribution of investment products across various categories. This includes analyzing the frequency of each product type, issuer, and credit rating.\n",
    "\n",
    "2. Next, the bank uses machine learning techniques such as clustering and classification to identify patterns and potential risks in the data. For example, the bank may use a clustering algorithm to group similar investment products together based on their characteristics, such as credit rating and maturity date. The bank can then analyze the risk profile of each cluster and take appropriate measures to manage the risks.\n",
    "\n",
    "3. The bank may also use classification algorithms to predict the likelihood of default or other risks associated with a particular investment product. This can help the bank make informed decisions about which products to invest in and which to avoid.\n",
    "\n",
    "4. Finally, the bank visualizes the data using Python libraries such as `matplotlib` and `seaborn` to communicate the findings to stakeholders. This includes creating charts and graphs that show the distribution of investment products across various categories, as well as the risk profile of each product.\n",
    "\n",
    "In our present analysis, we will mostly focus on some of the basic type of data anlysis discuss in the 'Data Collection and preparation' section."
   ]
  },
  {
   "attachments": {},
   "cell_type": "markdown",
   "metadata": {},
   "source": [
    "#### 1. Basic data exploration\n",
    "We can use pandas to perform basic exploration of the data, such as checking the dimensions of the DataFrame, looking at summary statistics, or checking for missing values\n",
    "- summary statistics: `.describe()`\n",
    "- dimensions of the DataFrame: `.shape()`"
   ]
  },
  {
   "attachments": {},
   "cell_type": "markdown",
   "metadata": {},
   "source": [
    "##### 1.1. Basic statistics\n",
    "\n",
    "- Mean, count, stdandard deviation, min, max, etc."
   ]
  },
  {
   "cell_type": "code",
   "execution_count": 25,
   "metadata": {},
   "outputs": [
    {
     "data": {
      "text/html": [
       "<div>\n",
       "<style scoped>\n",
       "    .dataframe tbody tr th:only-of-type {\n",
       "        vertical-align: middle;\n",
       "    }\n",
       "\n",
       "    .dataframe tbody tr th {\n",
       "        vertical-align: top;\n",
       "    }\n",
       "\n",
       "    .dataframe thead th {\n",
       "        text-align: right;\n",
       "    }\n",
       "</style>\n",
       "<table border=\"1\" class=\"dataframe\">\n",
       "  <thead>\n",
       "    <tr style=\"text-align: right;\">\n",
       "      <th></th>\n",
       "      <th>Open</th>\n",
       "      <th>High</th>\n",
       "      <th>Low</th>\n",
       "      <th>Close</th>\n",
       "      <th>Volume</th>\n",
       "    </tr>\n",
       "  </thead>\n",
       "  <tbody>\n",
       "    <tr>\n",
       "      <th>count</th>\n",
       "      <td>6397.000000</td>\n",
       "      <td>6397.000000</td>\n",
       "      <td>6397.000000</td>\n",
       "      <td>6397.000000</td>\n",
       "      <td>6.397000e+03</td>\n",
       "    </tr>\n",
       "    <tr>\n",
       "      <th>mean</th>\n",
       "      <td>35.622334</td>\n",
       "      <td>36.083036</td>\n",
       "      <td>35.102922</td>\n",
       "      <td>35.595854</td>\n",
       "      <td>1.602169e+06</td>\n",
       "    </tr>\n",
       "    <tr>\n",
       "      <th>std</th>\n",
       "      <td>21.470437</td>\n",
       "      <td>21.672907</td>\n",
       "      <td>21.257051</td>\n",
       "      <td>21.478197</td>\n",
       "      <td>3.463012e+06</td>\n",
       "    </tr>\n",
       "    <tr>\n",
       "      <th>min</th>\n",
       "      <td>4.900000</td>\n",
       "      <td>5.070000</td>\n",
       "      <td>4.470000</td>\n",
       "      <td>4.950000</td>\n",
       "      <td>0.000000e+00</td>\n",
       "    </tr>\n",
       "    <tr>\n",
       "      <th>25%</th>\n",
       "      <td>15.340000</td>\n",
       "      <td>15.560000</td>\n",
       "      <td>15.030000</td>\n",
       "      <td>15.320000</td>\n",
       "      <td>3.095080e+05</td>\n",
       "    </tr>\n",
       "    <tr>\n",
       "      <th>50%</th>\n",
       "      <td>33.500000</td>\n",
       "      <td>34.000000</td>\n",
       "      <td>32.910000</td>\n",
       "      <td>33.550000</td>\n",
       "      <td>6.178570e+05</td>\n",
       "    </tr>\n",
       "    <tr>\n",
       "      <th>75%</th>\n",
       "      <td>51.580000</td>\n",
       "      <td>52.040000</td>\n",
       "      <td>50.960000</td>\n",
       "      <td>51.580000</td>\n",
       "      <td>1.510626e+06</td>\n",
       "    </tr>\n",
       "    <tr>\n",
       "      <th>max</th>\n",
       "      <td>91.620000</td>\n",
       "      <td>92.050000</td>\n",
       "      <td>90.340000</td>\n",
       "      <td>91.470000</td>\n",
       "      <td>9.305332e+07</td>\n",
       "    </tr>\n",
       "  </tbody>\n",
       "</table>\n",
       "</div>"
      ],
      "text/plain": [
       "0             Open         High          Low        Close        Volume\n",
       "count  6397.000000  6397.000000  6397.000000  6397.000000  6.397000e+03\n",
       "mean     35.622334    36.083036    35.102922    35.595854  1.602169e+06\n",
       "std      21.470437    21.672907    21.257051    21.478197  3.463012e+06\n",
       "min       4.900000     5.070000     4.470000     4.950000  0.000000e+00\n",
       "25%      15.340000    15.560000    15.030000    15.320000  3.095080e+05\n",
       "50%      33.500000    34.000000    32.910000    33.550000  6.178570e+05\n",
       "75%      51.580000    52.040000    50.960000    51.580000  1.510626e+06\n",
       "max      91.620000    92.050000    90.340000    91.470000  9.305332e+07"
      ]
     },
     "execution_count": 25,
     "metadata": {},
     "output_type": "execute_result"
    }
   ],
   "source": [
    "# now checking basic statistics of the dataframe\n",
    "dbbank_df.describe()"
   ]
  },
  {
   "cell_type": "code",
   "execution_count": 27,
   "metadata": {},
   "outputs": [
    {
     "data": {
      "text/plain": [
       "0\n",
       "Open            91.62\n",
       "High            92.05\n",
       "Low             90.34\n",
       "Close           91.47\n",
       "Volume    93053318.00\n",
       "dtype: float64"
      ]
     },
     "execution_count": 27,
     "metadata": {},
     "output_type": "execute_result"
    }
   ],
   "source": [
    "# finding maximum in each column\n",
    "dbbank_df.max()"
   ]
  },
  {
   "cell_type": "code",
   "execution_count": 28,
   "metadata": {},
   "outputs": [
    {
     "data": {
      "text/plain": [
       "0\n",
       "Open      4.90\n",
       "High      5.07\n",
       "Low       4.47\n",
       "Close     4.95\n",
       "Volume    0.00\n",
       "dtype: float64"
      ]
     },
     "execution_count": 28,
     "metadata": {},
     "output_type": "execute_result"
    }
   ],
   "source": [
    "# finding minimum in each column\n",
    "dbbank_df.min()"
   ]
  },
  {
   "attachments": {},
   "cell_type": "markdown",
   "metadata": {},
   "source": [
    "Locating particular data (rows of data):"
   ]
  },
  {
   "attachments": {},
   "cell_type": "markdown",
   "metadata": {},
   "source": [
    "##### 1.2. Locating a data"
   ]
  },
  {
   "cell_type": "code",
   "execution_count": 67,
   "metadata": {},
   "outputs": [
    {
     "data": {
      "text/html": [
       "<div>\n",
       "<style scoped>\n",
       "    .dataframe tbody tr th:only-of-type {\n",
       "        vertical-align: middle;\n",
       "    }\n",
       "\n",
       "    .dataframe tbody tr th {\n",
       "        vertical-align: top;\n",
       "    }\n",
       "\n",
       "    .dataframe thead th {\n",
       "        text-align: right;\n",
       "    }\n",
       "</style>\n",
       "<table border=\"1\" class=\"dataframe\">\n",
       "  <thead>\n",
       "    <tr style=\"text-align: right;\">\n",
       "      <th></th>\n",
       "      <th>Open</th>\n",
       "      <th>High</th>\n",
       "      <th>Low</th>\n",
       "      <th>Close</th>\n",
       "      <th>Volume</th>\n",
       "    </tr>\n",
       "    <tr>\n",
       "      <th>Date</th>\n",
       "      <th></th>\n",
       "      <th></th>\n",
       "      <th></th>\n",
       "      <th></th>\n",
       "      <th></th>\n",
       "    </tr>\n",
       "  </thead>\n",
       "  <tbody>\n",
       "    <tr>\n",
       "      <th>1997-11-28</th>\n",
       "      <td>43.93</td>\n",
       "      <td>44.04</td>\n",
       "      <td>43.71</td>\n",
       "      <td>43.79</td>\n",
       "      <td>3196812</td>\n",
       "    </tr>\n",
       "    <tr>\n",
       "      <th>1997-12-01</th>\n",
       "      <td>44.53</td>\n",
       "      <td>44.82</td>\n",
       "      <td>44.41</td>\n",
       "      <td>44.49</td>\n",
       "      <td>4185032</td>\n",
       "    </tr>\n",
       "    <tr>\n",
       "      <th>1997-12-02</th>\n",
       "      <td>45.01</td>\n",
       "      <td>45.05</td>\n",
       "      <td>44.45</td>\n",
       "      <td>44.53</td>\n",
       "      <td>3881885</td>\n",
       "    </tr>\n",
       "    <tr>\n",
       "      <th>1997-12-03</th>\n",
       "      <td>43.89</td>\n",
       "      <td>44.33</td>\n",
       "      <td>43.66</td>\n",
       "      <td>44.33</td>\n",
       "      <td>4823253</td>\n",
       "    </tr>\n",
       "    <tr>\n",
       "      <th>1997-12-04</th>\n",
       "      <td>44.47</td>\n",
       "      <td>44.95</td>\n",
       "      <td>44.10</td>\n",
       "      <td>44.66</td>\n",
       "      <td>4539136</td>\n",
       "    </tr>\n",
       "  </tbody>\n",
       "</table>\n",
       "</div>"
      ],
      "text/plain": [
       "0            Open   High    Low  Close   Volume\n",
       "Date                                           \n",
       "1997-11-28  43.93  44.04  43.71  43.79  3196812\n",
       "1997-12-01  44.53  44.82  44.41  44.49  4185032\n",
       "1997-12-02  45.01  45.05  44.45  44.53  3881885\n",
       "1997-12-03  43.89  44.33  43.66  44.33  4823253\n",
       "1997-12-04  44.47  44.95  44.10  44.66  4539136"
      ]
     },
     "execution_count": 67,
     "metadata": {},
     "output_type": "execute_result"
    }
   ],
   "source": [
    "dbbank_df.head()"
   ]
  },
  {
   "cell_type": "code",
   "execution_count": 39,
   "metadata": {},
   "outputs": [
    {
     "data": {
      "text/plain": [
       "0\n",
       "Open           43.93\n",
       "High           44.04\n",
       "Low            43.71\n",
       "Close          43.79\n",
       "Volume    3196812.00\n",
       "Name: 1997-11-28 00:00:00, dtype: float64"
      ]
     },
     "execution_count": 39,
     "metadata": {},
     "output_type": "execute_result"
    }
   ],
   "source": [
    "# Finding one row\n",
    "dbbank_df.loc['1997-11-28']"
   ]
  },
  {
   "cell_type": "code",
   "execution_count": 35,
   "metadata": {},
   "outputs": [
    {
     "data": {
      "text/html": [
       "<div>\n",
       "<style scoped>\n",
       "    .dataframe tbody tr th:only-of-type {\n",
       "        vertical-align: middle;\n",
       "    }\n",
       "\n",
       "    .dataframe tbody tr th {\n",
       "        vertical-align: top;\n",
       "    }\n",
       "\n",
       "    .dataframe thead th {\n",
       "        text-align: right;\n",
       "    }\n",
       "</style>\n",
       "<table border=\"1\" class=\"dataframe\">\n",
       "  <thead>\n",
       "    <tr style=\"text-align: right;\">\n",
       "      <th></th>\n",
       "      <th>Open</th>\n",
       "      <th>High</th>\n",
       "      <th>Low</th>\n",
       "      <th>Close</th>\n",
       "      <th>Volume</th>\n",
       "    </tr>\n",
       "    <tr>\n",
       "      <th>Date</th>\n",
       "      <th></th>\n",
       "      <th></th>\n",
       "      <th></th>\n",
       "      <th></th>\n",
       "      <th></th>\n",
       "    </tr>\n",
       "  </thead>\n",
       "  <tbody>\n",
       "    <tr>\n",
       "      <th>2023-01-02</th>\n",
       "      <td>10.58</td>\n",
       "      <td>10.99</td>\n",
       "      <td>10.54</td>\n",
       "      <td>10.96</td>\n",
       "      <td>349073</td>\n",
       "    </tr>\n",
       "    <tr>\n",
       "      <th>2023-01-03</th>\n",
       "      <td>10.93</td>\n",
       "      <td>11.13</td>\n",
       "      <td>10.89</td>\n",
       "      <td>10.98</td>\n",
       "      <td>22177</td>\n",
       "    </tr>\n",
       "    <tr>\n",
       "      <th>2023-01-04</th>\n",
       "      <td>11.12</td>\n",
       "      <td>11.80</td>\n",
       "      <td>11.09</td>\n",
       "      <td>11.72</td>\n",
       "      <td>104454</td>\n",
       "    </tr>\n",
       "    <tr>\n",
       "      <th>2023-01-05</th>\n",
       "      <td>11.70</td>\n",
       "      <td>11.71</td>\n",
       "      <td>11.44</td>\n",
       "      <td>11.50</td>\n",
       "      <td>104245</td>\n",
       "    </tr>\n",
       "    <tr>\n",
       "      <th>2023-01-06</th>\n",
       "      <td>11.59</td>\n",
       "      <td>11.68</td>\n",
       "      <td>11.37</td>\n",
       "      <td>11.64</td>\n",
       "      <td>47759</td>\n",
       "    </tr>\n",
       "  </tbody>\n",
       "</table>\n",
       "</div>"
      ],
      "text/plain": [
       "0            Open   High    Low  Close  Volume\n",
       "Date                                          \n",
       "2023-01-02  10.58  10.99  10.54  10.96  349073\n",
       "2023-01-03  10.93  11.13  10.89  10.98   22177\n",
       "2023-01-04  11.12  11.80  11.09  11.72  104454\n",
       "2023-01-05  11.70  11.71  11.44  11.50  104245\n",
       "2023-01-06  11.59  11.68  11.37  11.64   47759"
      ]
     },
     "execution_count": 35,
     "metadata": {},
     "output_type": "execute_result"
    }
   ],
   "source": [
    "# Finding rows of data of 2023\n",
    "dbbank_df.loc['2023-01-01':].head()"
   ]
  },
  {
   "cell_type": "code",
   "execution_count": 37,
   "metadata": {},
   "outputs": [
    {
     "data": {
      "text/html": [
       "<div>\n",
       "<style scoped>\n",
       "    .dataframe tbody tr th:only-of-type {\n",
       "        vertical-align: middle;\n",
       "    }\n",
       "\n",
       "    .dataframe tbody tr th {\n",
       "        vertical-align: top;\n",
       "    }\n",
       "\n",
       "    .dataframe thead th {\n",
       "        text-align: right;\n",
       "    }\n",
       "</style>\n",
       "<table border=\"1\" class=\"dataframe\">\n",
       "  <thead>\n",
       "    <tr style=\"text-align: right;\">\n",
       "      <th></th>\n",
       "      <th>Open</th>\n",
       "      <th>High</th>\n",
       "      <th>Low</th>\n",
       "      <th>Close</th>\n",
       "      <th>Volume</th>\n",
       "    </tr>\n",
       "    <tr>\n",
       "      <th>Date</th>\n",
       "      <th></th>\n",
       "      <th></th>\n",
       "      <th></th>\n",
       "      <th></th>\n",
       "      <th></th>\n",
       "    </tr>\n",
       "  </thead>\n",
       "  <tbody>\n",
       "    <tr>\n",
       "      <th>2023-01-02</th>\n",
       "      <td>10.58</td>\n",
       "      <td>10.99</td>\n",
       "      <td>10.54</td>\n",
       "      <td>10.96</td>\n",
       "      <td>349073</td>\n",
       "    </tr>\n",
       "    <tr>\n",
       "      <th>2023-01-03</th>\n",
       "      <td>10.93</td>\n",
       "      <td>11.13</td>\n",
       "      <td>10.89</td>\n",
       "      <td>10.98</td>\n",
       "      <td>22177</td>\n",
       "    </tr>\n",
       "    <tr>\n",
       "      <th>2023-01-04</th>\n",
       "      <td>11.12</td>\n",
       "      <td>11.80</td>\n",
       "      <td>11.09</td>\n",
       "      <td>11.72</td>\n",
       "      <td>104454</td>\n",
       "    </tr>\n",
       "    <tr>\n",
       "      <th>2023-01-05</th>\n",
       "      <td>11.70</td>\n",
       "      <td>11.71</td>\n",
       "      <td>11.44</td>\n",
       "      <td>11.50</td>\n",
       "      <td>104245</td>\n",
       "    </tr>\n",
       "    <tr>\n",
       "      <th>2023-01-06</th>\n",
       "      <td>11.59</td>\n",
       "      <td>11.68</td>\n",
       "      <td>11.37</td>\n",
       "      <td>11.64</td>\n",
       "      <td>47759</td>\n",
       "    </tr>\n",
       "  </tbody>\n",
       "</table>\n",
       "</div>"
      ],
      "text/plain": [
       "0            Open   High    Low  Close  Volume\n",
       "Date                                          \n",
       "2023-01-02  10.58  10.99  10.54  10.96  349073\n",
       "2023-01-03  10.93  11.13  10.89  10.98   22177\n",
       "2023-01-04  11.12  11.80  11.09  11.72  104454\n",
       "2023-01-05  11.70  11.71  11.44  11.50  104245\n",
       "2023-01-06  11.59  11.68  11.37  11.64   47759"
      ]
     },
     "execution_count": 37,
     "metadata": {},
     "output_type": "execute_result"
    }
   ],
   "source": [
    "# Finding rows of data of two months\n",
    "dbbank_df.loc['2023-01-01':'2023-03-01'].head()"
   ]
  },
  {
   "attachments": {},
   "cell_type": "markdown",
   "metadata": {},
   "source": [
    "The `iloc()` function in python is one of the functions defined in the Pandas module that helps us to select a specific row or column from the data set. Using the `iloc()` function in python, we can easily retrieve any particular value from a row or column using index values."
   ]
  },
  {
   "cell_type": "code",
   "execution_count": 38,
   "metadata": {},
   "outputs": [
    {
     "data": {
      "text/plain": [
       "0\n",
       "Open           43.93\n",
       "High           44.04\n",
       "Low            43.71\n",
       "Close          43.79\n",
       "Volume    3196812.00\n",
       "Name: 1997-11-28 00:00:00, dtype: float64"
      ]
     },
     "execution_count": 38,
     "metadata": {},
     "output_type": "execute_result"
    }
   ],
   "source": [
    "dbbank_df.iloc[0]"
   ]
  },
  {
   "attachments": {},
   "cell_type": "markdown",
   "metadata": {},
   "source": [
    "So this is equivalent to `dbbank_df.loc['1997-11-28']`. So `iloc[0]` gives the first entry of the dataframe. This method is specially important, when we only have information on index."
   ]
  },
  {
   "cell_type": "code",
   "execution_count": 40,
   "metadata": {},
   "outputs": [
    {
     "data": {
      "text/plain": [
       "0\n",
       "Open         11.80\n",
       "High         12.06\n",
       "Low          11.77\n",
       "Close        11.81\n",
       "Volume    90125.00\n",
       "Name: 2023-02-17 00:00:00, dtype: float64"
      ]
     },
     "execution_count": 40,
     "metadata": {},
     "output_type": "execute_result"
    }
   ],
   "source": [
    "# finding last entry\n",
    "dbbank_df.iloc[-1]"
   ]
  },
  {
   "cell_type": "code",
   "execution_count": 41,
   "metadata": {},
   "outputs": [
    {
     "data": {
      "text/html": [
       "<div>\n",
       "<style scoped>\n",
       "    .dataframe tbody tr th:only-of-type {\n",
       "        vertical-align: middle;\n",
       "    }\n",
       "\n",
       "    .dataframe tbody tr th {\n",
       "        vertical-align: top;\n",
       "    }\n",
       "\n",
       "    .dataframe thead th {\n",
       "        text-align: right;\n",
       "    }\n",
       "</style>\n",
       "<table border=\"1\" class=\"dataframe\">\n",
       "  <thead>\n",
       "    <tr style=\"text-align: right;\">\n",
       "      <th></th>\n",
       "      <th>Open</th>\n",
       "      <th>High</th>\n",
       "      <th>Low</th>\n",
       "      <th>Close</th>\n",
       "      <th>Volume</th>\n",
       "    </tr>\n",
       "    <tr>\n",
       "      <th>Date</th>\n",
       "      <th></th>\n",
       "      <th></th>\n",
       "      <th></th>\n",
       "      <th></th>\n",
       "      <th></th>\n",
       "    </tr>\n",
       "  </thead>\n",
       "  <tbody>\n",
       "    <tr>\n",
       "      <th>2023-02-13</th>\n",
       "      <td>11.32</td>\n",
       "      <td>11.42</td>\n",
       "      <td>11.30</td>\n",
       "      <td>11.41</td>\n",
       "      <td>30606</td>\n",
       "    </tr>\n",
       "    <tr>\n",
       "      <th>2023-02-14</th>\n",
       "      <td>11.38</td>\n",
       "      <td>11.60</td>\n",
       "      <td>11.38</td>\n",
       "      <td>11.58</td>\n",
       "      <td>26132</td>\n",
       "    </tr>\n",
       "    <tr>\n",
       "      <th>2023-02-15</th>\n",
       "      <td>11.56</td>\n",
       "      <td>11.56</td>\n",
       "      <td>11.40</td>\n",
       "      <td>11.42</td>\n",
       "      <td>9519</td>\n",
       "    </tr>\n",
       "    <tr>\n",
       "      <th>2023-02-16</th>\n",
       "      <td>11.49</td>\n",
       "      <td>11.85</td>\n",
       "      <td>11.49</td>\n",
       "      <td>11.77</td>\n",
       "      <td>38652</td>\n",
       "    </tr>\n",
       "    <tr>\n",
       "      <th>2023-02-17</th>\n",
       "      <td>11.80</td>\n",
       "      <td>12.06</td>\n",
       "      <td>11.77</td>\n",
       "      <td>11.81</td>\n",
       "      <td>90125</td>\n",
       "    </tr>\n",
       "  </tbody>\n",
       "</table>\n",
       "</div>"
      ],
      "text/plain": [
       "0            Open   High    Low  Close  Volume\n",
       "Date                                          \n",
       "2023-02-13  11.32  11.42  11.30  11.41   30606\n",
       "2023-02-14  11.38  11.60  11.38  11.58   26132\n",
       "2023-02-15  11.56  11.56  11.40  11.42    9519\n",
       "2023-02-16  11.49  11.85  11.49  11.77   38652\n",
       "2023-02-17  11.80  12.06  11.77  11.81   90125"
      ]
     },
     "execution_count": 41,
     "metadata": {},
     "output_type": "execute_result"
    }
   ],
   "source": [
    "dbbank_df.tail()"
   ]
  },
  {
   "cell_type": "code",
   "execution_count": 50,
   "metadata": {},
   "outputs": [
    {
     "data": {
      "text/plain": [
       "Date\n",
       "1997-11-28    43.79\n",
       "1997-12-01    44.49\n",
       "1997-12-02    44.53\n",
       "1997-12-03    44.33\n",
       "1997-12-04    44.66\n",
       "              ...  \n",
       "2023-02-13    11.41\n",
       "2023-02-14    11.58\n",
       "2023-02-15    11.42\n",
       "2023-02-16    11.77\n",
       "2023-02-17    11.81\n",
       "Name: Close, Length: 6397, dtype: float64"
      ]
     },
     "execution_count": 50,
     "metadata": {},
     "output_type": "execute_result"
    }
   ],
   "source": [
    "dbbank_df.Close"
   ]
  },
  {
   "cell_type": "code",
   "execution_count": 51,
   "metadata": {},
   "outputs": [
    {
     "data": {
      "text/plain": [
       "pandas.core.series.Series"
      ]
     },
     "execution_count": 51,
     "metadata": {},
     "output_type": "execute_result"
    }
   ],
   "source": [
    "type(dbbank_df.Close)"
   ]
  },
  {
   "attachments": {},
   "cell_type": "markdown",
   "metadata": {},
   "source": [
    "##### 1.3. Daily changes & normalization"
   ]
  },
  {
   "cell_type": "code",
   "execution_count": 53,
   "metadata": {},
   "outputs": [
    {
     "data": {
      "text/plain": [
       "Date\n",
       "1997-11-28    0.14\n",
       "1997-12-01    0.04\n",
       "1997-12-02    0.48\n",
       "1997-12-03   -0.44\n",
       "1997-12-04   -0.19\n",
       "              ... \n",
       "2023-02-13   -0.09\n",
       "2023-02-14   -0.20\n",
       "2023-02-15    0.14\n",
       "2023-02-16   -0.28\n",
       "2023-02-17   -0.01\n",
       "Length: 6397, dtype: float64"
      ]
     },
     "execution_count": 53,
     "metadata": {},
     "output_type": "execute_result"
    }
   ],
   "source": [
    "# daily change\n",
    "daily_dbchange =  dbbank_df['Open']-dbbank_df['Close']\n",
    "daily_dbchange"
   ]
  },
  {
   "cell_type": "code",
   "execution_count": 54,
   "metadata": {},
   "outputs": [
    {
     "data": {
      "text/plain": [
       "pandas.core.series.Series"
      ]
     },
     "execution_count": 54,
     "metadata": {},
     "output_type": "execute_result"
    }
   ],
   "source": [
    "type(daily_dbchange)"
   ]
  },
  {
   "cell_type": "code",
   "execution_count": 57,
   "metadata": {},
   "outputs": [
    {
     "data": {
      "text/plain": [
       "Date\n",
       "1997-11-28   -0.318689\n",
       "1997-12-01   -0.089827\n",
       "1997-12-02   -1.066430\n",
       "1997-12-03    1.002506\n",
       "1997-12-04    0.427254\n",
       "                ...   \n",
       "2023-02-13    0.795053\n",
       "2023-02-14    1.757469\n",
       "2023-02-15   -1.211073\n",
       "2023-02-16    2.436902\n",
       "2023-02-17    0.084746\n",
       "Length: 6397, dtype: float64"
      ]
     },
     "execution_count": 57,
     "metadata": {},
     "output_type": "execute_result"
    }
   ],
   "source": [
    "dailyperc_dbchange = ((dbbank_df['Close']-dbbank_df['Open']) / dbbank_df['Open'])*100\n",
    "dailyperc_dbchange"
   ]
  },
  {
   "attachments": {},
   "cell_type": "markdown",
   "metadata": {},
   "source": [
    "**Normalizing data:**"
   ]
  },
  {
   "cell_type": "code",
   "execution_count": 58,
   "metadata": {},
   "outputs": [
    {
     "data": {
      "text/plain": [
       "43.79"
      ]
     },
     "execution_count": 58,
     "metadata": {},
     "output_type": "execute_result"
    }
   ],
   "source": [
    "dbbank_df['Close'].iloc[0]"
   ]
  },
  {
   "cell_type": "code",
   "execution_count": 59,
   "metadata": {},
   "outputs": [
    {
     "data": {
      "text/plain": [
       "11.81"
      ]
     },
     "execution_count": 59,
     "metadata": {},
     "output_type": "execute_result"
    }
   ],
   "source": [
    "dbbank_df['Close'].iloc[-1]"
   ]
  },
  {
   "cell_type": "code",
   "execution_count": 62,
   "metadata": {},
   "outputs": [
    {
     "data": {
      "text/html": [
       "<div>\n",
       "<style scoped>\n",
       "    .dataframe tbody tr th:only-of-type {\n",
       "        vertical-align: middle;\n",
       "    }\n",
       "\n",
       "    .dataframe tbody tr th {\n",
       "        vertical-align: top;\n",
       "    }\n",
       "\n",
       "    .dataframe thead th {\n",
       "        text-align: right;\n",
       "    }\n",
       "</style>\n",
       "<table border=\"1\" class=\"dataframe\">\n",
       "  <thead>\n",
       "    <tr style=\"text-align: right;\">\n",
       "      <th></th>\n",
       "      <th>Open</th>\n",
       "      <th>High</th>\n",
       "      <th>Low</th>\n",
       "      <th>Close</th>\n",
       "      <th>Volume</th>\n",
       "    </tr>\n",
       "    <tr>\n",
       "      <th>Date</th>\n",
       "      <th></th>\n",
       "      <th></th>\n",
       "      <th></th>\n",
       "      <th></th>\n",
       "      <th></th>\n",
       "    </tr>\n",
       "  </thead>\n",
       "  <tbody>\n",
       "    <tr>\n",
       "      <th>2023-02-13</th>\n",
       "      <td>11.32</td>\n",
       "      <td>11.42</td>\n",
       "      <td>11.30</td>\n",
       "      <td>11.41</td>\n",
       "      <td>30606</td>\n",
       "    </tr>\n",
       "    <tr>\n",
       "      <th>2023-02-14</th>\n",
       "      <td>11.38</td>\n",
       "      <td>11.60</td>\n",
       "      <td>11.38</td>\n",
       "      <td>11.58</td>\n",
       "      <td>26132</td>\n",
       "    </tr>\n",
       "    <tr>\n",
       "      <th>2023-02-15</th>\n",
       "      <td>11.56</td>\n",
       "      <td>11.56</td>\n",
       "      <td>11.40</td>\n",
       "      <td>11.42</td>\n",
       "      <td>9519</td>\n",
       "    </tr>\n",
       "    <tr>\n",
       "      <th>2023-02-16</th>\n",
       "      <td>11.49</td>\n",
       "      <td>11.85</td>\n",
       "      <td>11.49</td>\n",
       "      <td>11.77</td>\n",
       "      <td>38652</td>\n",
       "    </tr>\n",
       "    <tr>\n",
       "      <th>2023-02-17</th>\n",
       "      <td>11.80</td>\n",
       "      <td>12.06</td>\n",
       "      <td>11.77</td>\n",
       "      <td>11.81</td>\n",
       "      <td>90125</td>\n",
       "    </tr>\n",
       "  </tbody>\n",
       "</table>\n",
       "</div>"
      ],
      "text/plain": [
       "0            Open   High    Low  Close  Volume\n",
       "Date                                          \n",
       "2023-02-13  11.32  11.42  11.30  11.41   30606\n",
       "2023-02-14  11.38  11.60  11.38  11.58   26132\n",
       "2023-02-15  11.56  11.56  11.40  11.42    9519\n",
       "2023-02-16  11.49  11.85  11.49  11.77   38652\n",
       "2023-02-17  11.80  12.06  11.77  11.81   90125"
      ]
     },
     "execution_count": 62,
     "metadata": {},
     "output_type": "execute_result"
    }
   ],
   "source": [
    "dbbank_df.tail()"
   ]
  },
  {
   "cell_type": "code",
   "execution_count": 63,
   "metadata": {},
   "outputs": [
    {
     "data": {
      "text/plain": [
       "Date\n",
       "1997-11-28    1.000000\n",
       "1997-12-01    1.015985\n",
       "1997-12-02    1.016899\n",
       "1997-12-03    1.012332\n",
       "1997-12-04    1.019868\n",
       "                ...   \n",
       "2023-02-13    0.260562\n",
       "2023-02-14    0.264444\n",
       "2023-02-15    0.260790\n",
       "2023-02-16    0.268783\n",
       "2023-02-17    0.269696\n",
       "Name: Close, Length: 6397, dtype: float64"
      ]
     },
     "execution_count": 63,
     "metadata": {},
     "output_type": "execute_result"
    }
   ],
   "source": [
    "norm_db = dbbank_df['Close']/dbbank_df['Close'].iloc[0]\n",
    "norm_db"
   ]
  },
  {
   "cell_type": "code",
   "execution_count": 64,
   "metadata": {},
   "outputs": [
    {
     "data": {
      "text/plain": [
       "11.81"
      ]
     },
     "execution_count": 64,
     "metadata": {},
     "output_type": "execute_result"
    }
   ],
   "source": [
    "dbbank_df['Close'].iloc[0]*norm_db.iloc[-1]"
   ]
  },
  {
   "cell_type": "code",
   "execution_count": 65,
   "metadata": {},
   "outputs": [
    {
     "data": {
      "text/plain": [
       "11.81"
      ]
     },
     "execution_count": 65,
     "metadata": {},
     "output_type": "execute_result"
    }
   ],
   "source": [
    "dbbank_df['Close'].iloc[-1]"
   ]
  },
  {
   "attachments": {},
   "cell_type": "markdown",
   "metadata": {},
   "source": [
    "##### 1.4.  Modify dataframe and useful functions\n",
    "\n",
    "- Calculate with columns\n",
    "- Create new columns\n",
    "- Drop columns\n",
    "- Min, Max, Argmin, and Argmax\n",
    "- Mean"
   ]
  },
  {
   "cell_type": "code",
   "execution_count": 68,
   "metadata": {},
   "outputs": [],
   "source": [
    "dbbank_df['Daily_change']= dbbank_df['Open']-dbbank_df['Close']"
   ]
  },
  {
   "cell_type": "code",
   "execution_count": 70,
   "metadata": {},
   "outputs": [],
   "source": [
    "dbbank_df['Normalized_closed'] = dbbank_df['Close']/dbbank_df['Close'].iloc[0]"
   ]
  },
  {
   "cell_type": "code",
   "execution_count": 71,
   "metadata": {},
   "outputs": [
    {
     "data": {
      "text/html": [
       "<div>\n",
       "<style scoped>\n",
       "    .dataframe tbody tr th:only-of-type {\n",
       "        vertical-align: middle;\n",
       "    }\n",
       "\n",
       "    .dataframe tbody tr th {\n",
       "        vertical-align: top;\n",
       "    }\n",
       "\n",
       "    .dataframe thead th {\n",
       "        text-align: right;\n",
       "    }\n",
       "</style>\n",
       "<table border=\"1\" class=\"dataframe\">\n",
       "  <thead>\n",
       "    <tr style=\"text-align: right;\">\n",
       "      <th></th>\n",
       "      <th>Open</th>\n",
       "      <th>High</th>\n",
       "      <th>Low</th>\n",
       "      <th>Close</th>\n",
       "      <th>Volume</th>\n",
       "      <th>Daily_change</th>\n",
       "      <th>Normalized_closed</th>\n",
       "    </tr>\n",
       "    <tr>\n",
       "      <th>Date</th>\n",
       "      <th></th>\n",
       "      <th></th>\n",
       "      <th></th>\n",
       "      <th></th>\n",
       "      <th></th>\n",
       "      <th></th>\n",
       "      <th></th>\n",
       "    </tr>\n",
       "  </thead>\n",
       "  <tbody>\n",
       "    <tr>\n",
       "      <th>1997-11-28</th>\n",
       "      <td>43.93</td>\n",
       "      <td>44.04</td>\n",
       "      <td>43.71</td>\n",
       "      <td>43.79</td>\n",
       "      <td>3196812</td>\n",
       "      <td>0.14</td>\n",
       "      <td>1.000000</td>\n",
       "    </tr>\n",
       "    <tr>\n",
       "      <th>1997-12-01</th>\n",
       "      <td>44.53</td>\n",
       "      <td>44.82</td>\n",
       "      <td>44.41</td>\n",
       "      <td>44.49</td>\n",
       "      <td>4185032</td>\n",
       "      <td>0.04</td>\n",
       "      <td>1.015985</td>\n",
       "    </tr>\n",
       "    <tr>\n",
       "      <th>1997-12-02</th>\n",
       "      <td>45.01</td>\n",
       "      <td>45.05</td>\n",
       "      <td>44.45</td>\n",
       "      <td>44.53</td>\n",
       "      <td>3881885</td>\n",
       "      <td>0.48</td>\n",
       "      <td>1.016899</td>\n",
       "    </tr>\n",
       "    <tr>\n",
       "      <th>1997-12-03</th>\n",
       "      <td>43.89</td>\n",
       "      <td>44.33</td>\n",
       "      <td>43.66</td>\n",
       "      <td>44.33</td>\n",
       "      <td>4823253</td>\n",
       "      <td>-0.44</td>\n",
       "      <td>1.012332</td>\n",
       "    </tr>\n",
       "    <tr>\n",
       "      <th>1997-12-04</th>\n",
       "      <td>44.47</td>\n",
       "      <td>44.95</td>\n",
       "      <td>44.10</td>\n",
       "      <td>44.66</td>\n",
       "      <td>4539136</td>\n",
       "      <td>-0.19</td>\n",
       "      <td>1.019868</td>\n",
       "    </tr>\n",
       "  </tbody>\n",
       "</table>\n",
       "</div>"
      ],
      "text/plain": [
       "0            Open   High    Low  Close   Volume  Daily_change  \\\n",
       "Date                                                            \n",
       "1997-11-28  43.93  44.04  43.71  43.79  3196812          0.14   \n",
       "1997-12-01  44.53  44.82  44.41  44.49  4185032          0.04   \n",
       "1997-12-02  45.01  45.05  44.45  44.53  3881885          0.48   \n",
       "1997-12-03  43.89  44.33  43.66  44.33  4823253         -0.44   \n",
       "1997-12-04  44.47  44.95  44.10  44.66  4539136         -0.19   \n",
       "\n",
       "0           Normalized_closed  \n",
       "Date                           \n",
       "1997-11-28           1.000000  \n",
       "1997-12-01           1.015985  \n",
       "1997-12-02           1.016899  \n",
       "1997-12-03           1.012332  \n",
       "1997-12-04           1.019868  "
      ]
     },
     "execution_count": 71,
     "metadata": {},
     "output_type": "execute_result"
    }
   ],
   "source": [
    "dbbank_df.head()"
   ]
  },
  {
   "cell_type": "code",
   "execution_count": 72,
   "metadata": {},
   "outputs": [
    {
     "data": {
      "text/plain": [
       "0\n",
       "Open                 4.90000\n",
       "High                 5.07000\n",
       "Low                  4.47000\n",
       "Close                4.95000\n",
       "Volume               0.00000\n",
       "Daily_change        -6.61000\n",
       "Normalized_closed    0.11304\n",
       "dtype: float64"
      ]
     },
     "execution_count": 72,
     "metadata": {},
     "output_type": "execute_result"
    }
   ],
   "source": [
    "dbbank_df.min()"
   ]
  },
  {
   "cell_type": "code",
   "execution_count": 73,
   "metadata": {},
   "outputs": [
    {
     "data": {
      "text/plain": [
       "4.95"
      ]
     },
     "execution_count": 73,
     "metadata": {},
     "output_type": "execute_result"
    }
   ],
   "source": [
    "dbbank_df['Close'].min()"
   ]
  },
  {
   "cell_type": "code",
   "execution_count": 74,
   "metadata": {},
   "outputs": [
    {
     "data": {
      "text/plain": [
       "5650"
      ]
     },
     "execution_count": 74,
     "metadata": {},
     "output_type": "execute_result"
    }
   ],
   "source": [
    "# to find the index for the minmum of the 'Close' column\n",
    "dbbank_df['Close'].argmin()"
   ]
  },
  {
   "cell_type": "code",
   "execution_count": 75,
   "metadata": {},
   "outputs": [
    {
     "data": {
      "text/plain": [
       "0\n",
       "Open                 5.100000e+00\n",
       "High                 5.410000e+00\n",
       "Low                  4.900000e+00\n",
       "Close                4.950000e+00\n",
       "Volume               1.730081e+06\n",
       "Daily_change         1.500000e-01\n",
       "Normalized_closed    1.130395e-01\n",
       "Name: 2020-03-18 00:00:00, dtype: float64"
      ]
     },
     "execution_count": 75,
     "metadata": {},
     "output_type": "execute_result"
    }
   ],
   "source": [
    "# now with this, we can find the row for the minimum\n",
    "dbbank_df.iloc[5650]"
   ]
  },
  {
   "cell_type": "code",
   "execution_count": 76,
   "metadata": {},
   "outputs": [
    {
     "data": {
      "text/html": [
       "<div>\n",
       "<style scoped>\n",
       "    .dataframe tbody tr th:only-of-type {\n",
       "        vertical-align: middle;\n",
       "    }\n",
       "\n",
       "    .dataframe tbody tr th {\n",
       "        vertical-align: top;\n",
       "    }\n",
       "\n",
       "    .dataframe thead th {\n",
       "        text-align: right;\n",
       "    }\n",
       "</style>\n",
       "<table border=\"1\" class=\"dataframe\">\n",
       "  <thead>\n",
       "    <tr style=\"text-align: right;\">\n",
       "      <th></th>\n",
       "      <th>Open</th>\n",
       "      <th>High</th>\n",
       "      <th>Low</th>\n",
       "      <th>Close</th>\n",
       "      <th>Volume</th>\n",
       "      <th>Daily_change</th>\n",
       "      <th>Normalized_closed</th>\n",
       "    </tr>\n",
       "    <tr>\n",
       "      <th>Date</th>\n",
       "      <th></th>\n",
       "      <th></th>\n",
       "      <th></th>\n",
       "      <th></th>\n",
       "      <th></th>\n",
       "      <th></th>\n",
       "      <th></th>\n",
       "    </tr>\n",
       "  </thead>\n",
       "  <tbody>\n",
       "    <tr>\n",
       "      <th>2020-03-11</th>\n",
       "      <td>6.00</td>\n",
       "      <td>6.20</td>\n",
       "      <td>5.79</td>\n",
       "      <td>5.81</td>\n",
       "      <td>2670522</td>\n",
       "      <td>0.19</td>\n",
       "      <td>0.132679</td>\n",
       "    </tr>\n",
       "    <tr>\n",
       "      <th>2020-03-12</th>\n",
       "      <td>5.60</td>\n",
       "      <td>5.76</td>\n",
       "      <td>4.88</td>\n",
       "      <td>5.02</td>\n",
       "      <td>4076894</td>\n",
       "      <td>0.58</td>\n",
       "      <td>0.114638</td>\n",
       "    </tr>\n",
       "    <tr>\n",
       "      <th>2020-03-13</th>\n",
       "      <td>5.34</td>\n",
       "      <td>5.80</td>\n",
       "      <td>4.87</td>\n",
       "      <td>5.20</td>\n",
       "      <td>4040924</td>\n",
       "      <td>0.14</td>\n",
       "      <td>0.118749</td>\n",
       "    </tr>\n",
       "    <tr>\n",
       "      <th>2020-03-16</th>\n",
       "      <td>4.90</td>\n",
       "      <td>5.07</td>\n",
       "      <td>4.47</td>\n",
       "      <td>5.00</td>\n",
       "      <td>4306516</td>\n",
       "      <td>-0.10</td>\n",
       "      <td>0.114181</td>\n",
       "    </tr>\n",
       "    <tr>\n",
       "      <th>2020-03-17</th>\n",
       "      <td>5.19</td>\n",
       "      <td>5.29</td>\n",
       "      <td>4.72</td>\n",
       "      <td>5.24</td>\n",
       "      <td>2460717</td>\n",
       "      <td>-0.05</td>\n",
       "      <td>0.119662</td>\n",
       "    </tr>\n",
       "    <tr>\n",
       "      <th>2020-03-18</th>\n",
       "      <td>5.10</td>\n",
       "      <td>5.41</td>\n",
       "      <td>4.90</td>\n",
       "      <td>4.95</td>\n",
       "      <td>1730081</td>\n",
       "      <td>0.15</td>\n",
       "      <td>0.113040</td>\n",
       "    </tr>\n",
       "    <tr>\n",
       "      <th>2020-03-19</th>\n",
       "      <td>5.40</td>\n",
       "      <td>5.66</td>\n",
       "      <td>5.22</td>\n",
       "      <td>5.58</td>\n",
       "      <td>1693358</td>\n",
       "      <td>-0.18</td>\n",
       "      <td>0.127426</td>\n",
       "    </tr>\n",
       "    <tr>\n",
       "      <th>2020-03-20</th>\n",
       "      <td>5.71</td>\n",
       "      <td>5.92</td>\n",
       "      <td>5.39</td>\n",
       "      <td>5.39</td>\n",
       "      <td>2508105</td>\n",
       "      <td>0.32</td>\n",
       "      <td>0.123087</td>\n",
       "    </tr>\n",
       "    <tr>\n",
       "      <th>2020-03-23</th>\n",
       "      <td>5.38</td>\n",
       "      <td>5.78</td>\n",
       "      <td>5.30</td>\n",
       "      <td>5.53</td>\n",
       "      <td>1680847</td>\n",
       "      <td>-0.15</td>\n",
       "      <td>0.126285</td>\n",
       "    </tr>\n",
       "    <tr>\n",
       "      <th>2020-03-24</th>\n",
       "      <td>5.88</td>\n",
       "      <td>6.18</td>\n",
       "      <td>5.80</td>\n",
       "      <td>6.08</td>\n",
       "      <td>1923432</td>\n",
       "      <td>-0.20</td>\n",
       "      <td>0.138844</td>\n",
       "    </tr>\n",
       "  </tbody>\n",
       "</table>\n",
       "</div>"
      ],
      "text/plain": [
       "0           Open  High   Low  Close   Volume  Daily_change  Normalized_closed\n",
       "Date                                                                         \n",
       "2020-03-11  6.00  6.20  5.79   5.81  2670522          0.19           0.132679\n",
       "2020-03-12  5.60  5.76  4.88   5.02  4076894          0.58           0.114638\n",
       "2020-03-13  5.34  5.80  4.87   5.20  4040924          0.14           0.118749\n",
       "2020-03-16  4.90  5.07  4.47   5.00  4306516         -0.10           0.114181\n",
       "2020-03-17  5.19  5.29  4.72   5.24  2460717         -0.05           0.119662\n",
       "2020-03-18  5.10  5.41  4.90   4.95  1730081          0.15           0.113040\n",
       "2020-03-19  5.40  5.66  5.22   5.58  1693358         -0.18           0.127426\n",
       "2020-03-20  5.71  5.92  5.39   5.39  2508105          0.32           0.123087\n",
       "2020-03-23  5.38  5.78  5.30   5.53  1680847         -0.15           0.126285\n",
       "2020-03-24  5.88  6.18  5.80   6.08  1923432         -0.20           0.138844"
      ]
     },
     "execution_count": 76,
     "metadata": {},
     "output_type": "execute_result"
    }
   ],
   "source": [
    "# now with this, we can find the row for the minimum. To check if the values are minimum\n",
    "dbbank_df.iloc[5645:5655]"
   ]
  },
  {
   "cell_type": "code",
   "execution_count": 78,
   "metadata": {},
   "outputs": [
    {
     "data": {
      "text/plain": [
       "0.11303950673669788"
      ]
     },
     "execution_count": 78,
     "metadata": {},
     "output_type": "execute_result"
    }
   ],
   "source": [
    "dbbank_df['Normalized_closed'].min()"
   ]
  },
  {
   "cell_type": "code",
   "execution_count": 79,
   "metadata": {},
   "outputs": [
    {
     "data": {
      "text/plain": [
       "5650"
      ]
     },
     "execution_count": 79,
     "metadata": {},
     "output_type": "execute_result"
    }
   ],
   "source": [
    "dbbank_df['Normalized_closed'].argmin()"
   ]
  },
  {
   "cell_type": "code",
   "execution_count": 81,
   "metadata": {},
   "outputs": [
    {
     "data": {
      "text/plain": [
       "91.47"
      ]
     },
     "execution_count": 81,
     "metadata": {},
     "output_type": "execute_result"
    }
   ],
   "source": [
    "dbbank_df['Close'].max()"
   ]
  },
  {
   "cell_type": "code",
   "execution_count": 82,
   "metadata": {},
   "outputs": [
    {
     "data": {
      "text/plain": [
       "2393"
      ]
     },
     "execution_count": 82,
     "metadata": {},
     "output_type": "execute_result"
    }
   ],
   "source": [
    "dbbank_df['Close'].argmax()"
   ]
  },
  {
   "cell_type": "code",
   "execution_count": 85,
   "metadata": {},
   "outputs": [
    {
     "data": {
      "text/html": [
       "<div>\n",
       "<style scoped>\n",
       "    .dataframe tbody tr th:only-of-type {\n",
       "        vertical-align: middle;\n",
       "    }\n",
       "\n",
       "    .dataframe tbody tr th {\n",
       "        vertical-align: top;\n",
       "    }\n",
       "\n",
       "    .dataframe thead th {\n",
       "        text-align: right;\n",
       "    }\n",
       "</style>\n",
       "<table border=\"1\" class=\"dataframe\">\n",
       "  <thead>\n",
       "    <tr style=\"text-align: right;\">\n",
       "      <th></th>\n",
       "      <th>Open</th>\n",
       "      <th>High</th>\n",
       "      <th>Low</th>\n",
       "      <th>Close</th>\n",
       "      <th>Volume</th>\n",
       "      <th>Daily_change</th>\n",
       "      <th>Normalized_closed</th>\n",
       "    </tr>\n",
       "    <tr>\n",
       "      <th>Date</th>\n",
       "      <th></th>\n",
       "      <th></th>\n",
       "      <th></th>\n",
       "      <th></th>\n",
       "      <th></th>\n",
       "      <th></th>\n",
       "      <th></th>\n",
       "    </tr>\n",
       "  </thead>\n",
       "  <tbody>\n",
       "    <tr>\n",
       "      <th>2007-05-08</th>\n",
       "      <td>89.49</td>\n",
       "      <td>90.30</td>\n",
       "      <td>89.40</td>\n",
       "      <td>90.30</td>\n",
       "      <td>592346</td>\n",
       "      <td>-0.81</td>\n",
       "      <td>2.062115</td>\n",
       "    </tr>\n",
       "    <tr>\n",
       "      <th>2007-05-09</th>\n",
       "      <td>90.21</td>\n",
       "      <td>91.04</td>\n",
       "      <td>89.95</td>\n",
       "      <td>90.42</td>\n",
       "      <td>371118</td>\n",
       "      <td>-0.21</td>\n",
       "      <td>2.064855</td>\n",
       "    </tr>\n",
       "    <tr>\n",
       "      <th>2007-05-10</th>\n",
       "      <td>90.11</td>\n",
       "      <td>91.12</td>\n",
       "      <td>89.18</td>\n",
       "      <td>89.30</td>\n",
       "      <td>806636</td>\n",
       "      <td>0.81</td>\n",
       "      <td>2.039278</td>\n",
       "    </tr>\n",
       "    <tr>\n",
       "      <th>2007-05-11</th>\n",
       "      <td>88.94</td>\n",
       "      <td>91.72</td>\n",
       "      <td>87.93</td>\n",
       "      <td>91.47</td>\n",
       "      <td>738064</td>\n",
       "      <td>-2.53</td>\n",
       "      <td>2.088833</td>\n",
       "    </tr>\n",
       "    <tr>\n",
       "      <th>2007-05-14</th>\n",
       "      <td>91.62</td>\n",
       "      <td>92.05</td>\n",
       "      <td>90.34</td>\n",
       "      <td>90.65</td>\n",
       "      <td>463398</td>\n",
       "      <td>0.97</td>\n",
       "      <td>2.070107</td>\n",
       "    </tr>\n",
       "  </tbody>\n",
       "</table>\n",
       "</div>"
      ],
      "text/plain": [
       "0            Open   High    Low  Close  Volume  Daily_change  \\\n",
       "Date                                                           \n",
       "2007-05-08  89.49  90.30  89.40  90.30  592346         -0.81   \n",
       "2007-05-09  90.21  91.04  89.95  90.42  371118         -0.21   \n",
       "2007-05-10  90.11  91.12  89.18  89.30  806636          0.81   \n",
       "2007-05-11  88.94  91.72  87.93  91.47  738064         -2.53   \n",
       "2007-05-14  91.62  92.05  90.34  90.65  463398          0.97   \n",
       "\n",
       "0           Normalized_closed  \n",
       "Date                           \n",
       "2007-05-08           2.062115  \n",
       "2007-05-09           2.064855  \n",
       "2007-05-10           2.039278  \n",
       "2007-05-11           2.088833  \n",
       "2007-05-14           2.070107  "
      ]
     },
     "execution_count": 85,
     "metadata": {},
     "output_type": "execute_result"
    }
   ],
   "source": [
    "dbbank_df.iloc[2390:2395]"
   ]
  },
  {
   "cell_type": "code",
   "execution_count": 86,
   "metadata": {},
   "outputs": [
    {
     "data": {
      "text/plain": [
       "35.595854306706265"
      ]
     },
     "execution_count": 86,
     "metadata": {},
     "output_type": "execute_result"
    }
   ],
   "source": [
    "dbbank_df['Close'].mean()"
   ]
  },
  {
   "cell_type": "code",
   "execution_count": 87,
   "metadata": {},
   "outputs": [
    {
     "data": {
      "text/html": [
       "<div>\n",
       "<style scoped>\n",
       "    .dataframe tbody tr th:only-of-type {\n",
       "        vertical-align: middle;\n",
       "    }\n",
       "\n",
       "    .dataframe tbody tr th {\n",
       "        vertical-align: top;\n",
       "    }\n",
       "\n",
       "    .dataframe thead th {\n",
       "        text-align: right;\n",
       "    }\n",
       "</style>\n",
       "<table border=\"1\" class=\"dataframe\">\n",
       "  <thead>\n",
       "    <tr style=\"text-align: right;\">\n",
       "      <th></th>\n",
       "      <th>Open</th>\n",
       "      <th>Low</th>\n",
       "      <th>Volume</th>\n",
       "      <th>Daily_change</th>\n",
       "      <th>Normalized_closed</th>\n",
       "    </tr>\n",
       "    <tr>\n",
       "      <th>Date</th>\n",
       "      <th></th>\n",
       "      <th></th>\n",
       "      <th></th>\n",
       "      <th></th>\n",
       "      <th></th>\n",
       "    </tr>\n",
       "  </thead>\n",
       "  <tbody>\n",
       "    <tr>\n",
       "      <th>1997-11-28</th>\n",
       "      <td>43.93</td>\n",
       "      <td>43.71</td>\n",
       "      <td>3196812</td>\n",
       "      <td>0.14</td>\n",
       "      <td>1.000000</td>\n",
       "    </tr>\n",
       "    <tr>\n",
       "      <th>1997-12-01</th>\n",
       "      <td>44.53</td>\n",
       "      <td>44.41</td>\n",
       "      <td>4185032</td>\n",
       "      <td>0.04</td>\n",
       "      <td>1.015985</td>\n",
       "    </tr>\n",
       "    <tr>\n",
       "      <th>1997-12-02</th>\n",
       "      <td>45.01</td>\n",
       "      <td>44.45</td>\n",
       "      <td>3881885</td>\n",
       "      <td>0.48</td>\n",
       "      <td>1.016899</td>\n",
       "    </tr>\n",
       "    <tr>\n",
       "      <th>1997-12-03</th>\n",
       "      <td>43.89</td>\n",
       "      <td>43.66</td>\n",
       "      <td>4823253</td>\n",
       "      <td>-0.44</td>\n",
       "      <td>1.012332</td>\n",
       "    </tr>\n",
       "    <tr>\n",
       "      <th>1997-12-04</th>\n",
       "      <td>44.47</td>\n",
       "      <td>44.10</td>\n",
       "      <td>4539136</td>\n",
       "      <td>-0.19</td>\n",
       "      <td>1.019868</td>\n",
       "    </tr>\n",
       "    <tr>\n",
       "      <th>...</th>\n",
       "      <td>...</td>\n",
       "      <td>...</td>\n",
       "      <td>...</td>\n",
       "      <td>...</td>\n",
       "      <td>...</td>\n",
       "    </tr>\n",
       "    <tr>\n",
       "      <th>2023-02-13</th>\n",
       "      <td>11.32</td>\n",
       "      <td>11.30</td>\n",
       "      <td>30606</td>\n",
       "      <td>-0.09</td>\n",
       "      <td>0.260562</td>\n",
       "    </tr>\n",
       "    <tr>\n",
       "      <th>2023-02-14</th>\n",
       "      <td>11.38</td>\n",
       "      <td>11.38</td>\n",
       "      <td>26132</td>\n",
       "      <td>-0.20</td>\n",
       "      <td>0.264444</td>\n",
       "    </tr>\n",
       "    <tr>\n",
       "      <th>2023-02-15</th>\n",
       "      <td>11.56</td>\n",
       "      <td>11.40</td>\n",
       "      <td>9519</td>\n",
       "      <td>0.14</td>\n",
       "      <td>0.260790</td>\n",
       "    </tr>\n",
       "    <tr>\n",
       "      <th>2023-02-16</th>\n",
       "      <td>11.49</td>\n",
       "      <td>11.49</td>\n",
       "      <td>38652</td>\n",
       "      <td>-0.28</td>\n",
       "      <td>0.268783</td>\n",
       "    </tr>\n",
       "    <tr>\n",
       "      <th>2023-02-17</th>\n",
       "      <td>11.80</td>\n",
       "      <td>11.77</td>\n",
       "      <td>90125</td>\n",
       "      <td>-0.01</td>\n",
       "      <td>0.269696</td>\n",
       "    </tr>\n",
       "  </tbody>\n",
       "</table>\n",
       "<p>6397 rows × 5 columns</p>\n",
       "</div>"
      ],
      "text/plain": [
       "0            Open    Low   Volume  Daily_change  Normalized_closed\n",
       "Date                                                              \n",
       "1997-11-28  43.93  43.71  3196812          0.14           1.000000\n",
       "1997-12-01  44.53  44.41  4185032          0.04           1.015985\n",
       "1997-12-02  45.01  44.45  3881885          0.48           1.016899\n",
       "1997-12-03  43.89  43.66  4823253         -0.44           1.012332\n",
       "1997-12-04  44.47  44.10  4539136         -0.19           1.019868\n",
       "...           ...    ...      ...           ...                ...\n",
       "2023-02-13  11.32  11.30    30606         -0.09           0.260562\n",
       "2023-02-14  11.38  11.38    26132         -0.20           0.264444\n",
       "2023-02-15  11.56  11.40     9519          0.14           0.260790\n",
       "2023-02-16  11.49  11.49    38652         -0.28           0.268783\n",
       "2023-02-17  11.80  11.77    90125         -0.01           0.269696\n",
       "\n",
       "[6397 rows x 5 columns]"
      ]
     },
     "execution_count": 87,
     "metadata": {},
     "output_type": "execute_result"
    }
   ],
   "source": [
    "# dropping a column\n",
    "\n",
    "dbbank_df.drop(labels=['High', 'Close'], axis=1)"
   ]
  },
  {
   "attachments": {},
   "cell_type": "markdown",
   "metadata": {},
   "source": [
    "Here we have not rewritten the dbbank dataframe. If we want to drop from the original dataframe, we need to use\n",
    "\n",
    "`dbbank_df.drop(labels=['High', 'Close'], axis=1, inplace = True)`\n",
    "\n",
    "or\n",
    "\n",
    "`dbbank_df= dbbank_df.drop(labels=['High', 'Close'], axis=1)`"
   ]
  },
  {
   "cell_type": "code",
   "execution_count": 88,
   "metadata": {},
   "outputs": [
    {
     "data": {
      "text/html": [
       "<div>\n",
       "<style scoped>\n",
       "    .dataframe tbody tr th:only-of-type {\n",
       "        vertical-align: middle;\n",
       "    }\n",
       "\n",
       "    .dataframe tbody tr th {\n",
       "        vertical-align: top;\n",
       "    }\n",
       "\n",
       "    .dataframe thead th {\n",
       "        text-align: right;\n",
       "    }\n",
       "</style>\n",
       "<table border=\"1\" class=\"dataframe\">\n",
       "  <thead>\n",
       "    <tr style=\"text-align: right;\">\n",
       "      <th></th>\n",
       "      <th>Open</th>\n",
       "      <th>High</th>\n",
       "      <th>Low</th>\n",
       "      <th>Close</th>\n",
       "      <th>Volume</th>\n",
       "      <th>Daily_change</th>\n",
       "      <th>Normalized_closed</th>\n",
       "    </tr>\n",
       "    <tr>\n",
       "      <th>Date</th>\n",
       "      <th></th>\n",
       "      <th></th>\n",
       "      <th></th>\n",
       "      <th></th>\n",
       "      <th></th>\n",
       "      <th></th>\n",
       "      <th></th>\n",
       "    </tr>\n",
       "  </thead>\n",
       "  <tbody>\n",
       "    <tr>\n",
       "      <th>1997-11-28</th>\n",
       "      <td>43.93</td>\n",
       "      <td>44.04</td>\n",
       "      <td>43.71</td>\n",
       "      <td>43.79</td>\n",
       "      <td>3196812</td>\n",
       "      <td>0.14</td>\n",
       "      <td>1.000000</td>\n",
       "    </tr>\n",
       "    <tr>\n",
       "      <th>1997-12-01</th>\n",
       "      <td>44.53</td>\n",
       "      <td>44.82</td>\n",
       "      <td>44.41</td>\n",
       "      <td>44.49</td>\n",
       "      <td>4185032</td>\n",
       "      <td>0.04</td>\n",
       "      <td>1.015985</td>\n",
       "    </tr>\n",
       "    <tr>\n",
       "      <th>1997-12-02</th>\n",
       "      <td>45.01</td>\n",
       "      <td>45.05</td>\n",
       "      <td>44.45</td>\n",
       "      <td>44.53</td>\n",
       "      <td>3881885</td>\n",
       "      <td>0.48</td>\n",
       "      <td>1.016899</td>\n",
       "    </tr>\n",
       "    <tr>\n",
       "      <th>1997-12-03</th>\n",
       "      <td>43.89</td>\n",
       "      <td>44.33</td>\n",
       "      <td>43.66</td>\n",
       "      <td>44.33</td>\n",
       "      <td>4823253</td>\n",
       "      <td>-0.44</td>\n",
       "      <td>1.012332</td>\n",
       "    </tr>\n",
       "    <tr>\n",
       "      <th>1997-12-04</th>\n",
       "      <td>44.47</td>\n",
       "      <td>44.95</td>\n",
       "      <td>44.10</td>\n",
       "      <td>44.66</td>\n",
       "      <td>4539136</td>\n",
       "      <td>-0.19</td>\n",
       "      <td>1.019868</td>\n",
       "    </tr>\n",
       "    <tr>\n",
       "      <th>...</th>\n",
       "      <td>...</td>\n",
       "      <td>...</td>\n",
       "      <td>...</td>\n",
       "      <td>...</td>\n",
       "      <td>...</td>\n",
       "      <td>...</td>\n",
       "      <td>...</td>\n",
       "    </tr>\n",
       "    <tr>\n",
       "      <th>2023-02-13</th>\n",
       "      <td>11.32</td>\n",
       "      <td>11.42</td>\n",
       "      <td>11.30</td>\n",
       "      <td>11.41</td>\n",
       "      <td>30606</td>\n",
       "      <td>-0.09</td>\n",
       "      <td>0.260562</td>\n",
       "    </tr>\n",
       "    <tr>\n",
       "      <th>2023-02-14</th>\n",
       "      <td>11.38</td>\n",
       "      <td>11.60</td>\n",
       "      <td>11.38</td>\n",
       "      <td>11.58</td>\n",
       "      <td>26132</td>\n",
       "      <td>-0.20</td>\n",
       "      <td>0.264444</td>\n",
       "    </tr>\n",
       "    <tr>\n",
       "      <th>2023-02-15</th>\n",
       "      <td>11.56</td>\n",
       "      <td>11.56</td>\n",
       "      <td>11.40</td>\n",
       "      <td>11.42</td>\n",
       "      <td>9519</td>\n",
       "      <td>0.14</td>\n",
       "      <td>0.260790</td>\n",
       "    </tr>\n",
       "    <tr>\n",
       "      <th>2023-02-16</th>\n",
       "      <td>11.49</td>\n",
       "      <td>11.85</td>\n",
       "      <td>11.49</td>\n",
       "      <td>11.77</td>\n",
       "      <td>38652</td>\n",
       "      <td>-0.28</td>\n",
       "      <td>0.268783</td>\n",
       "    </tr>\n",
       "    <tr>\n",
       "      <th>2023-02-17</th>\n",
       "      <td>11.80</td>\n",
       "      <td>12.06</td>\n",
       "      <td>11.77</td>\n",
       "      <td>11.81</td>\n",
       "      <td>90125</td>\n",
       "      <td>-0.01</td>\n",
       "      <td>0.269696</td>\n",
       "    </tr>\n",
       "  </tbody>\n",
       "</table>\n",
       "<p>6397 rows × 7 columns</p>\n",
       "</div>"
      ],
      "text/plain": [
       "0            Open   High    Low  Close   Volume  Daily_change  \\\n",
       "Date                                                            \n",
       "1997-11-28  43.93  44.04  43.71  43.79  3196812          0.14   \n",
       "1997-12-01  44.53  44.82  44.41  44.49  4185032          0.04   \n",
       "1997-12-02  45.01  45.05  44.45  44.53  3881885          0.48   \n",
       "1997-12-03  43.89  44.33  43.66  44.33  4823253         -0.44   \n",
       "1997-12-04  44.47  44.95  44.10  44.66  4539136         -0.19   \n",
       "...           ...    ...    ...    ...      ...           ...   \n",
       "2023-02-13  11.32  11.42  11.30  11.41    30606         -0.09   \n",
       "2023-02-14  11.38  11.60  11.38  11.58    26132         -0.20   \n",
       "2023-02-15  11.56  11.56  11.40  11.42     9519          0.14   \n",
       "2023-02-16  11.49  11.85  11.49  11.77    38652         -0.28   \n",
       "2023-02-17  11.80  12.06  11.77  11.81    90125         -0.01   \n",
       "\n",
       "0           Normalized_closed  \n",
       "Date                           \n",
       "1997-11-28           1.000000  \n",
       "1997-12-01           1.015985  \n",
       "1997-12-02           1.016899  \n",
       "1997-12-03           1.012332  \n",
       "1997-12-04           1.019868  \n",
       "...                       ...  \n",
       "2023-02-13           0.260562  \n",
       "2023-02-14           0.264444  \n",
       "2023-02-15           0.260790  \n",
       "2023-02-16           0.268783  \n",
       "2023-02-17           0.269696  \n",
       "\n",
       "[6397 rows x 7 columns]"
      ]
     },
     "execution_count": 88,
     "metadata": {},
     "output_type": "execute_result"
    }
   ],
   "source": [
    "dbbank_df"
   ]
  },
  {
   "attachments": {},
   "cell_type": "markdown",
   "metadata": {},
   "source": [
    "#### 2. Visualize the data using matplotlib and seaborn:\n",
    "\n",
    "we can use these libraries to create a variety of charts and plots, such as \n",
    "\n",
    "- line plots, \n",
    "- bar plots, \n",
    "- histograms, and \n",
    "- scatter plots. \n",
    "\n",
    "We also learn Subplot, multiplot here."
   ]
  },
  {
   "attachments": {},
   "cell_type": "markdown",
   "metadata": {},
   "source": [
    "##### 2.1. Closing price (yearwise)"
   ]
  },
  {
   "cell_type": "code",
   "execution_count": 89,
   "metadata": {},
   "outputs": [
    {
     "data": {
      "text/plain": [
       "<AxesSubplot: xlabel='Date'>"
      ]
     },
     "execution_count": 89,
     "metadata": {},
     "output_type": "execute_result"
    },
    {
     "data": {
      "image/png": "[encoded data removed]",
      "text/plain": [
       "<Figure size 640x480 with 1 Axes>"
      ]
     },
     "metadata": {},
     "output_type": "display_data"
    }
   ],
   "source": [
    "# here we use pandas plot function.\n",
    "dbbank_df.plot()"
   ]
  },
  {
   "attachments": {},
   "cell_type": "markdown",
   "metadata": {},
   "source": [
    "But for better control over the axis levels, legends, title, we will use matplotlib."
   ]
  },
  {
   "cell_type": "code",
   "execution_count": 93,
   "metadata": {},
   "outputs": [
    {
     "data": {
      "text/plain": [
       "Text(0.5, 1.0, 'Deutsch Bank (1997-2023)')"
      ]
     },
     "execution_count": 93,
     "metadata": {},
     "output_type": "execute_result"
    },
    {
     "data": {
      "image/png": "[encoded data removed]",
      "text/plain": [
       "<Figure size 640x480 with 1 Axes>"
      ]
     },
     "metadata": {},
     "output_type": "display_data"
    }
   ],
   "source": [
    "fig, ax = plt.subplots()\n",
    "dbbank_df['Close'].plot(ax=ax)\n",
    "ax.set_ylabel(\"CLosing Prices\")\n",
    "ax.set_title('Deutsch Bank (1997-2023)')"
   ]
  },
  {
   "attachments": {},
   "cell_type": "markdown",
   "metadata": {},
   "source": [
    "SO what we find here is that, matplotlib here don't understand that Date is here not a column but a index column. "
   ]
  },
  {
   "cell_type": "code",
   "execution_count": 98,
   "metadata": {},
   "outputs": [
    {
     "data": {
      "text/plain": [
       "<AxesSubplot: xlabel='Date'>"
      ]
     },
     "execution_count": 98,
     "metadata": {},
     "output_type": "execute_result"
    },
    {
     "data": {
      "image/png": "[encoded data removed]",
      "text/plain": [
       "<Figure size 640x480 with 4 Axes>"
      ]
     },
     "metadata": {},
     "output_type": "display_data"
    }
   ],
   "source": [
    "fig, ax = plt.subplots(2,2)\n",
    "dbbank_df['Open'].plot(ax=ax[0,0], title= 'Open') # type: ignore\n",
    "dbbank_df['High'].plot(ax=ax[0,1], title= 'High') # type: ignore\n",
    "dbbank_df['Low'].plot(ax=ax[1,0], title= 'Low') # type: ignore\n",
    "dbbank_df['Close'].plot(ax=ax[1,1], title= 'Close') # type: ignore"
   ]
  },
  {
   "cell_type": "code",
   "execution_count": 104,
   "metadata": {},
   "outputs": [
    {
     "data": {
      "text/plain": [
       "<AxesSubplot: xlabel='Date'>"
      ]
     },
     "execution_count": 104,
     "metadata": {},
     "output_type": "execute_result"
    },
    {
     "data": {
      "image/png": "[encoded data removed]",
      "text/plain": [
       "<Figure size 640x480 with 1 Axes>"
      ]
     },
     "metadata": {},
     "output_type": "display_data"
    }
   ],
   "source": [
    "fig, ax = plt.subplots()\n",
    "dbbank_df['Open'].loc['2020-07-01':'2020-08-15'].plot.bar(ax=ax)  # type: ignore"
   ]
  },
  {
   "cell_type": "code",
   "execution_count": null,
   "metadata": {},
   "outputs": [],
   "source": []
  },
  {
   "attachments": {},
   "cell_type": "markdown",
   "metadata": {},
   "source": [
    "##### 2.1. Closing price (yearwise)"
   ]
  },
  {
   "cell_type": "code",
   "execution_count": 92,
   "metadata": {},
   "outputs": [
    {
     "ename": "KeyError",
     "evalue": "'Date'",
     "output_type": "error",
     "traceback": [
      "\u001b[0;31m---------------------------------------------------------------------------\u001b[0m",
      "\u001b[0;31mKeyError\u001b[0m                                  Traceback (most recent call last)",
      "File \u001b[0;32m/usr/local/lib/python3.11/site-packages/pandas/core/indexes/base.py:3802\u001b[0m, in \u001b[0;36mIndex.get_loc\u001b[0;34m(self, key, method, tolerance)\u001b[0m\n\u001b[1;32m   3801\u001b[0m \u001b[39mtry\u001b[39;00m:\n\u001b[0;32m-> 3802\u001b[0m     \u001b[39mreturn\u001b[39;00m \u001b[39mself\u001b[39;49m\u001b[39m.\u001b[39;49m_engine\u001b[39m.\u001b[39;49mget_loc(casted_key)\n\u001b[1;32m   3803\u001b[0m \u001b[39mexcept\u001b[39;00m \u001b[39mKeyError\u001b[39;00m \u001b[39mas\u001b[39;00m err:\n",
      "File \u001b[0;32m/usr/local/lib/python3.11/site-packages/pandas/_libs/index.pyx:138\u001b[0m, in \u001b[0;36mpandas._libs.index.IndexEngine.get_loc\u001b[0;34m()\u001b[0m\n",
      "File \u001b[0;32m/usr/local/lib/python3.11/site-packages/pandas/_libs/index.pyx:165\u001b[0m, in \u001b[0;36mpandas._libs.index.IndexEngine.get_loc\u001b[0;34m()\u001b[0m\n",
      "File \u001b[0;32mpandas/_libs/hashtable_class_helper.pxi:5745\u001b[0m, in \u001b[0;36mpandas._libs.hashtable.PyObjectHashTable.get_item\u001b[0;34m()\u001b[0m\n",
      "File \u001b[0;32mpandas/_libs/hashtable_class_helper.pxi:5753\u001b[0m, in \u001b[0;36mpandas._libs.hashtable.PyObjectHashTable.get_item\u001b[0;34m()\u001b[0m\n",
      "\u001b[0;31mKeyError\u001b[0m: 'Date'",
      "\nThe above exception was the direct cause of the following exception:\n",
      "\u001b[0;31mKeyError\u001b[0m                                  Traceback (most recent call last)",
      "Cell \u001b[0;32mIn[92], line 2\u001b[0m\n\u001b[1;32m      1\u001b[0m \u001b[39m# plot the closing price over time\u001b[39;00m\n\u001b[0;32m----> 2\u001b[0m plt\u001b[39m.\u001b[39mplot(dbbank_df[\u001b[39m'\u001b[39;49m\u001b[39mDate\u001b[39;49m\u001b[39m'\u001b[39;49m], dbbank_df[\u001b[39m'\u001b[39m\u001b[39mClose\u001b[39m\u001b[39m'\u001b[39m])\n\u001b[1;32m      3\u001b[0m plt\u001b[39m.\u001b[39mplot(dbbank_df[\u001b[39m'\u001b[39m\u001b[39mDate\u001b[39m\u001b[39m'\u001b[39m], dbbank_df[\u001b[39m'\u001b[39m\u001b[39mHigh\u001b[39m\u001b[39m'\u001b[39m])\n\u001b[1;32m      4\u001b[0m plt\u001b[39m.\u001b[39mplot(dbbank_df[\u001b[39m'\u001b[39m\u001b[39mDate\u001b[39m\u001b[39m'\u001b[39m], dbbank_df[\u001b[39m'\u001b[39m\u001b[39mLow\u001b[39m\u001b[39m'\u001b[39m])\n",
      "File \u001b[0;32m/usr/local/lib/python3.11/site-packages/pandas/core/frame.py:3807\u001b[0m, in \u001b[0;36mDataFrame.__getitem__\u001b[0;34m(self, key)\u001b[0m\n\u001b[1;32m   3805\u001b[0m \u001b[39mif\u001b[39;00m \u001b[39mself\u001b[39m\u001b[39m.\u001b[39mcolumns\u001b[39m.\u001b[39mnlevels \u001b[39m>\u001b[39m \u001b[39m1\u001b[39m:\n\u001b[1;32m   3806\u001b[0m     \u001b[39mreturn\u001b[39;00m \u001b[39mself\u001b[39m\u001b[39m.\u001b[39m_getitem_multilevel(key)\n\u001b[0;32m-> 3807\u001b[0m indexer \u001b[39m=\u001b[39m \u001b[39mself\u001b[39;49m\u001b[39m.\u001b[39;49mcolumns\u001b[39m.\u001b[39;49mget_loc(key)\n\u001b[1;32m   3808\u001b[0m \u001b[39mif\u001b[39;00m is_integer(indexer):\n\u001b[1;32m   3809\u001b[0m     indexer \u001b[39m=\u001b[39m [indexer]\n",
      "File \u001b[0;32m/usr/local/lib/python3.11/site-packages/pandas/core/indexes/base.py:3804\u001b[0m, in \u001b[0;36mIndex.get_loc\u001b[0;34m(self, key, method, tolerance)\u001b[0m\n\u001b[1;32m   3802\u001b[0m     \u001b[39mreturn\u001b[39;00m \u001b[39mself\u001b[39m\u001b[39m.\u001b[39m_engine\u001b[39m.\u001b[39mget_loc(casted_key)\n\u001b[1;32m   3803\u001b[0m \u001b[39mexcept\u001b[39;00m \u001b[39mKeyError\u001b[39;00m \u001b[39mas\u001b[39;00m err:\n\u001b[0;32m-> 3804\u001b[0m     \u001b[39mraise\u001b[39;00m \u001b[39mKeyError\u001b[39;00m(key) \u001b[39mfrom\u001b[39;00m \u001b[39merr\u001b[39;00m\n\u001b[1;32m   3805\u001b[0m \u001b[39mexcept\u001b[39;00m \u001b[39mTypeError\u001b[39;00m:\n\u001b[1;32m   3806\u001b[0m     \u001b[39m# If we have a listlike key, _check_indexing_error will raise\u001b[39;00m\n\u001b[1;32m   3807\u001b[0m     \u001b[39m#  InvalidIndexError. Otherwise we fall through and re-raise\u001b[39;00m\n\u001b[1;32m   3808\u001b[0m     \u001b[39m#  the TypeError.\u001b[39;00m\n\u001b[1;32m   3809\u001b[0m     \u001b[39mself\u001b[39m\u001b[39m.\u001b[39m_check_indexing_error(key)\n",
      "\u001b[0;31mKeyError\u001b[0m: 'Date'"
     ]
    }
   ],
   "source": [
    "# plot the closing price over time\n",
    "plt.plot(dbbank_df['Date'], dbbank_df['Close'])\n",
    "plt.plot(dbbank_df['Date'], dbbank_df['High'])\n",
    "plt.plot(dbbank_df['Date'], dbbank_df['Low'])\n",
    "plt.title('Deutsche Bank Closing Prices')\n",
    "plt.xlabel('Date')\n",
    "plt.ylabel('Closing Price')\n",
    "plt.show()"
   ]
  },
  {
   "cell_type": "code",
   "execution_count": null,
   "metadata": {},
   "outputs": [],
   "source": [
    "# Finding the data for 2022\n",
    "# Convert the 'Date' column to datetime format\n",
    "dbbank_df['Date'] = pd.to_datetime(dbbank_df['Date'])\n",
    "dbbank_df2022 = dbbank_df[dbbank_df['Date'].dt.year == 2022]\n",
    "dbbank_df2022.head()"
   ]
  },
  {
   "cell_type": "code",
   "execution_count": null,
   "metadata": {},
   "outputs": [],
   "source": [
    "# Finding the data for 2021\n",
    "dbbank_df2021 = dbbank_df[dbbank_df['Date'].dt.year == 2021]\n",
    "dbbank_df2021.head()"
   ]
  },
  {
   "cell_type": "code",
   "execution_count": null,
   "metadata": {},
   "outputs": [],
   "source": [
    "# plot the closing price 2021 and 2022 together\n",
    "plt.plot(dbbank_df2022['Date'], dbbank_df2022['Close'])\n",
    "plt.plot(dbbank_df2021['Date'], dbbank_df2021['Close'])\n",
    "plt.title('Deutsche Bank Closing Prices (2021-2022)')\n",
    "plt.xlabel('Date')\n",
    "plt.ylabel('Closing Price')\n",
    "plt.show()"
   ]
  },
  {
   "attachments": {},
   "cell_type": "markdown",
   "metadata": {},
   "source": [
    "##### 2.2. Calculate returns\n",
    "\n",
    "The `pct_change()` function used in the first line calculates the percentage change between the current and a prior element, by default, the prior element is the element in the previous row. "
   ]
  },
  {
   "cell_type": "code",
   "execution_count": null,
   "metadata": {},
   "outputs": [],
   "source": [
    "# calculate daily returns\n",
    "dbbank_df['Return'] = dbbank_df['Close'].pct_change()\n",
    "# plot the returns over time\n",
    "plt.plot(dbbank_df['Date'], dbbank_df['Return'], 'go:')\n",
    "plt.title('Deutsche Bank Daily Returns (1997-2023)')\n",
    "plt.xlabel('Date')\n",
    "plt.ylabel('Return')\n",
    "plt.show()"
   ]
  },
  {
   "attachments": {},
   "cell_type": "markdown",
   "metadata": {},
   "source": [
    "In the case of the `dbbank_df['Return']` column, `pct_change()` is applied to the `Close` column of the DataFrame, which contains the closing prices of Deutsche Bank's stock. The resulting `Return` column contains the daily percentage changes in the stock price."
   ]
  },
  {
   "attachments": {},
   "cell_type": "markdown",
   "metadata": {},
   "source": [
    "If you want to specify a window for the calculation of returns, you can use the `rolling()` function provided by pandas (discussed below). For example, to calculate the 10-day rolling average of daily returns, you can modify the first line of the code as follows:"
   ]
  },
  {
   "cell_type": "code",
   "execution_count": null,
   "metadata": {},
   "outputs": [],
   "source": [
    "dbbank_df['Close'].pct_change().rolling(10).mean()"
   ]
  },
  {
   "attachments": {},
   "cell_type": "markdown",
   "metadata": {},
   "source": [
    "If we want to see the "
   ]
  },
  {
   "cell_type": "code",
   "execution_count": null,
   "metadata": {},
   "outputs": [],
   "source": [
    "# plot the closing price 2021 and 2022 together\n",
    "plt.plot(dbbank_df2022['Date'], dbbank_df2022['Close'].pct_change())\n",
    "plt.plot(dbbank_df2021['Date'], dbbank_df2021['Close'].pct_change())\n",
    "plt.title('Deutsche Bank daily return for 2021-2022')\n",
    "plt.xlabel('Date')\n",
    "plt.ylabel('Return')\n",
    "plt.show()"
   ]
  },
  {
   "attachments": {},
   "cell_type": "markdown",
   "metadata": {},
   "source": [
    "Calculating current close and previous closing value"
   ]
  },
  {
   "cell_type": "code",
   "execution_count": null,
   "metadata": {},
   "outputs": [],
   "source": [
    "dbbank_df.tail()"
   ]
  },
  {
   "cell_type": "code",
   "execution_count": null,
   "metadata": {},
   "outputs": [],
   "source": [
    "# Retrieve the current close and previous closing value\n",
    "current_close = dbbank_df['Close'].iloc[-1]\n",
    "previous_close = dbbank_df['Close'].iloc[-2]\n",
    "\n",
    "# Print the values\n",
    "print(\"Current Close:\", current_close)\n",
    "print(\"Previous Close:\", previous_close)\n",
    "print(\"5 Day Back closing Price :\",dbbank_df['Close'].iloc[-6])"
   ]
  },
  {
   "attachments": {},
   "cell_type": "markdown",
   "metadata": {},
   "source": [
    "In this code, we are first selecting the `Close` column from the dataframe using `df['Close']`. We then use the iloc function to select the last row (`iloc[-1]`) and second last row (`iloc[-2]`) from this column to get the current and previous closing values respectively. Finally, we print the values using the `print()` function."
   ]
  },
  {
   "cell_type": "code",
   "execution_count": null,
   "metadata": {},
   "outputs": [],
   "source": [
    "dbbank_df.head()"
   ]
  },
  {
   "attachments": {},
   "cell_type": "markdown",
   "metadata": {},
   "source": [
    "#### 4. Analyze relationships between variables\n",
    "You can use seaborn to create scatter plots and regression plots to explore the relationships between variables. "
   ]
  },
  {
   "cell_type": "code",
   "execution_count": null,
   "metadata": {},
   "outputs": [],
   "source": [
    "sns.set(style='whitegrid')\n",
    "# create a scatter plot of Open vs. Close\n",
    "sns.scatterplot(data=dbbank_df, x='Open', y='Close', color=\"blue\")\n",
    "plt.title('Deutsche Bank Open vs. Close')\n",
    "plt.show()"
   ]
  },
  {
   "cell_type": "code",
   "execution_count": null,
   "metadata": {},
   "outputs": [],
   "source": [
    "# create a scatter plot of Open vs. Close\n",
    "sns.scatterplot(data=dbbank_df, x='High', y='Low')\n",
    "plt.title('Deutsche Bank High vs. Low')\n",
    "plt.show()"
   ]
  },
  {
   "cell_type": "code",
   "execution_count": null,
   "metadata": {},
   "outputs": [],
   "source": [
    "dbbank_df.columns"
   ]
  },
  {
   "cell_type": "code",
   "execution_count": null,
   "metadata": {},
   "outputs": [],
   "source": [
    "# create a scatter plot of Open vs. Close\n",
    "sns.scatterplot(data=dbbank_df, x='High', y='Volume (shares)', color=\"g\")\n",
    "plt.title('Deutsche Bank Open vs. Close')\n",
    "plt.show()"
   ]
  },
  {
   "cell_type": "code",
   "execution_count": null,
   "metadata": {},
   "outputs": [],
   "source": [
    "#Scatter Plot with Regression Line using Seaborn\n",
    "sns.regplot(data=dbbank_df, y='Return', x='Volume (shares)', color = 'g')"
   ]
  },
  {
   "attachments": {},
   "cell_type": "markdown",
   "metadata": {},
   "source": [
    "**Note:** Regression line: A regression line is an estimate of the line that describes the true, but unknown, linear relationship between the two variables.\n",
    "\n",
    "Clearly the two variables doesnot show a strong relationship."
   ]
  },
  {
   "cell_type": "code",
   "execution_count": null,
   "metadata": {},
   "outputs": [],
   "source": [
    "#Scatter Plot with Regression Line using Seaborn\n",
    "sns.regplot(data=dbbank_df, y='High', x='Volume (shares)')"
   ]
  },
  {
   "attachments": {},
   "cell_type": "markdown",
   "metadata": {},
   "source": [
    "In this case, we can say that, wheen volume is high, the share prices go high. "
   ]
  },
  {
   "cell_type": "code",
   "execution_count": null,
   "metadata": {},
   "outputs": [],
   "source": [
    "# Scatter Plot with Marginal Histograms along with linear regression\n",
    "sns.jointplot(data=dbbank_df, x='High', y='Volume (shares)', kind=\"reg\", color='red', marker=\".\")"
   ]
  },
  {
   "attachments": {},
   "cell_type": "markdown",
   "metadata": {},
   "source": [
    "**Note:** \n",
    "\n",
    "*Marginal distribution:* The marginal distribution of a variable is the probability distribution of that variable alone, ignoring the values of any other variables. For two variables, the marginal distribution of one variable can be obtained by summing the joint probability distribution over all values of the other variable.\n",
    "\n",
    "> For example, if X and Y are two random variables with joint probability distribution p(X, Y), the marginal distribution of X is given by p(X) = ∑p(X, Y), where the sum is taken over all possible values of Y. Similarly, the marginal distribution of Y can be obtained by summing the joint distribution over all values of X.\n",
    "\n",
    "> It represents the bi-variate distribution using scatterplot() and the marginal distributions using histplot()."
   ]
  },
  {
   "attachments": {},
   "cell_type": "markdown",
   "metadata": {},
   "source": [
    "#### 5. Rolling statistics\n",
    "You can use pandas to calculate rolling statistics such as rolling mean, rolling standard deviation, and rolling correlation."
   ]
  },
  {
   "attachments": {},
   "cell_type": "markdown",
   "metadata": {},
   "source": [
    "For example, to calculate the 30-day rolling mean of the closing price:"
   ]
  },
  {
   "cell_type": "code",
   "execution_count": null,
   "metadata": {},
   "outputs": [],
   "source": [
    "# Calculate rolling mean with window size 30\n",
    "rolling_mean = dbbank_df['Close'].rolling(window=30).mean()\n",
    "\n",
    "# Calculate rolling standard deviation with window size 30\n",
    "rolling_std = dbbank_df['Close'].rolling(window=30).std()"
   ]
  },
  {
   "cell_type": "code",
   "execution_count": null,
   "metadata": {},
   "outputs": [],
   "source": [
    "# plot the rolling mean over time\n",
    "plt.plot(dbbank_df['Date'], rolling_mean)\n",
    "plt.plot(dbbank_df['Date'], rolling_std)\n",
    "plt.title('Deutsche Bank 30-Day Rolling Mean of Closing Price')\n",
    "plt.xlabel('Date')\n",
    "plt.ylabel('Closing Price')\n",
    "plt.show()"
   ]
  },
  {
   "attachments": {},
   "cell_type": "markdown",
   "metadata": {},
   "source": [
    "6. **Correlation:**\n",
    "\n",
    "    To calculate correlations, we need to calculate the shifted value.\n",
    "\n",
    "    > Shifting the rows in this case can be useful for calculating changes in the 'High' column values between consecutive time periods. By shifting the 'High' column one row downwards, you can compare each value with its previous value and calculate the change.\n",
    "\n",
    "    > For example, if you subtract the shifted 'High' column from the original 'High' column, you get a new column that contains the difference in 'High' values between each consecutive time period. This can be useful for calculating metrics like daily price changes or volatility.\n",
    "\n",
    "    > `dbbank_df['high_change'] = dbbank_df['High'] - dbbank_df['High'].shift()`\n",
    "\n",
    "    > In this code, the shift() method is used to shift the 'High' column one row downwards, so that each value in the 'High' column is now compared with its previous value. Note that the first value in the 'high_change' column will be `NaN`, as there is no previous value to subtract from the first row."
   ]
  },
  {
   "cell_type": "code",
   "execution_count": null,
   "metadata": {},
   "outputs": [],
   "source": [
    "# Create another column with shifted values of 'value' column\n",
    "dbbank_df['shifted_high'] = dbbank_df['High'].shift()\n",
    "dbbank_df['shifted_low'] = dbbank_df['Low'].shift()\n",
    "dbbank_df['shifted_close'] = dbbank_df['Close'].shift()"
   ]
  },
  {
   "attachments": {},
   "cell_type": "markdown",
   "metadata": {},
   "source": [
    "we notice here that Date is used here as index as well as Column. This is due to the fact that we need some times Date as column."
   ]
  },
  {
   "cell_type": "code",
   "execution_count": null,
   "metadata": {},
   "outputs": [],
   "source": [
    "# Calculate rolling correlation with window size 10\n",
    "rollinghigh_corr = dbbank_df['High'].rolling(window=10).corr(dbbank_df['shifted_high'])\n",
    "rollinglow_corr = dbbank_df['Low'].rolling(window=10).corr(dbbank_df['shifted_low'])\n",
    "rollingClose_corr = dbbank_df['Close'].rolling(window=10).corr(dbbank_df['shifted_close'])"
   ]
  },
  {
   "cell_type": "code",
   "execution_count": null,
   "metadata": {},
   "outputs": [],
   "source": [
    "plt.plot(dbbank_df['High'], label='High')\n",
    "plt.plot(rolling_mean, label='Rolling Mean')\n",
    "plt.plot(rolling_std, label='Rolling Std')\n",
    "plt.plot(rollinghigh_corr, label='Correlation High')\n",
    "plt.legend()\n",
    "plt.show()"
   ]
  },
  {
   "attachments": {},
   "cell_type": "markdown",
   "metadata": {},
   "source": [
    "clearly, high value does not correlations show any correlation."
   ]
  },
  {
   "cell_type": "code",
   "execution_count": null,
   "metadata": {},
   "outputs": [],
   "source": [
    "plt.plot(rollinghigh_corr, label='Correlation high with year')\n",
    "plt.plot(rollinglow_corr, label='Correlation low with year')\n",
    "plt.plot(rollingClose_corr, label='Correlation close with year')\n",
    "plt.legend()\n",
    "plt.show()"
   ]
  },
  {
   "cell_type": "code",
   "execution_count": null,
   "metadata": {},
   "outputs": [],
   "source": [
    "plt.plot(dbbank_df['Close'], label='Close')\n",
    "plt.plot(rollingClose_corr, label='Correlation, close')\n",
    "plt.legend()\n",
    "plt.show()"
   ]
  },
  {
   "attachments": {},
   "cell_type": "markdown",
   "metadata": {},
   "source": [
    "#### 6. Moving average convergence divergence (MACD)\n",
    "You can use pandas to calculate the MACD, a popular technical indicator used in trading. For example, to calculate the 12-day and 26-day exponential moving averages and the MACD:"
   ]
  },
  {
   "cell_type": "code",
   "execution_count": null,
   "metadata": {},
   "outputs": [],
   "source": [
    "# calculate 12-day and 26-day exponential moving averages\n",
    "ema12 = dbbank_df['Close'].ewm(span=12, adjust=False).mean()\n",
    "ema26 = dbbank_df['Close'].ewm(span=26, adjust=False).mean()\n",
    "# calculate MACD\n",
    "macd = ema12 - ema26\n",
    "# plot the MACD over time\n",
    "plt.plot(dbbank_df['Date'], macd, label = 'MACD')\n",
    "plt.plot(dbbank_df['Date'], dbbank_df['Close'], label= \"Close\")\n",
    "plt.title('Deutsche Bank 2000-2023')\n",
    "plt.xlabel('Date')\n",
    "plt.ylabel('Values')\n",
    "plt.legend()\n",
    "plt.show()"
   ]
  },
  {
   "attachments": {},
   "cell_type": "markdown",
   "metadata": {},
   "source": [
    "#### 7. Bollinger Bands\n",
    "You can use pandas to calculate Bollinger Bands, another popular technical indicator used in trading."
   ]
  },
  {
   "cell_type": "code",
   "execution_count": null,
   "metadata": {},
   "outputs": [],
   "source": [
    "# calculate 20-day moving average and standard deviation\n",
    "dbbank_df['MA20'] = dbbank_df['Close'].rolling(window=20).mean()\n",
    "dbbank_df['StdDev'] = dbbank_df['Close'].rolling(window=20).std()\n",
    "# calculate upper and lower Bollinger Bands\n",
    "dbbank_df['UpperBand'] = dbbank_df['MA20'] + 2 * dbbank_df['StdDev']\n",
    "dbbank_df['LowerBand'] = dbbank_df['MA20'] - 2 * dbbank_df['StdDev']\n",
    "# plot the Bollinger Bands over time\n",
    "plt.plot(dbbank_df['Date'], dbbank_df['Close'])\n",
    "plt.plot(dbbank_df['Date'], dbbank_df['MA20'])\n",
    "plt.plot(dbbank_df['Date'], dbbank_df['UpperBand'])\n",
    "plt.plot(dbbank_df['Date'], dbbank_df['LowerBand'])\n",
    "plt.title('Deutsche Bank Bollinger Bands')\n",
    "plt.xlabel('Date')\n",
    "plt.ylabel('Closing Price')\n",
    "plt.show()"
   ]
  },
  {
   "attachments": {},
   "cell_type": "markdown",
   "metadata": {},
   "source": [
    "#### 8. Compare with market indices\n",
    "You can use pandas to download and compare the Deutsche Bank share data with market indices such as the DAX, FTSE, or S&P 500. For example, to download the DAX data and compare it with the Deutsche Bank share data:"
   ]
  },
  {
   "attachments": {},
   "cell_type": "markdown",
   "metadata": {},
   "source": [
    "1. aapl_df = apple\n",
    "2. bac_df = Bank of amerika\n",
    "3. citi_df = citibank\n",
    "4. gs_df = Goldman Sachs\n",
    "5. jpm_df = JPMorgan\n",
    "6. ms_df = morgan Stanlay\n",
    "\n",
    "Columns:\n",
    "Date\t| Open\t| High\t| Low\t| Close\t| Adj Close\t| Volume |"
   ]
  },
  {
   "cell_type": "code",
   "execution_count": null,
   "metadata": {},
   "outputs": [],
   "source": [
    "aapl_dfcopy = aapl_df.drop('Adj Close', axis=1)"
   ]
  },
  {
   "cell_type": "code",
   "execution_count": null,
   "metadata": {},
   "outputs": [],
   "source": [
    "bac_dfcopy = bac_df.drop('Adj Close', axis=1)"
   ]
  },
  {
   "cell_type": "code",
   "execution_count": null,
   "metadata": {},
   "outputs": [],
   "source": [
    "citi_dfcopy = citi_df.drop('Adj Close', axis=1)"
   ]
  },
  {
   "cell_type": "code",
   "execution_count": null,
   "metadata": {},
   "outputs": [],
   "source": [
    "gs_dfcopy = gs_df.drop('Adj Close', axis=1)"
   ]
  },
  {
   "cell_type": "code",
   "execution_count": null,
   "metadata": {},
   "outputs": [],
   "source": [
    "jpm_dfcopy = jpm_df.drop('Adj Close', axis=1)"
   ]
  },
  {
   "cell_type": "code",
   "execution_count": null,
   "metadata": {},
   "outputs": [],
   "source": [
    "ms_dfcopy =ms_df.drop('Adj Close', axis=1)"
   ]
  },
  {
   "cell_type": "code",
   "execution_count": null,
   "metadata": {},
   "outputs": [],
   "source": [
    "dbbank_dfnew = dbbank_df.drop(['shifted_high', 'shifted_low', 'shifted_close', 'MA20', 'StdDev', 'UpperBand', 'LowerBand'], axis=1)"
   ]
  },
  {
   "cell_type": "code",
   "execution_count": null,
   "metadata": {},
   "outputs": [],
   "source": [
    "merge1_df = pd.concat([dbbank_dfnew, aapl_dfcopy, bac_dfcopy, citi_dfcopy, gs_dfcopy, jpm_dfcopy, ms_dfcopy], axis=1, ignore_index=True)"
   ]
  },
  {
   "cell_type": "code",
   "execution_count": null,
   "metadata": {},
   "outputs": [],
   "source": [
    "start_date = 2006-01-03\n",
    "end_date = 2023-02-16"
   ]
  },
  {
   "cell_type": "code",
   "execution_count": null,
   "metadata": {},
   "outputs": [],
   "source": [
    "merged2_df = dbbank_df.merge(aapl_dfcopy, on='Date', how='left')\n",
    "merged2_df"
   ]
  },
  {
   "cell_type": "code",
   "execution_count": null,
   "metadata": {},
   "outputs": [],
   "source": [
    "df['Returns_DAX'] = dbbank_df['Close_dax'].pct_change()\n",
    "# plot the daily returns for Deutsche Bank and DAX over time\n",
    "plt.plot(dbbank_df['Date'], dbbank_df['Returns'], label='Deutsche Bank')\n",
    "plt.plot(dbbank_df['Date'], dbbank_df['Returns_DAX'], label='DAX')\n",
    "plt.title('Deutsche Bank vs. DAX Daily Returns')\n",
    "plt.xlabel('Date')\n",
    "plt.ylabel('Returns')\n",
    "plt.legend()\n",
    "plt.show()"
   ]
  },
  {
   "cell_type": "code",
   "execution_count": null,
   "metadata": {},
   "outputs": [],
   "source": []
  },
  {
   "attachments": {},
   "cell_type": "markdown",
   "metadata": {},
   "source": [
    "```\n",
    " # merge DAX data with Deutsche Bank share data\n",
    "df = pd.merge(dbbank_df, aapl_dfcopy, bac_dfcopy, citi_dfcopy, gs_dfcopy, jpm_dfcopy, ms_dfcopy , on='Date', suffixes=('_db', '_dax'))\n",
    "# calculate daily returns for DAX\n",
    "df['Returns_DAX'] = dbbank_df['Close_dax'].pct_change()\n",
    "# plot the daily returns for Deutsche Bank and DAX over time\n",
    "plt.plot(dbbank_df['Date'], dbbank_df['Returns'], label='Deutsche Bank')\n",
    "plt.plot(dbbank_df['Date'], dbbank_df['Returns_DAX'], label='DAX')\n",
    "plt.title('Deutsche Bank vs. DAX Daily Returns')\n",
    "plt.xlabel('Date')\n",
    "plt.ylabel('Returns')\n",
    "plt.legend()\n",
    "plt.show()"
   ]
  },
  {
   "attachments": {},
   "cell_type": "markdown",
   "metadata": {},
   "source": [
    "#### 9. Perform statistical analysis\n",
    "You can use pandas to perform statistical analysis on the Deutsche Bank share data. For example, to calculate the mean, standard deviation, and correlation coefficient of the closing price and volume:"
   ]
  },
  {
   "cell_type": "code",
   "execution_count": null,
   "metadata": {},
   "outputs": [],
   "source": [
    "dbbank_df.head()"
   ]
  },
  {
   "cell_type": "code",
   "execution_count": null,
   "metadata": {},
   "outputs": [],
   "source": [
    "# calculate mean, standard deviation, and correlation coefficient of closing price and volume\n",
    "mean_close = dbbank_df['Close'].mean()\n",
    "std_close = dbbank_df['Close'].std()\n",
    "mean_volume = dbbank_df['Volume (shares)'].mean()\n",
    "std_volume = dbbank_df['Volume (shares)'].std()\n",
    "corr = dbbank_df['Close'].corr(dbbank_df['Volume (shares)'])\n",
    "print('Mean closing price:', mean_close)\n",
    "print('Standard deviation of closing price:', std_close)\n",
    "print('Mean volume:', mean_volume)\n",
    "print('Standard deviation of volume:', std_volume)\n",
    "print('Correlation coefficient of closing price and volume:', corr)"
   ]
  },
  {
   "cell_type": "code",
   "execution_count": null,
   "metadata": {},
   "outputs": [],
   "source": []
  },
  {
   "cell_type": "code",
   "execution_count": null,
   "metadata": {},
   "outputs": [],
   "source": []
  },
  {
   "cell_type": "code",
   "execution_count": null,
   "metadata": {},
   "outputs": [],
   "source": []
  },
  {
   "cell_type": "code",
   "execution_count": null,
   "metadata": {},
   "outputs": [],
   "source": []
  },
  {
   "cell_type": "code",
   "execution_count": null,
   "metadata": {},
   "outputs": [],
   "source": []
  },
  {
   "attachments": {},
   "cell_type": "markdown",
   "metadata": {},
   "source": [
    "# Downloading other share prices"
   ]
  },
  {
   "cell_type": "code",
   "execution_count": null,
   "metadata": {},
   "outputs": [],
   "source": [
    "import pandas_datareader.data as web\n",
    "import matplotlib.pyplot as plt\n",
    "import yfinance as yf"
   ]
  },
  {
   "cell_type": "code",
   "execution_count": null,
   "metadata": {},
   "outputs": [],
   "source": [
    "# Get the data for the stock AAPL\n",
    "aapl_df = yf.download('AAPL','2006-01-01','2023-02-17')\n",
    "aapl_df = aapl_df.reset_index()\n",
    "aapl_df"
   ]
  },
  {
   "cell_type": "code",
   "execution_count": null,
   "metadata": {},
   "outputs": [],
   "source": [
    "# Bank of Amerika\n",
    "bac_df = yf.download('BAC','2006-01-01','2023-02-17')\n",
    "bac_df = bac_df.reset_index()\n",
    "bac_df"
   ]
  },
  {
   "cell_type": "code",
   "execution_count": null,
   "metadata": {},
   "outputs": [],
   "source": [
    "# Citigroup\n",
    "citi_df = yf.download('C','2006-01-01','2023-02-17')\n",
    "citi_df = citi_df.reset_index()\n",
    "citi_df"
   ]
  },
  {
   "cell_type": "code",
   "execution_count": null,
   "metadata": {},
   "outputs": [],
   "source": [
    "# Goldman Sachs\n",
    "gs_df = yf.download('GS','2006-01-01','2023-02-17')\n",
    "gs_df = gs_df.reset_index()\n",
    "gs_df"
   ]
  },
  {
   "cell_type": "code",
   "execution_count": null,
   "metadata": {},
   "outputs": [],
   "source": [
    "# JPMorgan Chase\n",
    "jpm_df = yf.download('JPM','2006-01-01','2023-02-17')\n",
    "jpm_df = jpm_df.reset_index()\n",
    "jpm_df"
   ]
  },
  {
   "cell_type": "code",
   "execution_count": null,
   "metadata": {},
   "outputs": [],
   "source": [
    "# Morgan Stanlay\n",
    "ms_df = yf.download('MS','2006-01-01','2023-02-17')\n",
    "ms_df = ms_df.reset_index()\n",
    "ms_df"
   ]
  },
  {
   "cell_type": "code",
   "execution_count": null,
   "metadata": {},
   "outputs": [],
   "source": [
    "# Wells Fargo\n",
    "wf_df = yf.download('WF','2006-01-01','2023-02-17')\n",
    "wf_df = wf_df.reset_index()\n",
    "wf_df"
   ]
  },
  {
   "cell_type": "code",
   "execution_count": null,
   "metadata": {},
   "outputs": [],
   "source": [
    "# create a dictionary with the dataframes\n",
    "dfs = {'df1': dbbank_df, \n",
    "       'df2': aapl_df,\n",
    "       'df3': bac_df,\n",
    "       'df4': citi_df,\n",
    "       'df5': gs_df,\n",
    "       'df6': jpm_df,\n",
    "       'df7': ms_df}\n",
    "dfs"
   ]
  },
  {
   "cell_type": "code",
   "execution_count": null,
   "metadata": {},
   "outputs": [],
   "source": [
    "dfs.keys()"
   ]
  },
  {
   "attachments": {},
   "cell_type": "markdown",
   "metadata": {},
   "source": [
    "Extra for future reference"
   ]
  },
  {
   "cell_type": "code",
   "execution_count": null,
   "metadata": {},
   "outputs": [],
   "source": [
    "import yfinance as yf\n",
    "import pandas as pd\n",
    "\n",
    "# Set the ticker symbol for Deutsche Bank\n",
    "tickerdb = 'DB'\n",
    "tickerbac = 'BAC'\n",
    "\n",
    "# Download the live share price data for Deutsche Bank\n",
    "db_stock_data = yf.download([tickerdb,tickerbac], period='1d', interval='1m')\n",
    "\n",
    "# Download the live share price data for Deutsche Bank\n",
    "# bac_stock_data = yf.download(tickerbac, period='1d', interval='1m')\n",
    "\n",
    "# Create a pandas dataframe from the stock data\n",
    "db_df = pd.DataFrame(db_stock_data)\n",
    "\n",
    "# Print the dataframe to verify the data has been imported\n",
    "db_df"
   ]
  },
  {
   "attachments": {},
   "cell_type": "markdown",
   "metadata": {},
   "source": [
    "**Extra;**\n",
    "\n",
    "The below code shows how to get data for AAPL from 2016 to 2019 and plot the adjusted closing price of the data.\n",
    "\n",
    "https://towardsdatascience.com/historical-stock-price-data-in-python-a0b6dc826836"
   ]
  },
  {
   "cell_type": "code",
   "execution_count": null,
   "metadata": {},
   "outputs": [],
   "source": [
    "# Get the data for the stock AAPL\n",
    "data = yf.download('AAPL','2016-01-01','2019-08-01')\n",
    "\n",
    "# Import the plotting library\n",
    "import matplotlib.pyplot as plt\n",
    "%matplotlib inline\n",
    "\n",
    "# Plot the close price of the AAPL\n",
    "data['Adj Close'].plot()\n",
    "plt.show()# Get the data for the stock AAPL\n",
    "data = yf.download('AAPL','2016-01-01','2019-08-01')\n",
    "\n",
    "# Import the plotting library\n",
    "import matplotlib.pyplot as plt\n",
    "%matplotlib inline\n",
    "\n",
    "# Plot the close price of the AAPL\n",
    "data['Adj Close'].plot()\n",
    "plt.show()"
   ]
  },
  {
   "attachments": {},
   "cell_type": "markdown",
   "metadata": {},
   "source": [
    "Data for multiple stocks:\n",
    "\n",
    "In the below code, we will fetch the data of multiple stocks and store it in a dataframe data. Then we will calculate the daily returns and plot the cumulative returns of all the stock prices using matplotlib package."
   ]
  },
  {
   "cell_type": "code",
   "execution_count": null,
   "metadata": {},
   "outputs": [],
   "source": [
    "tickers_list = ['AAPL', 'WMT', 'IBM', 'MU', 'BA', 'AXP']\n",
    "\n",
    "# Fetch the data\n",
    "import yfinance as yf\n",
    "data = yf.download(tickers_list,'2015-1-1')['Adj Close']\n",
    "\n",
    "# Print first 5 rows of the data\n",
    "print(data.head())"
   ]
  },
  {
   "cell_type": "code",
   "execution_count": null,
   "metadata": {},
   "outputs": [],
   "source": [
    "# Plot all the close prices\n",
    "((data.pct_change()+1).cumprod()).plot(figsize=(10, 7))\n",
    "\n",
    "# Show the legend\n",
    "plt.legend()\n",
    "\n",
    "# Define the label for the title of the figure\n",
    "plt.title(\"Returns\", fontsize=16)\n",
    "\n",
    "# Define the labels for x-axis and y-axis\n",
    "plt.ylabel('Cumulative Returns', fontsize=14)\n",
    "plt.xlabel('Year', fontsize=14)\n",
    "\n",
    "# Plot the grid lines\n",
    "plt.grid(which=\"major\", color='k', linestyle='-.', linewidth=0.5)\n",
    "plt.show()"
   ]
  },
  {
   "attachments": {},
   "cell_type": "markdown",
   "metadata": {},
   "source": [
    "Minute level data:\n",
    "\n",
    "Through yfinance, you can also fetch the data of minute frequency. You can download for other frequency by just tweaking the interval parameter on line no 8 below. Following values are supported in the interval: 1m, 5m, 15m, 30m, 60m."
   ]
  },
  {
   "cell_type": "code",
   "execution_count": null,
   "metadata": {},
   "outputs": [],
   "source": [
    "# Import package\n",
    "import yfinance as yf\n",
    "\n",
    "# Get the data\n",
    "data = yf.download(tickers=\"MSFT\", period=\"5d\", interval=\"1m\")\n",
    "\n",
    "# Print the data\n",
    "print(data.tail())"
   ]
  },
  {
   "attachments": {},
   "cell_type": "markdown",
   "metadata": {},
   "source": [
    "You can analyze this data, create a trading strategy and analyze the performance of the strategy using the pyfolio package. It computes the Sharpe ratio, Sortino ratio, maximum drawdowns and many other metrics."
   ]
  },
  {
   "attachments": {},
   "cell_type": "markdown",
   "metadata": {},
   "source": [
    "## Conclusion\n",
    "\n",
    "Through data analysis, Deutsche Bank is able to identify potential risks associated with its investment products and take appropriate measures to manage those risks. This helps the bank make informed decisions about which products to invest in and which to avoid, ultimately reducing the overall risk of its investment portfolio."
   ]
  },
  {
   "cell_type": "code",
   "execution_count": null,
   "metadata": {},
   "outputs": [],
   "source": []
  },
  {
   "attachments": {},
   "cell_type": "markdown",
   "metadata": {},
   "source": [
    "# Reference\n",
    "\n",
    "1. https://investor-relations.db.com/share/share-information/historical-share-prices\n",
    "2. https://www.zaner.com/3.0/education/technicalstudies/MA.asp#top\n",
    "3. https://www.linkedin.com/pulse/stock-data-analysis-using-python-sakshi-grover/ (have to do some of these)"
   ]
  },
  {
   "cell_type": "markdown",
   "metadata": {},
   "source": []
  },
  {
   "cell_type": "markdown",
   "metadata": {},
   "source": []
  }
 ],
 "metadata": {
  "kernelspec": {
   "display_name": "Python 3",
   "language": "python",
   "name": "python3"
  },
  "language_info": {
   "codemirror_mode": {
    "name": "ipython",
    "version": 3
   },
   "file_extension": ".py",
   "mimetype": "text/x-python",
   "name": "python",
   "nbconvert_exporter": "python",
   "pygments_lexer": "ipython3",
   "version": "3.11.0"
  },
  "orig_nbformat": 4,
  "vscode": {
   "interpreter": {
    "hash": "1a1af0ee75eeea9e2e1ee996c87e7a2b11a0bebd85af04bb136d915cefc0abce"
   }
  }
 },
 "nbformat": 4,
 "nbformat_minor": 2
}
