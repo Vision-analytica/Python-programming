{
 "cells": [
  {
   "attachments": {},
   "cell_type": "markdown",
   "metadata": {},
   "source": [
    "# Google Colab\n",
    "\n",
    "- Google Colaboratory is a free Jupyter notebook environment that runs on Google’s cloud servers, letting the user leverage backend hardware like GPUs and TPUs.\n",
    "- Colab comes with (almost) all the setup you need to start coding, but what it doesn’t have out of the box is your datasets! How do you access your data from within Colab?\n",
    "- To load google drive, follow following\n",
    "\n",
    "    * `from google.colab import drive`\n",
    "    \n",
    "    * `drive.mount('/content/gdrive')`\n",
    "\n",
    "     At the second step, you will be asked to login into the google drive to provide excess to colab."
   ]
  },
  {
   "attachments": {},
   "cell_type": "markdown",
   "metadata": {},
   "source": [
    "## Directory and file operations in Google Colab\n",
    "\n",
    "1. To find the path of a file\n",
    "    ```\n",
    "    %pwd\n",
    "    ```\n",
    "2. To find all available file in a directory\n",
    "    ```\n",
    "    %ls\n",
    "    ```\n",
    "3. Lets suppose, you have a directory 'sample-folder' and you want to go inside to explore available files,\n",
    "    ```\n",
    "    %cd sample-folder\n",
    "    ```\n",
    "4. To check about this directory\n",
    "    ```\n",
    "    !head -5 README.md\n",
    "    ```\n",
    "5. To create a data file\n",
    "    ```\n",
    "    !echo \"Sample file\" > sample_file.txt\n",
    "    ```\n",
    "6. To open a file \n",
    "    ```\n",
    "    %cat sample_file.txt\n",
    "    ```"
   ]
  },
  {
   "attachments": {},
   "cell_type": "markdown",
   "metadata": {},
   "source": [
    "## How to upload files to and download files from Google Colab?\n",
    "\n",
    "Since a Colab notebook is hosted on Google’s cloud servers, there’s no direct access to files on your local drive (unlike a notebook hosted on your machine) or any other environment by default.\n",
    "\n",
    "1. **Accessing GitHub from Google Colab:**\n",
    "    - **Clone a GitHub repository:** You can clone a GitHub repository into your Colab environment in the same way as you would in your local machine, using git clone. Once the repository is cloned, refresh the file-explorer to browse through its contents.\n",
    "\n",
    "        ```\n",
    "        !git clone https://github.com/arunsinp/Python-programming.git\n",
    "        ```\n",
    "    \n",
    "    - **Load individual files directly from GitHub:** In case you just have to work with a few files rather than the entire repository, you can load them directly from GitHub without needing to clone the repository to Colab.\n",
    "\n",
    "        To do this:\n",
    "\n",
    "        - click on the file in the repository, \n",
    "        - click on View Raw,\n",
    "        - copy the URL of the raw file, \n",
    "        - use this URL as the location of your file.\n",
    "        \n",
    "2. **Accessing Local File System to Google Colab:**\n",
    "\n",
    "    You can read from or write to your local file system either using the file-explorer, or Python code:\n",
    "\n",
    "    Access local files through the file-explorer\n",
    "    Uploading files from local file system through file-explorer\n",
    "    You can either use the upload option at the top of the file-explorer pane to upload any file(s) from your local file system to Colab in the present working directory. \n",
    "\n",
    "    To upload files directly to a subdirectory you need to:\n",
    "\n",
    "    1. Click on the three dots visible when you hover above the directory \n",
    "\n",
    "    2. Select the “upload” option."
   ]
  },
  {
   "cell_type": "code",
   "execution_count": 1,
   "metadata": {},
   "outputs": [
    {
     "data": {
      "text/plain": [
       "'/Users/arunp77/Documents/Data-science/Python/Python-programming/Python-fundamental'"
      ]
     },
     "execution_count": 1,
     "metadata": {},
     "output_type": "execute_result"
    }
   ],
   "source": [
    "%pwd"
   ]
  },
  {
   "cell_type": "code",
   "execution_count": 2,
   "metadata": {},
   "outputs": [
    {
     "name": "stdout",
     "output_type": "stream",
     "text": [
      "0.first-steps-with-python.ipynb\n",
      "1.python-variables-and-data-types.ipynb\n",
      "2.python-conditionals-and-loops.ipynb\n",
      "3. python-functions-and-scope.ipynb\n",
      "NUMPY.ipynb\n",
      "ReadMe.md\n",
      "google-colab-help.ipynb\n",
      "python-os-and-filesystem.ipynb\n"
     ]
    }
   ],
   "source": [
    "%ls"
   ]
  },
  {
   "attachments": {},
   "cell_type": "markdown",
   "metadata": {},
   "source": [
    "[Reference](https://neptune.ai/blog/google-colab-dealing-with-files)"
   ]
  }
 ],
 "metadata": {
  "kernelspec": {
   "display_name": "Python 3",
   "language": "python",
   "name": "python3"
  },
  "language_info": {
   "codemirror_mode": {
    "name": "ipython",
    "version": 3
   },
   "file_extension": ".py",
   "mimetype": "text/x-python",
   "name": "python",
   "nbconvert_exporter": "python",
   "pygments_lexer": "ipython3",
   "version": "3.11.0"
  },
  "orig_nbformat": 4,
  "vscode": {
   "interpreter": {
    "hash": "1a1af0ee75eeea9e2e1ee996c87e7a2b11a0bebd85af04bb136d915cefc0abce"
   }
  }
 },
 "nbformat": 4,
 "nbformat_minor": 2
}
