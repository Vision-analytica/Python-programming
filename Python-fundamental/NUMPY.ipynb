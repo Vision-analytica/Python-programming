{
 "cells": [
  {
   "cell_type": "code",
   "execution_count": null,
   "metadata": {},
   "outputs": [],
   "source": []
  },
  {
   "attachments": {},
   "cell_type": "markdown",
   "metadata": {},
   "source": [
    "# Numpy (Numerical Python)\n",
    "\n",
    "NumPy is an open source Python library that’s used in almost every field of science and engineering. It’s the universal standard for working with numerical data in Python, and it’s at the core of the scientific Python and PyData ecosystems. \n",
    "\n",
    "The NumPy library contains multidimensional array and matrix data structures. \n",
    "\n",
    "## Installing NumPy\n",
    "The only prerequisite for installing NumPy is Python itself.\n",
    "It is normally comes with [Anaconda Python distribution](https://www.anaconda.com/products/distribution). You can also install it separetly (if it is not installed in your installed distribution) conda, or with pip, or with a package manager on macOS and Linux, or from [Numpy source](https://numpy.org/devdocs/user/building.html).\n",
    "\n",
    "If you use conda, you can install NumPy from the defaults or conda-forge channels:\n",
    "\n",
    "```\n",
    "# Best practice, use an environment rather than install in the base env\n",
    "conda create -n my-env\n",
    "conda activate my-env\n",
    "# If you want to install from conda-forge\n",
    "conda config --env --add channels conda-forge\n",
    "# The actual install command\n",
    "conda install numpy\n",
    "```\n",
    "\n",
    "If you use pip, you can install NumPy with:\n",
    "```\n",
    "pip install numpy\n",
    "```\n",
    "\n",
    "## Importing NumPy\n",
    "To access NumPy and its functions import it in your Python code like this:\n",
    "```\n",
    "import numpy as np\n",
    "```\n",
    "## Difference between a Python list and a NumPy array\n",
    "\n",
    " - NumPy gives you an enormous range of fast and efficient ways of creating arrays and manipulating numerical data inside them. \n",
    " - While a Python list can contain different data types within a single list, all of the elements in a NumPy array should be homogeneous. \n",
    " - The mathematical operations that are meant to be performed on arrays would be extremely inefficient if the arrays weren’t homogeneous.\n",
    " - NumPy arrays are faster and more compact than Python lists. \n",
    " - An array consumes less memory and is convenient to use. \n",
    " - NumPy uses much less memory to store data and it provides a mechanism of specifying the data types. This allows the code to be optimized even further.\n",
    "\n"
   ]
  }
 ],
 "metadata": {
  "language_info": {
   "name": "python"
  },
  "orig_nbformat": 4
 },
 "nbformat": 4,
 "nbformat_minor": 2
}
